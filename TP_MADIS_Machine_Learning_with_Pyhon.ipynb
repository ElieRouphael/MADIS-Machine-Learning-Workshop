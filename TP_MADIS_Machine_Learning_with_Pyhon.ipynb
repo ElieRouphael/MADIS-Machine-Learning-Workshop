{
 "cells": [
  {
   "cell_type": "code",
   "execution_count": null,
   "metadata": {
    "id": "vew0QWYelx0j"
   },
   "outputs": [],
   "source": [
    "import warnings\n",
    "warnings.filterwarnings(\"ignore\")"
   ]
  },
  {
   "cell_type": "markdown",
   "metadata": {
    "id": "lrtOr7JNaCC9"
   },
   "source": [
    "# **Libraries**\n",
    "\n",
    "Following are some important libraries for machine Learning\n",
    "1. **Numpy** ----------> Supports N-dimensional computation\n",
    "2. **Pandas** ----------> Data analysis\n",
    "3. **Matplotlib** and **Seaborn** ---------->   Data Visulization\n",
    "4. **Scikit Learn** and **scipy** ----------> Framework for Classic Machine learning Algorithms (Linear Regression, Random Forest ,Support Vector Machines)\n",
    "5. **TensorFlow**, **Keras** and **Pytorch**  ----------> Framework for deep learning Algorithms (CNNS, RNNs and Transformwes).*Note that keras has been integrated with tensorflow.*\n",
    "\n",
    "You can install  with following commands: pip install *'Library name'* or Conda install -c anaconda '*Library name*'\n",
    "\n",
    "\n"
   ]
  },
  {
   "cell_type": "markdown",
   "metadata": {
    "id": "vdcSqu_Mr6nF"
   },
   "source": [
    "  # **Lab 1**\n",
    "\n",
    "---\n",
    "\n"
   ]
  },
  {
   "cell_type": "markdown",
   "metadata": {
    "id": "NK6rbO0zMu7m"
   },
   "source": [
    "# **Basic machine Learning**\n",
    "\n",
    "* Supervised Mahcine learning\n",
    "  1. Regression (Linear Regression)\n",
    "  2. Classificaiton (K-Neighbours)\n",
    "\n",
    "* Unsupervised Machine Learning\n",
    "\n",
    "  1. Clustring (k-Means)\n",
    "  2. Dimentionality Reduction (PCA)\n",
    "\n",
    "  For more iformation refer to the [book](https://www.deeplearningbook.org/) by Ian Goodfellow\n"
   ]
  },
  {
   "cell_type": "markdown",
   "metadata": {
    "id": "7BQPjvSUeAW8"
   },
   "source": [
    "# **Linear Regression**\n",
    "The following are a set of methods intended for regression in which the target value is expected to be a linear combination of the features. In mathematical notation it can be expressed as follow:\n",
    "\n",
    "$ y= \\textbf{xw}+b$\n",
    "\n",
    "LinearRegression will take in its fit method arrays X, y and will store the coefficients\n",
    " of the linear model in its coef_ member (w)"
   ]
  },
  {
   "cell_type": "code",
   "execution_count": null,
   "metadata": {
    "colab": {
     "base_uri": "https://localhost:8080/",
     "height": 430
    },
    "executionInfo": {
     "elapsed": 768,
     "status": "ok",
     "timestamp": 1745970878314,
     "user": {
      "displayName": "Elie Rouphael",
      "userId": "00135125486090718159"
     },
     "user_tz": -120
    },
    "id": "0UrsyBFlcwKZ",
    "outputId": "0d559854-8c17-4e90-a162-e0da96bdbefb"
   },
   "outputs": [],
   "source": [
    "import matplotlib.pyplot as plt\n",
    "\n",
    "# data prepearation\n",
    "x = [5,7,8,7,2,17,2,9,4,11,12,9,6]\n",
    "y = [99,86,87,88,111,86,103,87,94,78,77,85,86]\n",
    "\n",
    "#plot the data\n",
    "plt.scatter(x, y)\n",
    "plt.show()"
   ]
  },
  {
   "cell_type": "code",
   "execution_count": null,
   "metadata": {
    "colab": {
     "base_uri": "https://localhost:8080/",
     "height": 430
    },
    "executionInfo": {
     "elapsed": 1260,
     "status": "ok",
     "timestamp": 1745970883600,
     "user": {
      "displayName": "Elie Rouphael",
      "userId": "00135125486090718159"
     },
     "user_tz": -120
    },
    "id": "ZqNdvlsHgVeH",
    "outputId": "14615fcf-980d-4ace-9a54-3e202a714af0"
   },
   "outputs": [],
   "source": [
    "import matplotlib.pyplot as plt\n",
    "from scipy import stats\n",
    "\n",
    "#train a Linear regression model and save its slope and intercept\n",
    "slope, intercept,_,_,_ = stats.linregress(x, y)\n",
    "\n",
    "def myfunc(x):\n",
    "  return slope * x + intercept\n",
    "\n",
    "mymodel = list(map(myfunc, x))\n",
    "\n",
    "plt.scatter(x, y)\n",
    "plt.plot(x, mymodel)\n",
    "plt.show()"
   ]
  },
  {
   "cell_type": "markdown",
   "metadata": {
    "id": "R_TMDz-Uiovi"
   },
   "source": [
    "**Lets work with a real-life example.**\n",
    "\n",
    "First download the data here:[ data.csv](https://www.w3schools.com/python/data.csv).\n",
    "The data contains volume and weight, co2 emission of vehicles. We want to predict the co2 emission using weight of a vehicle.  \n",
    "\n",
    "Alternatively, you can download the data for the whole course [here](https://drive.google.com/drive/folders/1_hropUYFfOVznDeaqnADIfdkmklAJJtV?usp=sharing)"
   ]
  },
  {
   "cell_type": "code",
   "execution_count": null,
   "metadata": {
    "colab": {
     "base_uri": "https://localhost:8080/"
    },
    "executionInfo": {
     "elapsed": 18663,
     "status": "ok",
     "timestamp": 1745974954146,
     "user": {
      "displayName": "Elie Rouphael",
      "userId": "00135125486090718159"
     },
     "user_tz": -120
    },
    "id": "5OVtGi5oI64Z",
    "outputId": "098f8df3-2220-4386-e256-2d7e3db59271"
   },
   "outputs": [],
   "source": [
    "from google.colab import drive\n",
    "drive.mount('/content/drive')"
   ]
  },
  {
   "cell_type": "code",
   "execution_count": null,
   "metadata": {
    "colab": {
     "base_uri": "https://localhost:8080/"
    },
    "executionInfo": {
     "elapsed": 3316,
     "status": "ok",
     "timestamp": 1745970925292,
     "user": {
      "displayName": "Elie Rouphael",
      "userId": "00135125486090718159"
     },
     "user_tz": -120
    },
    "id": "RklgZlvY6EGg",
    "outputId": "f9b250b7-e3a6-40e0-f0c2-2a012f0d8a58"
   },
   "outputs": [],
   "source": [
    "import pandas\n",
    "from sklearn import linear_model\n",
    "\n",
    "#lets load the data and have a look at the stats\n",
    "df = pandas.read_csv(\"/content/drive/MyDrive/Colab Notebooks/MADIS_Machine_Learning_Workshop/Datasets_new/data.csv\")\n",
    "\n",
    "print(df.describe().round(2).T)"
   ]
  },
  {
   "cell_type": "code",
   "execution_count": null,
   "metadata": {
    "colab": {
     "base_uri": "https://localhost:8080/"
    },
    "executionInfo": {
     "elapsed": 49,
     "status": "ok",
     "timestamp": 1745973216059,
     "user": {
      "displayName": "Elie Rouphael",
      "userId": "00135125486090718159"
     },
     "user_tz": -120
    },
    "id": "RA1t1k7Gg-10",
    "outputId": "dac4fdad-4154-4572-98d8-c76405f29cbf"
   },
   "outputs": [],
   "source": [
    "\n",
    "# select features\n",
    "X = df[['Weight']]\n",
    "y = df['CO2']\n",
    "\n",
    "# create a  linear model and train it\n",
    "regr = linear_model.LinearRegression()\n",
    "regr.fit(X, y)\n",
    "\n",
    "#predict the CO2 emission of a car where the weight is 2300kg, and the volume is 1300cm3:\n",
    "predictedCO2 = regr.predict([[2300]])\n",
    "\n",
    "print(predictedCO2)\n",
    "print(f' coefficients {regr.coef_}')"
   ]
  },
  {
   "cell_type": "code",
   "execution_count": null,
   "metadata": {
    "executionInfo": {
     "elapsed": 3,
     "status": "ok",
     "timestamp": 1745973217882,
     "user": {
      "displayName": "Elie Rouphael",
      "userId": "00135125486090718159"
     },
     "user_tz": -120
    },
    "id": "QNw9Ok-su3vY"
   },
   "outputs": [],
   "source": [
    "#lets see how well the line is fit\n",
    "import numpy as np\n",
    "def print_line(x):\n",
    "  return regr.coef_*x + regr.intercept_\n",
    "\n",
    "line=print_line(X)"
   ]
  },
  {
   "cell_type": "code",
   "execution_count": null,
   "metadata": {
    "colab": {
     "base_uri": "https://localhost:8080/",
     "height": 430
    },
    "executionInfo": {
     "elapsed": 142,
     "status": "ok",
     "timestamp": 1745973218752,
     "user": {
      "displayName": "Elie Rouphael",
      "userId": "00135125486090718159"
     },
     "user_tz": -120
    },
    "id": "ShI2U3V9xIm8",
    "outputId": "769cf838-e3c7-46ef-e88c-d29c4c94cbf4"
   },
   "outputs": [],
   "source": [
    "plt.scatter(X, y)\n",
    "plt.plot(X, line)\n",
    "plt.show()"
   ]
  },
  {
   "cell_type": "markdown",
   "metadata": {
    "id": "wxxuhKTul933"
   },
   "source": [
    "**Result Explained**\n",
    "\n",
    "The result array represents the coefficient values of weight and volume.\n",
    "\n",
    "Weight: 0.00755095\n",
    "\n",
    "\n",
    "These value tell us that if the weight increase by 1kg, the CO2 emission increases by 0.00755095g.\n",
    "\n",
    "I think that is a fair guess, but let test it!\n",
    "\n",
    "We have already predicted that if a car weighs 2300kg, the CO2 emission will be approximately 107g.\n",
    "\n",
    "What if we increase the weight to 1000kg?\n",
    "\n",
    "# **Exercise**:  \n",
    "\n",
    "1. Copy the example, but change the weight from 2300 to 3300.\n",
    "2. Try changing the independent feature.\n",
    "3. Try multivariate linear regression i.e., multiple independent varaibale. Before that check the correlation between input variables. Hint, use X.corr()\n",
    "4. Plot feature importance of each independent variable.\n",
    "5. Apply linear regression to an application of your interest."
   ]
  },
  {
   "cell_type": "code",
   "execution_count": null,
   "metadata": {
    "colab": {
     "base_uri": "https://localhost:8080/"
    },
    "executionInfo": {
     "elapsed": 41,
     "status": "ok",
     "timestamp": 1745971863388,
     "user": {
      "displayName": "Elie Rouphael",
      "userId": "00135125486090718159"
     },
     "user_tz": -120
    },
    "id": "K69oxbjv-088",
    "outputId": "830952ac-bd37-43ad-9333-7baaf731cc1c"
   },
   "outputs": [],
   "source": [
    "# select features\n",
    "X = df[['Weight']]\n",
    "y = df['CO2']\n",
    "\n",
    "# create a  linear model and train it\n",
    "regr = linear_model.LinearRegression()\n",
    "regr.fit(X, y)\n",
    "\n",
    "#predict the CO2 emission of a car where the weight is 3300kg, and the volume is 1300cm3:\n",
    "predictedCO2 = regr.predict([[3300]])\n",
    "\n",
    "print(predictedCO2)\n",
    "print(f' coefficients {regr.coef_}')"
   ]
  },
  {
   "cell_type": "code",
   "execution_count": null,
   "metadata": {
    "colab": {
     "base_uri": "https://localhost:8080/",
     "height": 613
    },
    "executionInfo": {
     "elapsed": 654,
     "status": "ok",
     "timestamp": 1745973803931,
     "user": {
      "displayName": "Elie Rouphael",
      "userId": "00135125486090718159"
     },
     "user_tz": -120
    },
    "id": "-WoOkyDW_xBe",
    "outputId": "4c966a1f-df34-4bc4-c97f-dcca3953b716"
   },
   "outputs": [],
   "source": [
    "# select features\n",
    "X = df[['Volume', 'Weight']]\n",
    "y = df['CO2']\n",
    "\n",
    "# create a  linear model and train it\n",
    "regr = linear_model.LinearRegression()\n",
    "regr.fit(X, y)\n",
    "\n",
    "print(X.corr())\n",
    "print(f' coefficients {regr.coef_}')\n",
    "\n",
    "predictedCO2 = regr.predict([[1300, 2300]])\n",
    "\n",
    "print(predictedCO2)\n",
    "\n",
    "line=print_line(X)\n",
    "\n",
    "# Plot Weight vs CO2 with partial regression line\n",
    "plt.scatter(X['Weight'], y)\n",
    "plt.plot(X['Weight'], line['Weight'])\n",
    "plt.title('Weight vs CO2 (partial relationship)')\n",
    "plt.xlabel('Weight')\n",
    "plt.ylabel('CO2')\n",
    "plt.show()"
   ]
  },
  {
   "cell_type": "code",
   "execution_count": null,
   "metadata": {
    "colab": {
     "base_uri": "https://localhost:8080/",
     "height": 472
    },
    "executionInfo": {
     "elapsed": 246,
     "status": "ok",
     "timestamp": 1745973556228,
     "user": {
      "displayName": "Elie Rouphael",
      "userId": "00135125486090718159"
     },
     "user_tz": -120
    },
    "id": "1SOfz0YlH3QY",
    "outputId": "0b3d0538-3f7c-4ab5-e1c8-5c314dac44d1"
   },
   "outputs": [],
   "source": [
    "# Plot Volume vs CO2 with partial regression line\n",
    "plt.scatter(X['Volume'], y)\n",
    "plt.plot(X['Volume'], line['Volume'])\n",
    "plt.title('Volume vs CO2 (partial relationship)')\n",
    "plt.xlabel('Volume')\n",
    "plt.ylabel('CO2')\n",
    "plt.show()"
   ]
  },
  {
   "cell_type": "code",
   "execution_count": null,
   "metadata": {
    "colab": {
     "base_uri": "https://localhost:8080/",
     "height": 415
    },
    "executionInfo": {
     "elapsed": 502,
     "status": "ok",
     "timestamp": 1745973707783,
     "user": {
      "displayName": "Elie Rouphael",
      "userId": "00135125486090718159"
     },
     "user_tz": -120
    },
    "id": "4ju4eU7TItKV",
    "outputId": "469badf1-b6ca-4c4c-c212-aab057628c1c"
   },
   "outputs": [],
   "source": [
    "from mpl_toolkits.mplot3d import Axes3D\n",
    "\n",
    "# Create 3D plot\n",
    "fig = plt.figure()\n",
    "ax = fig.add_subplot(111, projection='3d')\n",
    "\n",
    "ax.scatter(X['Volume'], X['Weight'], y, c='blue', marker='o')\n",
    "\n",
    "vol_range = np.linspace(X['Volume'].min(), X['Volume'].max(), 10)\n",
    "weight_range = np.linspace(X['Weight'].min(), X['Weight'].max(), 10)\n",
    "Vol, Weight = np.meshgrid(vol_range, weight_range)\n",
    "CO2 = regr.coef_[0] * Vol + regr.coef_[1] * Weight + regr.intercept_\n",
    "\n",
    "ax.plot_surface(Vol, Weight, CO2, alpha=0.5)\n",
    "\n",
    "ax.set_xlabel('Volume')\n",
    "ax.set_ylabel('Weight')\n",
    "ax.set_zlabel('CO2')\n",
    "plt.show()"
   ]
  },
  {
   "cell_type": "markdown",
   "metadata": {
    "id": "AskSCO4n5JEY"
   },
   "source": [
    "## **Lab 2**\n",
    "\n",
    "**Find Minima and Maxima**"
   ]
  },
  {
   "cell_type": "code",
   "execution_count": null,
   "metadata": {
    "colab": {
     "base_uri": "https://localhost:8080/",
     "height": 487
    },
    "executionInfo": {
     "elapsed": 2995,
     "status": "ok",
     "timestamp": 1745973840962,
     "user": {
      "displayName": "Elie Rouphael",
      "userId": "00135125486090718159"
     },
     "user_tz": -120
    },
    "id": "qTpFZJKb5MBl",
    "outputId": "4e6c3521-1888-4bda-950c-0fa1ccea7b03"
   },
   "outputs": [],
   "source": [
    "from sympy.plotting import plot\n",
    "from sympy import Symbol, sin\n",
    "x = Symbol('x')\n",
    "plot((x**5 -30*x**3 + 50*x) , (x, -5, 5))\n",
    "\n",
    "from sympy import Symbol, solve, Derivative\n",
    "x = Symbol('x')\n",
    "f = x**5 - 30*x**3 + 50*x\n",
    "d1 = Derivative(f, x).doit()\n",
    "\n"
   ]
  },
  {
   "cell_type": "markdown",
   "metadata": {
    "id": "fVYXaqur5WzI"
   },
   "source": [
    "Now that we have calculated the first-order derivative,  𝑓′(𝑥)\n",
    ", we’ll solve  𝑓′(𝑥)=0\n",
    "  to find the critical points:"
   ]
  },
  {
   "cell_type": "code",
   "execution_count": null,
   "metadata": {
    "colab": {
     "base_uri": "https://localhost:8080/"
    },
    "executionInfo": {
     "elapsed": 63,
     "status": "ok",
     "timestamp": 1745973843719,
     "user": {
      "displayName": "Elie Rouphael",
      "userId": "00135125486090718159"
     },
     "user_tz": -120
    },
    "id": "RPkYDWcr5gkZ",
    "outputId": "7bb679bc-14a8-49c2-d010-5370a32822fc"
   },
   "outputs": [],
   "source": [
    "critical_points = solve(d1)\n",
    "critical_points\n"
   ]
  },
  {
   "cell_type": "markdown",
   "metadata": {
    "id": "SayVBcZK5o3-"
   },
   "source": [
    "The numbers in the list critical_points shown here correspond to the points  𝐵\n",
    " ,  𝐶\n",
    " ,  𝐴\n",
    " , and  𝐷\n",
    " , respectively. We will create labels to refer to these points, and then we can use the labels in our commands:\n",
    "\n",
    " ![Screenshot 2023-04-04 at 08.35.56.png](data:image/png;base64,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)"
   ]
  },
  {
   "cell_type": "code",
   "execution_count": null,
   "metadata": {
    "executionInfo": {
     "elapsed": 48,
     "status": "ok",
     "timestamp": 1745973846943,
     "user": {
      "displayName": "Elie Rouphael",
      "userId": "00135125486090718159"
     },
     "user_tz": -120
    },
    "id": "6r9Lcuq15x8q"
   },
   "outputs": [],
   "source": [
    "\n",
    "A = critical_points[2]\n",
    "B = critical_points[0]\n",
    "C = critical_points[1]\n",
    "D = critical_points[3]"
   ]
  },
  {
   "cell_type": "markdown",
   "metadata": {
    "id": "z9obzzOj57dR"
   },
   "source": [
    "Now, we find the value of the second derivative by substituting the value of each of the critical points one by one in place of  𝑥\n",
    " .\n",
    "\n",
    "1. If the resulting value is less than  0, the point is a local maximum;\n",
    "2. if the value is greater than  0, it’s a local minimum.\n",
    "3. If the resulting value is  0\n",
    " , then the test is inconclusive and we cannot deduce anything about whether the critical point  𝑥\n",
    "  is a local minimum, maximum, or neither.\n",
    "  "
   ]
  },
  {
   "cell_type": "code",
   "execution_count": null,
   "metadata": {
    "colab": {
     "base_uri": "https://localhost:8080/",
     "height": 39
    },
    "executionInfo": {
     "elapsed": 7,
     "status": "ok",
     "timestamp": 1745973848068,
     "user": {
      "displayName": "Elie Rouphael",
      "userId": "00135125486090718159"
     },
     "user_tz": -120
    },
    "id": "QVwSwMNz50_-",
    "outputId": "e3a4889a-0e39-4f2d-da0b-7832b175cd1f"
   },
   "outputs": [],
   "source": [
    "d2 = Derivative(f, x, 2).doit()\n",
    "d2"
   ]
  },
  {
   "cell_type": "code",
   "execution_count": null,
   "metadata": {
    "colab": {
     "base_uri": "https://localhost:8080/"
    },
    "executionInfo": {
     "elapsed": 23,
     "status": "ok",
     "timestamp": 1745973849146,
     "user": {
      "displayName": "Elie Rouphael",
      "userId": "00135125486090718159"
     },
     "user_tz": -120
    },
    "id": "Ss_3HgSP53kc",
    "outputId": "ba88d0b7-0b99-438b-ec95-a654af1a6343"
   },
   "outputs": [],
   "source": [
    "print(d2.subs({x:B}).evalf())\n",
    "print(d2.subs({x:C}).evalf())\n",
    "print(d2.subs({x:A}).evalf())\n",
    "print(d2.subs({x:D}).evalf())"
   ]
  },
  {
   "cell_type": "markdown",
   "metadata": {
    "id": "wLqyDd6K6U-f"
   },
   "source": [
    "Evaluating the second derivative test at the critical points tells us that the points  𝐴\n",
    "  and  𝐶\n",
    "  are local maxima and the points  𝐵\n",
    "  and  𝐷\n",
    "  are local minima.\n",
    "\n",
    "The global maximum and minimum of  𝑓(𝑥) on the interval  [−5,5]\n",
    "is attained either at a critical point  𝑥\n",
    "  or at one of the endpoints of the domain ( 𝑥=−5\n",
    "and  𝑥=5\n",
    " ). We have already found all of the critical points, which are the points  𝐴\n",
    " ,  𝐵\n",
    " ,  𝐶\n",
    " , and  𝐷\n",
    " . The function cannot attain its global minimum at either of the critical points  𝐴\n",
    "  or  𝐶\n",
    "  because they are local maximums. By similar logic, the function cannot attain its global maximum at  𝐵\n",
    "  or  𝐷\n",
    " .\n",
    "Thus, to find the global maximum, we must compute the value of  𝑓(𝑥)\n",
    "\n",
    "  at the points  𝐴\n",
    " ,  𝐶\n",
    " ,  −5\n",
    " , and  5\n",
    " . Among these points, the place where  𝑓(𝑥) has the largest value must be the global maximum.\n",
    "\n",
    "We will create two labels, x_min and x_max, to refer to the domain boundaries and evaluate the function at the points  𝐴\n",
    " ,  𝐶\n",
    " , x_min, and x_max:"
   ]
  },
  {
   "cell_type": "code",
   "execution_count": null,
   "metadata": {
    "colab": {
     "base_uri": "https://localhost:8080/"
    },
    "executionInfo": {
     "elapsed": 8,
     "status": "ok",
     "timestamp": 1745973850702,
     "user": {
      "displayName": "Elie Rouphael",
      "userId": "00135125486090718159"
     },
     "user_tz": -120
    },
    "id": "D5buRN6w7BAK",
    "outputId": "59af9cc2-0250-4cfb-ab84-3fb07cebcfed"
   },
   "outputs": [],
   "source": [
    "x_min = -5\n",
    "x_max = 5\n",
    "print(f.subs({x:A}).evalf())\n",
    "print(f.subs({x:C}).evalf())\n",
    "print(f.subs({x:x_min}).evalf())\n",
    "print(f.subs({x:x_max}).evalf())"
   ]
  },
  {
   "cell_type": "markdown",
   "metadata": {
    "id": "b5TFSjpy7KE-"
   },
   "source": [
    "By these calculations, as well as by examining the function value at all the critical points and the domain boundaries (Figure above), we see that thepoint  𝐴\n",
    "  turns out be the global maximum.\n",
    "\n",
    "Similarly, to determine the global minimum, we must compute the values of  𝑓(𝑥)\n",
    "  at the points  𝐵\n",
    " ,  𝐷\n",
    " ,  −5\n",
    " , and  5\n",
    " :"
   ]
  },
  {
   "cell_type": "code",
   "execution_count": null,
   "metadata": {
    "colab": {
     "base_uri": "https://localhost:8080/"
    },
    "executionInfo": {
     "elapsed": 6,
     "status": "ok",
     "timestamp": 1745973852364,
     "user": {
      "displayName": "Elie Rouphael",
      "userId": "00135125486090718159"
     },
     "user_tz": -120
    },
    "id": "HKzkcNjR7Rpw",
    "outputId": "6199c456-a186-4920-9894-dabc03d254ea"
   },
   "outputs": [],
   "source": [
    "print(f.subs({x:B}).evalf())\n",
    "print(f.subs({x:D}).evalf())\n",
    "print(f.subs({x:x_min}).evalf())\n",
    "print(f.subs({x:x_max}).evalf())"
   ]
  },
  {
   "cell_type": "markdown",
   "metadata": {
    "id": "kH6N2MwslDws"
   },
   "source": [
    "\n",
    "\n",
    "# **Support Vector Machines**\n",
    "\n",
    "SVM offers very high accuracy compared to other classifiers such as logistic regression, and decision trees. It is known for its kernel trick to handle nonlinear input spaces. It is used in a variety of applications such as face detection, intrusion detection, classification of emails, news articles and web pages, classification of genes, and handwriting recognition.\n",
    "\n",
    "SVM is an exciting algorithm and the concepts are relatively simple. The classifier separates data points using a hyperplane with the largest amount of margin. That's why an SVM classifier is also known as a discriminative classifier. SVM finds an optimal hyperplane which helps in classifying new data points.\n",
    "\n",
    "Generally, Support Vector Machines is considered to be a classification approach, but it can be employed in both types of classification and regression problems. It can easily handle multiple continuous and categorical variables. SVM constructs a hyperplane in multidimensional space to separate different classes. SVM generates optimal hyperplane in an iterative manner, which is used to minimize an error. The core idea of SVM is to find a maximum marginal hyperplane(MMH) that best divides the dataset into classes\n",
    "\n",
    "![Capture.PNG](data:image/png;base64,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)\n"
   ]
  },
  {
   "cell_type": "markdown",
   "metadata": {
    "id": "GFaPTBsQQ5j3"
   },
   "source": [
    "**Support Vectors**\n",
    "\n",
    "Support vectors are the data points, which are closest to the hyperplane. These points will define the separating line better by calculating margins. These points are more relevant to the construction of the classifier.\n",
    "\n",
    "**Hyperplane**\n",
    "\n",
    "A hyperplane is a decision plane which separates between a set of objects having different class memberships.\n",
    "\n",
    "**Margin**\n",
    "\n",
    "A margin is a gap between the two lines on the closest class points. This is calculated as the perpendicular distance from the line to support vectors or closest points. If the margin is larger in between the classes, then it is considered a good margin, a smaller margin is a bad margin."
   ]
  },
  {
   "cell_type": "markdown",
   "metadata": {
    "id": "_jrKH5DERCRu"
   },
   "source": [
    "Classification using SVM"
   ]
  },
  {
   "cell_type": "code",
   "execution_count": null,
   "metadata": {
    "colab": {
     "base_uri": "https://localhost:8080/"
    },
    "executionInfo": {
     "elapsed": 270,
     "status": "ok",
     "timestamp": 1745973857529,
     "user": {
      "displayName": "Elie Rouphael",
      "userId": "00135125486090718159"
     },
     "user_tz": -120
    },
    "id": "wiP5SVmYQ3Kf",
    "outputId": "2a07aff3-7939-4838-9a21-016b0f61dddf"
   },
   "outputs": [],
   "source": [
    "#Import scikit-learn dataset library\n",
    "from sklearn import datasets\n",
    "\n",
    "#Load dataset\n",
    "cancer = datasets.load_breast_cancer()\n",
    "\n",
    "# print the names of the 13 features\n",
    "print(\"Features: \", cancer.feature_names)\n",
    "\n",
    "# print the label type of cancer('malignant' 'benign')\n",
    "print(\"Labels: \", cancer.target_names)"
   ]
  },
  {
   "cell_type": "code",
   "execution_count": null,
   "metadata": {
    "executionInfo": {
     "elapsed": 44,
     "status": "ok",
     "timestamp": 1745973860043,
     "user": {
      "displayName": "Elie Rouphael",
      "userId": "00135125486090718159"
     },
     "user_tz": -120
    },
    "id": "LizmZBBrRc16"
   },
   "outputs": [],
   "source": [
    "# Import train_test_split function\n",
    "from sklearn.model_selection import train_test_split\n",
    "\n",
    "# Split dataset into training set and test set\n",
    "X_train, X_test, y_train, y_test = train_test_split(cancer.data, cancer.target, test_size=0.3,random_state=109) # 70% training and 30% test\n"
   ]
  },
  {
   "cell_type": "markdown",
   "metadata": {
    "id": "0e4RdOi2Ra06"
   },
   "source": [
    "# **Build the model**"
   ]
  },
  {
   "cell_type": "code",
   "execution_count": null,
   "metadata": {
    "executionInfo": {
     "elapsed": 2345,
     "status": "ok",
     "timestamp": 1745973863671,
     "user": {
      "displayName": "Elie Rouphael",
      "userId": "00135125486090718159"
     },
     "user_tz": -120
    },
    "id": "H4j4NpEfRnzs"
   },
   "outputs": [],
   "source": [
    "#Import svm model\n",
    "from sklearn import svm\n",
    "\n",
    "#Create a svm Classifier\n",
    "clf = svm.SVC(kernel='linear') # Linear Kernel\n",
    "\n",
    "#Train the model using the training sets\n",
    "clf.fit(X_train, y_train)\n",
    "\n",
    "#Predict the response for test dataset\n",
    "y_pred = clf.predict(X_test)"
   ]
  },
  {
   "cell_type": "code",
   "execution_count": null,
   "metadata": {
    "colab": {
     "base_uri": "https://localhost:8080/"
    },
    "executionInfo": {
     "elapsed": 9,
     "status": "ok",
     "timestamp": 1745973863711,
     "user": {
      "displayName": "Elie Rouphael",
      "userId": "00135125486090718159"
     },
     "user_tz": -120
    },
    "id": "kjXVzQYrRr0U",
    "outputId": "5bbd1954-25b1-4d8f-9672-68f4b5f4d7ed"
   },
   "outputs": [],
   "source": [
    "#Import scikit-learn metrics module for accuracy calculation\n",
    "from sklearn import metrics\n",
    "\n",
    "# Model Accuracy: how often is the classifier correct?\n",
    "print(\"Accuracy:\",metrics.accuracy_score(y_test, y_pred))"
   ]
  },
  {
   "cell_type": "code",
   "execution_count": null,
   "metadata": {
    "colab": {
     "base_uri": "https://localhost:8080/"
    },
    "executionInfo": {
     "elapsed": 6,
     "status": "ok",
     "timestamp": 1745973863719,
     "user": {
      "displayName": "Elie Rouphael",
      "userId": "00135125486090718159"
     },
     "user_tz": -120
    },
    "id": "Jr0889D3Ru1v",
    "outputId": "51624bc6-73f9-4505-dcc0-0bf25f25781d"
   },
   "outputs": [],
   "source": [
    "# Model Precision: what percentage of positive tuples are labeled as such?\n",
    "print(\"Precision:\",metrics.precision_score(y_test, y_pred))\n",
    "\n",
    "# Model Recall: what percentage of positive tuples are labelled as such?\n",
    "print(\"Recall:\",metrics.recall_score(y_test, y_pred))"
   ]
  },
  {
   "cell_type": "markdown",
   "metadata": {
    "id": "B8vqTJJUQ0qC"
   },
   "source": [
    "# **Exercise:**\n",
    "\n",
    "1. Compute confusion matrix for the predicted results. Hint, use sklearn  metrics.ConfusionMatrixDisplay()\n",
    "\n",
    "2. Kernel: The main function of the kernel is to transform the given dataset input data into the required form. There are various types of functions such as linear, polynomial, and radial basis function (RBF). Polynomial and RBF are useful for non-linear hyperplane. Polynomial and RBF kernels compute the separation line in the higher dimension. In some of the applications, it is suggested to use a more complex kernel to separate the classes that are curved or nonlinear. This transformation can lead to more accurate classifiers.\n",
    "\n",
    "\n",
    "3. Gamma: A lower value of Gamma will loosely fit the training dataset, whereas a higher value of gamma will exactly fit the training dataset, which causes over-fitting. In other words, you can say a low value of gamma considers only nearby points in calculating the separation line, while the a value of gamma considers all the data points in the calculation of the separation line.\n",
    "\n",
    "4. Train SVM for your choice of dataset.\n",
    "\n",
    "\n",
    "Visit [official guide](https://scikit-learn.org/stable/modules/generated/sklearn.svm.SVC.html) for more informaiton"
   ]
  },
  {
   "cell_type": "code",
   "execution_count": null,
   "metadata": {
    "colab": {
     "base_uri": "https://localhost:8080/",
     "height": 449
    },
    "executionInfo": {
     "elapsed": 266,
     "status": "ok",
     "timestamp": 1745391319433,
     "user": {
      "displayName": "Elie Rouphael",
      "userId": "00135125486090718159"
     },
     "user_tz": -120
    },
    "id": "TYkwGU0p_emg",
    "outputId": "faf0e80f-991c-4ed8-eb95-bfa64e344f8b"
   },
   "outputs": [],
   "source": [
    "# Q1:\n",
    "ConfusionMatrix = metrics.confusion_matrix(y_test, y_pred, labels=clf.classes_)\n",
    "disp = metrics.ConfusionMatrixDisplay(confusion_matrix = ConfusionMatrix, display_labels=clf.classes_)\n",
    "disp.plot()\n",
    "plt.show()\n"
   ]
  },
  {
   "cell_type": "markdown",
   "metadata": {
    "id": "hhamompQSnG6"
   },
   "source": [
    "# **Lab 3**\n",
    "\n",
    "# **Random Forest**\n",
    "\n",
    "Random forests are a popular supervised machine learning algorithm.\n",
    "\n",
    "*  Random forests are for supervised machine learning, where there is a labeled target variable.\n",
    "* Random forests can be used for solving regression (numeric target variable) and classification (categorical target variable) problems.\n",
    "* Random forests are an ensemble method, meaning they combine predictions from other models.\n",
    "*  Each of the smaller models in the random forest ensemble is a decision tree.\n"
   ]
  },
  {
   "cell_type": "code",
   "execution_count": null,
   "metadata": {
    "executionInfo": {
     "elapsed": 649,
     "status": "ok",
     "timestamp": 1745973985118,
     "user": {
      "displayName": "Elie Rouphael",
      "userId": "00135125486090718159"
     },
     "user_tz": -120
    },
    "id": "aprJvFA6T4hw"
   },
   "outputs": [],
   "source": [
    "\n",
    "import numpy as np # linear algebra\n",
    "import pandas as pd # data processing, CSV file I/O (e.g. pd.read_csv)\n",
    "import matplotlib.pyplot as plt # data visualization\n",
    "import seaborn as sns # statistical data visualization\n",
    "%matplotlib inline\n"
   ]
  },
  {
   "cell_type": "code",
   "execution_count": null,
   "metadata": {
    "colab": {
     "base_uri": "https://localhost:8080/",
     "height": 206
    },
    "executionInfo": {
     "elapsed": 705,
     "status": "ok",
     "timestamp": 1745973988794,
     "user": {
      "displayName": "Elie Rouphael",
      "userId": "00135125486090718159"
     },
     "user_tz": -120
    },
    "id": "CbEdrBFET-aS",
    "outputId": "89c04955-61b0-4379-ba3b-3b058cd0a56d"
   },
   "outputs": [],
   "source": [
    "data = '/content/drive/MyDrive/Colab Notebooks/MADIS_Machine_Learning_Workshop/Datasets_new/car_evaluation.csv'   #import data\n",
    "df = pd.read_csv(data, header=None)\n",
    "col_names = ['buying', 'maint', 'doors', 'persons', 'lug_boot', 'safety', 'class'] # rename column names\n",
    "\n",
    "\n",
    "df.columns = col_names\n",
    "\n",
    "col_names\n",
    "df.head() #print first 5 samples from the data. Try df.info() and df.descirbe for information and stats about the data"
   ]
  },
  {
   "cell_type": "code",
   "execution_count": null,
   "metadata": {
    "colab": {
     "base_uri": "https://localhost:8080/",
     "height": 303
    },
    "executionInfo": {
     "elapsed": 14,
     "status": "ok",
     "timestamp": 1745973990506,
     "user": {
      "displayName": "Elie Rouphael",
      "userId": "00135125486090718159"
     },
     "user_tz": -120
    },
    "id": "VeiPLvOpV_1F",
    "outputId": "37f589ac-42fb-450b-8d17-ff1ca04c8a7b"
   },
   "outputs": [],
   "source": [
    "df.isnull().sum() # check missing values in variables"
   ]
  },
  {
   "cell_type": "code",
   "execution_count": null,
   "metadata": {
    "executionInfo": {
     "elapsed": 31,
     "status": "ok",
     "timestamp": 1745973992262,
     "user": {
      "displayName": "Elie Rouphael",
      "userId": "00135125486090718159"
     },
     "user_tz": -120
    },
    "id": "lQP-Obe3WIzy"
   },
   "outputs": [],
   "source": [
    "# Declare feature vector and target variable\n",
    "\n",
    "X = df.drop(['class'], axis=1)\n",
    "\n",
    "y = df['class']"
   ]
  },
  {
   "cell_type": "code",
   "execution_count": null,
   "metadata": {
    "colab": {
     "base_uri": "https://localhost:8080/"
    },
    "executionInfo": {
     "elapsed": 44,
     "status": "ok",
     "timestamp": 1745973993455,
     "user": {
      "displayName": "Elie Rouphael",
      "userId": "00135125486090718159"
     },
     "user_tz": -120
    },
    "id": "A_CsqO7GeCH1",
    "outputId": "8a786254-34e5-4b09-95b9-0c10c71731e6"
   },
   "outputs": [],
   "source": [
    "list(X.columns)"
   ]
  },
  {
   "cell_type": "code",
   "execution_count": null,
   "metadata": {
    "colab": {
     "base_uri": "https://localhost:8080/"
    },
    "executionInfo": {
     "elapsed": 33,
     "status": "ok",
     "timestamp": 1745973995041,
     "user": {
      "displayName": "Elie Rouphael",
      "userId": "00135125486090718159"
     },
     "user_tz": -120
    },
    "id": "nKH-wy0XWOnw",
    "outputId": "13baf5f0-bbcd-4366-d576-c4097ef4966e"
   },
   "outputs": [],
   "source": [
    "# split data into training and testing sets\n",
    "\n",
    "from sklearn.model_selection import train_test_split\n",
    "\n",
    "X_train, X_test, y_train, y_test = train_test_split(X, y, test_size = 0.33, random_state = 42)\n",
    "\n",
    "# check the shape of X_train and X_test\n",
    "\n",
    "X_train.shape, X_test.shape"
   ]
  },
  {
   "cell_type": "code",
   "execution_count": null,
   "metadata": {
    "executionInfo": {
     "elapsed": 1506,
     "status": "ok",
     "timestamp": 1745974002834,
     "user": {
      "displayName": "Elie Rouphael",
      "userId": "00135125486090718159"
     },
     "user_tz": -120
    },
    "id": "NDRWlOKvWhyI"
   },
   "outputs": [],
   "source": [
    "# encode categorical variables with ordinal encoding\n",
    "\n",
    "import category_encoders as ce # pip install category_encoders\n",
    "\n",
    "encoder = ce.OrdinalEncoder(cols=X.columns)\n",
    "\n",
    "X_train = encoder.fit_transform(X_train)\n",
    "\n",
    "X_test = encoder.transform(X_test)"
   ]
  },
  {
   "cell_type": "code",
   "execution_count": null,
   "metadata": {
    "colab": {
     "base_uri": "https://localhost:8080/"
    },
    "executionInfo": {
     "elapsed": 1418,
     "status": "ok",
     "timestamp": 1745974004693,
     "user": {
      "displayName": "Elie Rouphael",
      "userId": "00135125486090718159"
     },
     "user_tz": -120
    },
    "id": "TSBdyGP1Wnet",
    "outputId": "257b3e8e-e125-451b-92eb-9b11942f76fa"
   },
   "outputs": [],
   "source": [
    "# import Random Forest classifier\n",
    "\n",
    "from sklearn.ensemble import RandomForestClassifier\n",
    "\n",
    "# instantiate the classifier\n",
    "\n",
    "rfc = RandomForestClassifier(n_estimators=10, random_state=0)\n",
    "\n",
    "# fit the model\n",
    "\n",
    "rfc.fit(X_train, y_train)\n",
    "\n",
    "# Predict the Test set results\n",
    "\n",
    "y_pred = rfc.predict(X_test)\n",
    "\n",
    "# Check accuracy score\n",
    "\n",
    "from sklearn.metrics import accuracy_score\n",
    "\n",
    "print('Model accuracy score with 10 decision-trees : {0:0.4f}'. format(accuracy_score(y_test, y_pred)))"
   ]
  },
  {
   "cell_type": "markdown",
   "metadata": {
    "id": "IhTveqJLXNd_"
   },
   "source": [
    "Here, I have build the Random Forest Classifier model with default parameter of n_estimators = 10. So, I have used 10 decision-trees to build the model. Now, I will increase the number of decision-trees and see its effect on accuracy."
   ]
  },
  {
   "cell_type": "code",
   "execution_count": null,
   "metadata": {
    "colab": {
     "base_uri": "https://localhost:8080/"
    },
    "executionInfo": {
     "elapsed": 445,
     "status": "ok",
     "timestamp": 1745974005330,
     "user": {
      "displayName": "Elie Rouphael",
      "userId": "00135125486090718159"
     },
     "user_tz": -120
    },
    "id": "tz0zxRX9XDP8",
    "outputId": "3a9c3f40-7fef-45df-afdc-dbee06a708c2"
   },
   "outputs": [],
   "source": [
    "# instantiate the classifier with n_estimators = 100\n",
    "\n",
    "rfc_100 = RandomForestClassifier(n_estimators=100, random_state=0)\n",
    "\n",
    "\n",
    "\n",
    "# fit the model to the training set\n",
    "\n",
    "rfc_100.fit(X_train, y_train)\n",
    "\n",
    "\n",
    "\n",
    "# Predict on the test set results\n",
    "\n",
    "y_pred_100 = rfc_100.predict(X_test)\n",
    "\n",
    "\n",
    "\n",
    "# Check accuracy score\n",
    "\n",
    "print('Model accuracy score with 100 decision-trees : {0:0.4f}'. format(accuracy_score(y_test, y_pred_100)))"
   ]
  },
  {
   "cell_type": "markdown",
   "metadata": {
    "id": "7lKTGgOOXTWF"
   },
   "source": [
    "Find important features with Random Forest model\n",
    "\n",
    "Until now, we have used all the features given in the model. Now, we will select only the important features, build the model using these features and see its effect on accuracy.\n",
    "\n",
    "First, we will create the Random Forest model as follows:"
   ]
  },
  {
   "cell_type": "code",
   "execution_count": null,
   "metadata": {
    "colab": {
     "base_uri": "https://localhost:8080/",
     "height": 80
    },
    "executionInfo": {
     "elapsed": 235,
     "status": "ok",
     "timestamp": 1745974007850,
     "user": {
      "displayName": "Elie Rouphael",
      "userId": "00135125486090718159"
     },
     "user_tz": -120
    },
    "id": "miWxdkjyXSBo",
    "outputId": "9fe46324-9d39-4b9e-fcb6-9496f5904cc7"
   },
   "outputs": [],
   "source": [
    "# create the classifier with n_estimators = 100\n",
    "\n",
    "clf = RandomForestClassifier(n_estimators=100, random_state=0)\n",
    "\n",
    "\n",
    "\n",
    "# fit the model to the training set\n",
    "\n",
    "clf.fit(X_train, y_train)"
   ]
  },
  {
   "cell_type": "code",
   "execution_count": null,
   "metadata": {
    "colab": {
     "base_uri": "https://localhost:8080/",
     "height": 493
    },
    "executionInfo": {
     "elapsed": 219,
     "status": "ok",
     "timestamp": 1745974010370,
     "user": {
      "displayName": "Elie Rouphael",
      "userId": "00135125486090718159"
     },
     "user_tz": -120
    },
    "id": "nlGgNGwZXhUQ",
    "outputId": "39a39921-a241-4370-9290-2cfc172bf035"
   },
   "outputs": [],
   "source": [
    "import matplotlib.pyplot as plt\n",
    "\n",
    "\n",
    "feature_scores = pd.Series(clf.feature_importances_, index=X_train.columns).sort_values(ascending=False)\n",
    "\n",
    "feature_scores.plot.bar(feature_scores)\n"
   ]
  },
  {
   "cell_type": "markdown",
   "metadata": {
    "id": "MHnZzDj4ZVeR"
   },
   "source": [
    "**Exercise**\n",
    "\n",
    "Train a RF using the 4 most important features from the features importance plot.\n",
    "\n"
   ]
  },
  {
   "cell_type": "code",
   "execution_count": null,
   "metadata": {
    "colab": {
     "base_uri": "https://localhost:8080/"
    },
    "executionInfo": {
     "elapsed": 135,
     "status": "ok",
     "timestamp": 1745974182280,
     "user": {
      "displayName": "Elie Rouphael",
      "userId": "00135125486090718159"
     },
     "user_tz": -120
    },
    "id": "IGyLdvyqvOz3",
    "outputId": "93fe29ba-150f-4852-9089-f6c6b2dbaff9"
   },
   "outputs": [],
   "source": [
    "# four most important features are 'buying', 'maint', 'safety', 'persons', we then\n",
    "# need to drop the rest from X_train\n",
    "X_train_reduced = X_train.drop(['lug_boot','doors'], axis=1)\n",
    "y_train_reduced = y_train\n",
    "X_test_reduced = X_test.drop(['lug_boot','doors'], axis=1)\n",
    "y_test_reduced = y_test\n",
    "\n",
    "rfc_100_reduced = RandomForestClassifier(n_estimators=7, random_state=0)\n",
    "\n",
    "\n",
    "# fit the model to the training set\n",
    "\n",
    "rfc_100_reduced.fit(X_train_reduced, y_train_reduced)\n",
    "\n",
    "# Predict on the test set results\n",
    "\n",
    "y_pred_100_reduced = rfc_100_reduced.predict(X_test_reduced)\n",
    "\n",
    "# Check accuracy score\n",
    "\n",
    "print('Model accuracy score with 7 decision-trees : {0:0.4f}'. format(accuracy_score(y_test_reduced, y_pred_100_reduced)))"
   ]
  },
  {
   "cell_type": "markdown",
   "metadata": {
    "id": "WVqgQq-3fra-"
   },
   "source": [
    "## Comparing behaviour\n",
    "- Model accuracy all data score with 100 decision-trees : 0.9457\n",
    "\n",
    "- Model accuracy all data score with 10 decision-trees : 0.9457\n",
    "\n",
    "- Model accuracy dropped data score with 100 decision-trees : 0.8494\n",
    "\n",
    "- Model accuracy dropped data score with 10 decision-trees : 0.8546\n",
    "\n",
    "- Model accuracy dropped data score with 7 decision-trees : 0.8581"
   ]
  },
  {
   "cell_type": "markdown",
   "metadata": {
    "id": "FdtrQ1QnpgUc"
   },
   "source": [
    "# **K-means**\n",
    "K-means is an unsupervised learning method for clustering data points. The algorithm iteratively divides data points into K clusters by minimizing the variance in each cluster.\n",
    "It works as follow:\n",
    "\n",
    "First, each data point is randomly assigned to one of the K clusters. Then, we compute the centroid (functionally the center) of each cluster, and reassign each data point to the cluster with the closest centroid. We repeat this process until the cluster assignments for each data point are no longer changing.\n",
    "\n",
    "K-means clustering requires us to select K, the number of clusters we want to group the data into. The elbow method lets us graph the inertia (a distance-based metric) and visualize the point at which it starts decreasing linearly. This point is referred to as the \"eblow\" and is a good estimate for the best value for K based on our data."
   ]
  },
  {
   "cell_type": "code",
   "execution_count": null,
   "metadata": {
    "colab": {
     "base_uri": "https://localhost:8080/",
     "height": 430
    },
    "executionInfo": {
     "elapsed": 152,
     "status": "ok",
     "timestamp": 1745974226309,
     "user": {
      "displayName": "Elie Rouphael",
      "userId": "00135125486090718159"
     },
     "user_tz": -120
    },
    "id": "pPoWgx0_lwOk",
    "outputId": "5ce6d414-30a3-4354-ec72-e07873241542"
   },
   "outputs": [],
   "source": [
    "import matplotlib.pyplot as plt\n",
    "\n",
    "x = [4, 5, 10, 4, 3, 11, 14 , 6, 10, 12]\n",
    "y = [21, 19, 24, 17, 16, 25, 24, 22, 21, 21]\n",
    "\n",
    "plt.scatter(x, y)\n",
    "plt.show()"
   ]
  },
  {
   "cell_type": "code",
   "execution_count": null,
   "metadata": {
    "colab": {
     "base_uri": "https://localhost:8080/",
     "height": 509
    },
    "executionInfo": {
     "elapsed": 398,
     "status": "ok",
     "timestamp": 1745974228835,
     "user": {
      "displayName": "Elie Rouphael",
      "userId": "00135125486090718159"
     },
     "user_tz": -120
    },
    "id": "XqdzFisTjMZw",
    "outputId": "38e071a0-b731-475e-f288-32b4514ce27e"
   },
   "outputs": [],
   "source": [
    "from sklearn.cluster import KMeans\n",
    "\n",
    "data = list(zip(x, y))\n",
    "inertias = []\n",
    "\n",
    "for i in range(1,11):\n",
    "    kmeans = KMeans(n_clusters=i)\n",
    "    kmeans.fit(data)\n",
    "    inertias.append(kmeans.inertia_)\n",
    "\n",
    "plt.plot(range(1,11), inertias, marker='o')\n",
    "plt.title('Elbow method')\n",
    "plt.xlabel('Number of clusters')\n",
    "plt.ylabel('Inertia')\n",
    "plt.show()\n",
    "print('The elbow method shows that 2 is a good value for K, so we retrain and visualize the result:')"
   ]
  },
  {
   "cell_type": "code",
   "execution_count": null,
   "metadata": {
    "colab": {
     "base_uri": "https://localhost:8080/",
     "height": 430
    },
    "executionInfo": {
     "elapsed": 230,
     "status": "ok",
     "timestamp": 1745974230926,
     "user": {
      "displayName": "Elie Rouphael",
      "userId": "00135125486090718159"
     },
     "user_tz": -120
    },
    "id": "biJEamXfqFY4",
    "outputId": "0a4f0536-e0c9-47b0-ef0e-1c3f6005e20b"
   },
   "outputs": [],
   "source": [
    "kmeans = KMeans(n_clusters=2)\n",
    "kmeans.fit(data)\n",
    "\n",
    "plt.scatter(x, y, c=kmeans.labels_)\n",
    "plt.show()"
   ]
  },
  {
   "cell_type": "code",
   "execution_count": null,
   "metadata": {
    "colab": {
     "base_uri": "https://localhost:8080/",
     "height": 527
    },
    "executionInfo": {
     "elapsed": 857,
     "status": "ok",
     "timestamp": 1745974233675,
     "user": {
      "displayName": "Elie Rouphael",
      "userId": "00135125486090718159"
     },
     "user_tz": -120
    },
    "id": "SIu7cVN05Wbs",
    "outputId": "761e9672-cde9-4137-a241-3dab3e3e903f"
   },
   "outputs": [],
   "source": [
    "from sklearn.cluster import KMeans\n",
    "## Load Data\n",
    "dfa = pd.read_csv(\"/content/drive/MyDrive/Colab Notebooks/MADIS_Machine_Learning_Workshop/Datasets_new/Mall_Customers.csv\")\n",
    "dfa = dfa[['Age','Annual Income (k$)']]\n",
    "print('Total Row : ', len(dfa))\n",
    "data = dfa\n",
    "inertias = []\n",
    "\n",
    "for i in range(1,11):\n",
    "    kmeans = KMeans(n_clusters=i)\n",
    "    kmeans.fit(data)\n",
    "    inertias.append(kmeans.inertia_)\n",
    "\n",
    "plt.plot(range(1,11), inertias, marker='o')\n",
    "plt.title('Elbow method')\n",
    "plt.xlabel('Number of clusters')\n",
    "plt.ylabel('Inertia')\n",
    "plt.show()\n",
    "print('The elbow method shows that 3 is a good value for K, so we retrain and visualize the result:')"
   ]
  },
  {
   "cell_type": "markdown",
   "metadata": {
    "id": "xbvrN8hfs2n2"
   },
   "source": [
    "Download data [here](https://www.kaggle.com/vjchoudhary7/customer-segmentation-tutorial-in-python)"
   ]
  },
  {
   "cell_type": "code",
   "execution_count": null,
   "metadata": {
    "colab": {
     "base_uri": "https://localhost:8080/",
     "height": 507
    },
    "executionInfo": {
     "elapsed": 368,
     "status": "ok",
     "timestamp": 1745974236469,
     "user": {
      "displayName": "Elie Rouphael",
      "userId": "00135125486090718159"
     },
     "user_tz": -120
    },
    "id": "2gGHnwOTqT7U",
    "outputId": "2c0d7bcc-56e8-4682-fb63-b3f13a24c1c2"
   },
   "outputs": [],
   "source": [
    "## Import Library\n",
    "import numpy as np\n",
    "import pandas as pd\n",
    "import seaborn as sns\n",
    "import matplotlib.pyplot as plt\n",
    "%matplotlib inline\n",
    "from mpl_toolkits.mplot3d import Axes3D\n",
    "from sklearn.cluster import KMeans\n",
    "from sklearn.preprocessing import StandardScaler\n",
    "\n",
    "## Feature Scaling\n",
    "sc_dfa = StandardScaler()\n",
    "dfa_std = sc_dfa.fit_transform(dfa.astype(float))\n",
    "## Clustering with KMeans\n",
    "# kmeans = KMeans(n_clusters=3, random_state=42).fit(dfa_std)\n",
    "chosen_clusters = 3\n",
    "kmeans = KMeans(n_clusters = chosen_clusters, random_state=42).fit(dfa_std)\n",
    "labels = kmeans.labels_\n",
    "new_dfa = pd.DataFrame(data = dfa_std, columns = ['Age','Annual Income (k$)'])\n",
    "new_dfa['label_kmeans'] = labels\n",
    "fig, ax = plt.subplots(figsize=(10,7))\n",
    "# for cluster in range(chosen_clusters):\n",
    "  # plt.scatter(new_dfa[\"Annual Income (k$)\"][new_dfa[\"label_kmeans\"] == cluster], new_dfa[\"Age\"][new_dfa[\"label_kmeans\"] == cluster],\n",
    "  #           color = \"blue\", s=100, edgecolor='green',linestyle='--')\n",
    "\n",
    "plt.scatter(new_dfa[\"Annual Income (k$)\"][new_dfa[\"label_kmeans\"] == 0], new_dfa[\"Age\"][new_dfa[\"label_kmeans\"] == 0],\n",
    "            color = \"blue\", s=100, edgecolor='red',linestyle='--')\n",
    "plt.scatter(new_dfa[\"Annual Income (k$)\"][new_dfa[\"label_kmeans\"] == 1], new_dfa[\"Age\"][new_dfa[\"label_kmeans\"] == 1],\n",
    "            color = \"red\", s=100, edgecolor='green',linestyle='--')\n",
    "plt.scatter(new_dfa[\"Annual Income (k$)\"][new_dfa[\"label_kmeans\"] == 2], new_dfa[\"Age\"][new_dfa[\"label_kmeans\"] == 2],\n",
    "            color = \"green\", s=100, edgecolor='red',linestyle='--')\n",
    "centers = kmeans.cluster_centers_\n",
    "plt.scatter(centers[:, 0], centers[:, 1], c='black', s=500);\n",
    "ax.set_xlabel('Annual Income (k$)')\n",
    "ax.set_ylabel('Age')\n",
    "plt.show()"
   ]
  },
  {
   "cell_type": "markdown",
   "metadata": {
    "id": "SLTiPJaYjDGZ"
   },
   "source": [
    "# **Lab 4**\n",
    "\n",
    "# **K-Means with PCA**\n",
    "\n",
    "Download the data [here](https://www.kaggle.com/datasets/cdc/national-health-and-nutrition-examination-survey?resource=download)\n",
    "\n",
    "\n",
    "# **Step 1:**\n",
    "\n",
    "First, we will find the optimal number of components which capture the greatest amount of variance in the data. In my case, as seen in Fig. 1 below, that number is three."
   ]
  },
  {
   "cell_type": "code",
   "execution_count": null,
   "metadata": {
    "colab": {
     "base_uri": "https://localhost:8080/",
     "height": 471
    },
    "executionInfo": {
     "elapsed": 1308,
     "status": "ok",
     "timestamp": 1745974248820,
     "user": {
      "displayName": "Elie Rouphael",
      "userId": "00135125486090718159"
     },
     "user_tz": -120
    },
    "id": "UqOQWcs2xN4I",
    "outputId": "48933ebe-9d98-49a1-c864-b955e605502f"
   },
   "outputs": [],
   "source": [
    "# Imports\n",
    "import pandas as pd\n",
    "import matplotlib.pyplot as plt\n",
    "from sklearn.cluster import KMeans\n",
    "from sklearn.decomposition import PCA\n",
    "from sklearn.preprocessing import StandardScaler\n",
    "%config InlineBackend.figure_format='retina'\n",
    "# Load in the data\n",
    "df = pd.read_csv('/content/drive/MyDrive/Colab Notebooks/MADIS_Machine_Learning_Workshop/Datasets_new/demographic.csv')\n",
    "df=df.fillna(0) # i fill NaN values with 0 you can fill with your choice and see the difference\n",
    "# Standardize the data to have a mean of ~0 and a variance of 1\n",
    "X_std = StandardScaler().fit_transform(df)\n",
    "# Create a PCA instance: pca\n",
    "pca = PCA(n_components=20)\n",
    "principalComponents = pca.fit_transform(X_std)\n",
    "# Plot the explained variances\n",
    "features = range(pca.n_components_)\n",
    "plt.bar(features, pca.explained_variance_ratio_, color='black')\n",
    "plt.xlabel('PCA features')\n",
    "plt.ylabel('variance %')\n",
    "plt.xticks(features)\n",
    "plt.title('fig. 1')\n",
    "# Save components to a DataFrame\n",
    "PCA_components = pd.DataFrame(principalComponents)"
   ]
  },
  {
   "cell_type": "code",
   "execution_count": null,
   "metadata": {
    "colab": {
     "base_uri": "https://localhost:8080/",
     "height": 255
    },
    "executionInfo": {
     "elapsed": 129,
     "status": "ok",
     "timestamp": 1745974250898,
     "user": {
      "displayName": "Elie Rouphael",
      "userId": "00135125486090718159"
     },
     "user_tz": -120
    },
    "id": "B1FXQCaDklKw",
    "outputId": "14e415a9-9b50-4e13-e3c8-765e7815bfb7"
   },
   "outputs": [],
   "source": [
    "df.head()"
   ]
  },
  {
   "cell_type": "markdown",
   "metadata": {
    "id": "s-duX3qvmklo"
   },
   "source": [
    "Fig. above shows that the first two components explain the majority of the variance in our data. For this visualization use case, we will quickly plot just the first two. We do this to notice if there are any clear clusters"
   ]
  },
  {
   "cell_type": "code",
   "execution_count": null,
   "metadata": {
    "colab": {
     "base_uri": "https://localhost:8080/",
     "height": 488
    },
    "executionInfo": {
     "elapsed": 946,
     "status": "ok",
     "timestamp": 1745974253043,
     "user": {
      "displayName": "Elie Rouphael",
      "userId": "00135125486090718159"
     },
     "user_tz": -120
    },
    "id": "xciAWUnykK6b",
    "outputId": "02ddad65-e522-41bd-8159-ee0547b39246"
   },
   "outputs": [],
   "source": [
    "plt.scatter(PCA_components[0], PCA_components[1], alpha=.1, color='black')\n",
    "plt.xlabel('PCA 1')\n",
    "plt.ylabel('PCA 2')\n",
    "plt.title('fig. 2')"
   ]
  },
  {
   "cell_type": "code",
   "execution_count": null,
   "metadata": {
    "colab": {
     "base_uri": "https://localhost:8080/",
     "height": 488
    },
    "executionInfo": {
     "elapsed": 911,
     "status": "ok",
     "timestamp": 1745974255893,
     "user": {
      "displayName": "Elie Rouphael",
      "userId": "00135125486090718159"
     },
     "user_tz": -120
    },
    "id": "rF1QAgeNjPw4",
    "outputId": "18c083dd-fcef-461b-8481-d76f027587ef"
   },
   "outputs": [],
   "source": [
    "plt.scatter(PCA_components[0], PCA_components[2], alpha=.1, color='black')\n",
    "plt.xlabel('PCA 1')\n",
    "plt.ylabel('PCA 3')\n",
    "plt.title('fig. 2.2')"
   ]
  },
  {
   "cell_type": "markdown",
   "metadata": {
    "id": "ph4FU1Rbjgv5"
   },
   "source": [
    "I can still see that there is 2 clusters with the first and the third principal components."
   ]
  },
  {
   "cell_type": "code",
   "execution_count": null,
   "metadata": {
    "colab": {
     "base_uri": "https://localhost:8080/",
     "height": 488
    },
    "executionInfo": {
     "elapsed": 663,
     "status": "ok",
     "timestamp": 1745974258245,
     "user": {
      "displayName": "Elie Rouphael",
      "userId": "00135125486090718159"
     },
     "user_tz": -120
    },
    "id": "QJ0iHjuDjatb",
    "outputId": "142fc3df-1273-49bd-f326-d24b48b79ecc"
   },
   "outputs": [],
   "source": [
    "plt.scatter(PCA_components[1], PCA_components[2], alpha=.1, color='black')\n",
    "plt.xlabel('PCA 2')\n",
    "plt.ylabel('PCA 3')\n",
    "plt.title('fig. 2.3')"
   ]
  },
  {
   "cell_type": "markdown",
   "metadata": {
    "id": "RQFAIqnPjyiT"
   },
   "source": [
    "I can still see that there is 2 clusters with the second and the third principal components."
   ]
  },
  {
   "cell_type": "markdown",
   "metadata": {
    "id": "g14Kgr0kj0AO"
   },
   "source": [
    "## Partial Conclusion"
   ]
  },
  {
   "cell_type": "markdown",
   "metadata": {
    "id": "cBrNKsWvm_yM"
   },
   "source": [
    "Figure above shows at least two distinguishable clusters. This factoid tells us that the observations in the dataset can be grouped. Because each observation in the data is a diet, lab, and physical exam for one person, we could say that the clusters represent different groups of people. It’s important to note that we do not have a target variable by which to label these groups, so we do not know exactly what these labels are. In a utopian situation, this type of analysis would let us see the sample population segregated by health condition. Figure does not show all the meaningful principal components, however. To visualize the rest of the reduced dataset with much greater granularity, we will use k-means clustering.\n",
    "\n",
    "# **Step 2: Find the Clusters**\n",
    "\n",
    "In this step, we will use k-means clustering to view the top three PCA components. To do this, we will first fit these principal components to the k-means algorithm and determine the best number of clusters. Determining the ideal number of clusters for our k-means model can be done by measuring the sum of the squared distances to the nearest cluster center aka inertia. Much like the scree plot in fig. 1 for PCA, the k-means screen plot below indicates the percentage of variance explained, but in slightly different terms, as a function of the number of clusters."
   ]
  },
  {
   "cell_type": "code",
   "execution_count": null,
   "metadata": {
    "executionInfo": {
     "elapsed": 2,
     "status": "ok",
     "timestamp": 1745974261453,
     "user": {
      "displayName": "Elie Rouphael",
      "userId": "00135125486090718159"
     },
     "user_tz": -120
    },
    "id": "CpIry58qiaGv"
   },
   "outputs": [],
   "source": [
    "import warnings\n",
    "warnings.filterwarnings(\"ignore\")"
   ]
  },
  {
   "cell_type": "code",
   "execution_count": null,
   "metadata": {
    "colab": {
     "base_uri": "https://localhost:8080/",
     "height": 471
    },
    "executionInfo": {
     "elapsed": 413,
     "status": "ok",
     "timestamp": 1745974262820,
     "user": {
      "displayName": "Elie Rouphael",
      "userId": "00135125486090718159"
     },
     "user_tz": -120
    },
    "id": "JppdBWvwmrcS",
    "outputId": "8edf3d37-f220-4983-ea95-8bba90617c56"
   },
   "outputs": [],
   "source": [
    "ks = range(1, 10)\n",
    "inertias = []\n",
    "for k in ks:\n",
    "    # Create a KMeans instance with k clusters: model\n",
    "    model = KMeans(n_clusters=k)\n",
    "\n",
    "    # Fit model to samples\n",
    "    model.fit(PCA_components.iloc[:,:3])\n",
    "\n",
    "    # Append the inertia to the list of inertias\n",
    "    inertias.append(model.inertia_)\n",
    "\n",
    "plt.plot(ks, inertias, '-o', color='black')\n",
    "plt.xlabel('number of clusters, k')\n",
    "plt.ylabel('inertia')\n",
    "plt.xticks(ks)\n",
    "plt.title('fig. 3')\n",
    "plt.show()"
   ]
  },
  {
   "cell_type": "markdown",
   "metadata": {
    "id": "14NLrS0sofJo"
   },
   "source": [
    "Fig. 3 shows that after 4 clusters (at the elbow), the change in the value of inertia is no longer significant, and most likely, neither is the variance of the rest of the data after the elbow point. Therefore we can discard everything after k=4 and proceed to the last step in the process.\n"
   ]
  },
  {
   "cell_type": "markdown",
   "metadata": {
    "id": "JdOaZ6mqimmm"
   },
   "source": [
    "## Applying the deduced characteristic : only 4 componenets"
   ]
  },
  {
   "cell_type": "code",
   "execution_count": null,
   "metadata": {
    "colab": {
     "base_uri": "https://localhost:8080/",
     "height": 80
    },
    "executionInfo": {
     "elapsed": 24,
     "status": "ok",
     "timestamp": 1745974266015,
     "user": {
      "displayName": "Elie Rouphael",
      "userId": "00135125486090718159"
     },
     "user_tz": -120
    },
    "id": "Lsm57Wt8iyYU",
    "outputId": "a4d739a0-101e-442f-c9c8-4e7205a0dced"
   },
   "outputs": [],
   "source": [
    "model = KMeans(n_clusters=3)\n",
    "model.fit(PCA_components.iloc[:,:3]) # Taking the first 3,\n",
    "# other method would be to set a certain threshold and take every component that has a value that is higher than the pre-set threshold\n"
   ]
  },
  {
   "cell_type": "code",
   "execution_count": null,
   "metadata": {
    "colab": {
     "base_uri": "https://localhost:8080/",
     "height": 255
    },
    "executionInfo": {
     "elapsed": 113,
     "status": "ok",
     "timestamp": 1745974267321,
     "user": {
      "displayName": "Elie Rouphael",
      "userId": "00135125486090718159"
     },
     "user_tz": -120
    },
    "id": "HoS0hinz_9jl",
    "outputId": "38eed206-eb75-4990-c0ec-ddd32d359b62"
   },
   "outputs": [],
   "source": [
    "df.head()"
   ]
  },
  {
   "cell_type": "code",
   "execution_count": null,
   "metadata": {
    "colab": {
     "base_uri": "https://localhost:8080/",
     "height": 619
    },
    "executionInfo": {
     "elapsed": 1909,
     "status": "ok",
     "timestamp": 1745974270324,
     "user": {
      "displayName": "Elie Rouphael",
      "userId": "00135125486090718159"
     },
     "user_tz": -120
    },
    "id": "GGd5nSDt_oZG",
    "outputId": "41b394a4-7ecb-4155-ff79-30cebfc5da74"
   },
   "outputs": [],
   "source": [
    "## Clustering with KMeans\n",
    "labels = model.labels_\n",
    "new_df = pd.DataFrame(data = PCA_components.iloc[:,:3], columns=[0,1])\n",
    "new_df['label_kmeans'] = labels\n",
    "fig, ax = plt.subplots(figsize=(10,7))\n",
    "# for cluster in range(chosen_clusters):\n",
    "  # plt.scatter(new_dfa[\"Annual Income (k$)\"][new_dfa[\"label_kmeans\"] == cluster], new_dfa[\"Age\"][new_dfa[\"label_kmeans\"] == cluster],\n",
    "  #           color = \"blue\", s=100, edgecolor='green',linestyle='--')\n",
    "\n",
    "plt.scatter(new_df[0][new_df[\"label_kmeans\"] == 0], new_df[1][new_df[\"label_kmeans\"] == 0],\n",
    "            color = \"blue\", s=100, edgecolor='red',linestyle='--')\n",
    "plt.scatter(new_df[0][new_df[\"label_kmeans\"] == 1], new_df[1][new_df[\"label_kmeans\"] == 1],\n",
    "            color = \"red\", s=100, edgecolor='green',linestyle='--')\n",
    "plt.scatter(new_df[0][new_df[\"label_kmeans\"] == 2], new_df[1][new_df[\"label_kmeans\"] == 2],\n",
    "            color = \"green\", s=100, edgecolor='red',linestyle='--')\n",
    "plt.scatter(new_df[0][new_df[\"label_kmeans\"] == 3], new_df[1][new_df[\"label_kmeans\"] == 3],\n",
    "            color = \"black\", s=100, edgecolor='red',linestyle='--')\n",
    "centers = model.cluster_centers_\n",
    "plt.scatter(centers[:, 0], centers[:, 1], c='white', s=300);\n",
    "ax.set_xlabel('Annual Income (k$)')\n",
    "ax.set_ylabel('Age')\n",
    "plt.show()"
   ]
  },
  {
   "cell_type": "markdown",
   "metadata": {
    "id": "rTsHux72TiWS"
   },
   "source": [
    "## kmeans ++\n",
    "Just like K-Means itself, K-Means++ too is a very simple algorithm.\n",
    "\n",
    "1. The first centroid is selected randomly.\n",
    "\n",
    "2. Calculate the Euclidean distance between the centroid and every other data point in the dataset. The point farthest away will become our next centroid.\n",
    "\n",
    "3. Create clusters around these centroids by associating every point with its nearest centroid.\n",
    "\n",
    "4. The point which has the farthest distance from its centroid will be our next centroid.\n",
    "\n",
    "5. Repeat steps 3 and 4 until n number of centroids are located."
   ]
  },
  {
   "cell_type": "code",
   "execution_count": null,
   "metadata": {
    "executionInfo": {
     "elapsed": 38,
     "status": "ok",
     "timestamp": 1745974288341,
     "user": {
      "displayName": "Elie Rouphael",
      "userId": "00135125486090718159"
     },
     "user_tz": -120
    },
    "id": "gkLHVoWC-U1e"
   },
   "outputs": [],
   "source": [
    "import numpy as np"
   ]
  },
  {
   "cell_type": "code",
   "execution_count": null,
   "metadata": {
    "colab": {
     "base_uri": "https://localhost:8080/",
     "height": 80
    },
    "executionInfo": {
     "elapsed": 79,
     "status": "ok",
     "timestamp": 1745974298651,
     "user": {
      "displayName": "Elie Rouphael",
      "userId": "00135125486090718159"
     },
     "user_tz": -120
    },
    "id": "9uN720dn9eHY",
    "outputId": "8a5dadb3-56d6-4aab-aa4e-c8e730a56f1d"
   },
   "outputs": [],
   "source": [
    "model2 = KMeans(n_clusters=4, init='k-means++')\n",
    "model2.fit(PCA_components.iloc[:,:3])"
   ]
  },
  {
   "cell_type": "markdown",
   "metadata": {
    "id": "uQty6l59sJqu"
   },
   "source": [
    "# Lab 5\n",
    "\n",
    "# **Neural Networks**\n",
    "\n",
    "Multi-layer Perceptron (MLP) is a supervised learning algorithm that learns a function $ f(.):\\mathbb{R}^{m} → \\mathbb{R}^{o}$\n",
    " by training on a dataset, where ***m***\n",
    " is the number of dimensions for input and ***o***\n",
    " is the number of dimensions for output. Given a set of features $X=x_1,x_2, …, x_M$\n",
    " and a target $y$\n",
    ", it can learn a non-linear function approximator for either classification or regression. It is different from logistic regression, in that between the input and the output layer, there can be one or more non-linear layers, called hidden layers. Figure below shows a one hidden layer MLP with scalar output.\n",
    "\n",
    "![multilayerperceptron_network.png](data:image/png;base64,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)"
   ]
  },
  {
   "cell_type": "code",
   "execution_count": null,
   "metadata": {
    "colab": {
     "base_uri": "https://localhost:8080/",
     "height": 369
    },
    "executionInfo": {
     "elapsed": 923,
     "status": "ok",
     "timestamp": 1745974303595,
     "user": {
      "displayName": "Elie Rouphael",
      "userId": "00135125486090718159"
     },
     "user_tz": -120
    },
    "id": "pBBazeySqt7T",
    "outputId": "1073a6f5-3503-4ee7-bb4c-d057ab9e51b4"
   },
   "outputs": [],
   "source": [
    "# Example using Sk-Learn\n",
    "#Loading the Required Libraries and Modules\n",
    "import pandas as pd\n",
    "import numpy as np\n",
    "import matplotlib.pyplot as plt\n",
    "import sklearn\n",
    "from sklearn.neural_network import MLPClassifier\n",
    "from sklearn.model_selection import train_test_split\n",
    "from sklearn.metrics import mean_squared_error, ConfusionMatrixDisplay\n",
    "from math import sqrt\n",
    "from sklearn.metrics import r2_score\n",
    "\n",
    "#Reading the Data and Performing Basic Data Checks of the diabetese dataset\n",
    "df = pd.read_csv('/content/drive/MyDrive/Colab Notebooks/MADIS_Machine_Learning_Workshop/Datasets_new/diabetes.csv')\n",
    "print(df.shape)\n",
    "df.describe().transpose()"
   ]
  },
  {
   "cell_type": "code",
   "execution_count": null,
   "metadata": {
    "colab": {
     "base_uri": "https://localhost:8080/",
     "height": 351
    },
    "executionInfo": {
     "elapsed": 67,
     "status": "ok",
     "timestamp": 1745974305283,
     "user": {
      "displayName": "Elie Rouphael",
      "userId": "00135125486090718159"
     },
     "user_tz": -120
    },
    "id": "nVTEtBx1sF1E",
    "outputId": "e2bb4be4-47e0-4bab-98ca-f7230cfcc4a5"
   },
   "outputs": [],
   "source": [
    "# Creating Arrays for the Features and the Response Variable\n",
    "target_column = ['Outcome']\n",
    "predictors = list(set(list(df.columns))-set(target_column))\n",
    "df[predictors] = df[predictors]/df[predictors].max()\n",
    "df.describe().transpose()"
   ]
  },
  {
   "cell_type": "code",
   "execution_count": null,
   "metadata": {
    "colab": {
     "base_uri": "https://localhost:8080/"
    },
    "executionInfo": {
     "elapsed": 5,
     "status": "ok",
     "timestamp": 1745974307147,
     "user": {
      "displayName": "Elie Rouphael",
      "userId": "00135125486090718159"
     },
     "user_tz": -120
    },
    "id": "uIuODwuksMij",
    "outputId": "9f4fab10-7e48-45ce-eedc-957f3a7c7954"
   },
   "outputs": [],
   "source": [
    "# Creating the Training and Test Datasets\n",
    "\n",
    "X = df[predictors].values\n",
    "y = df[target_column].values\n",
    "\n",
    "X_train, X_test, y_train, y_test = train_test_split(X, y, test_size=0.30, random_state=40)\n",
    "print(X_train.shape); print(X_test.shape)"
   ]
  },
  {
   "cell_type": "code",
   "execution_count": null,
   "metadata": {
    "colab": {
     "base_uri": "https://localhost:8080/"
    },
    "executionInfo": {
     "elapsed": 404,
     "status": "ok",
     "timestamp": 1745974308677,
     "user": {
      "displayName": "Elie Rouphael",
      "userId": "00135125486090718159"
     },
     "user_tz": -120
    },
    "id": "DuL10owQseZw",
    "outputId": "adcb7eea-46ea-4b76-c24d-9422d2c27d90"
   },
   "outputs": [],
   "source": [
    "%%time\n",
    "# Building, Predicting, and Evaluating the Neural Network Model\n",
    "\n",
    "from sklearn.neural_network import MLPClassifier\n",
    "\n",
    "mlp = MLPClassifier(hidden_layer_sizes=(8,8,8), activation='relu', solver='adam', max_iter=500)\n",
    "mlp.fit(X_train,y_train)\n",
    "\n",
    "predict_train = mlp.predict(X_train)\n",
    "predict_test = mlp.predict(X_test)"
   ]
  },
  {
   "cell_type": "code",
   "execution_count": null,
   "metadata": {
    "colab": {
     "base_uri": "https://localhost:8080/"
    },
    "executionInfo": {
     "elapsed": 8,
     "status": "ok",
     "timestamp": 1745974309767,
     "user": {
      "displayName": "Elie Rouphael",
      "userId": "00135125486090718159"
     },
     "user_tz": -120
    },
    "id": "QhwUQj4WagOU",
    "outputId": "dc539410-0d2d-4ada-892c-d81dd8eff921"
   },
   "outputs": [],
   "source": [
    "mlp.classes_"
   ]
  },
  {
   "cell_type": "code",
   "execution_count": null,
   "metadata": {
    "colab": {
     "base_uri": "https://localhost:8080/",
     "height": 640
    },
    "executionInfo": {
     "elapsed": 353,
     "status": "ok",
     "timestamp": 1745974311149,
     "user": {
      "displayName": "Elie Rouphael",
      "userId": "00135125486090718159"
     },
     "user_tz": -120
    },
    "id": "cjYrZSysslGr",
    "outputId": "8f51d94c-1340-47de-e027-1b1a71e7ee09"
   },
   "outputs": [],
   "source": [
    "from sklearn.metrics import classification_report,confusion_matrix\n",
    "print(confusion_matrix(y_train,predict_train))\n",
    "cm = confusion_matrix(y_train,predict_train, labels=mlp.classes_)\n",
    "disp = ConfusionMatrixDisplay(confusion_matrix=cm,\n",
    "                               display_labels=mlp.classes_)\n",
    "disp.plot()\n",
    "\n",
    "print(classification_report(y_train,predict_train))"
   ]
  },
  {
   "cell_type": "markdown",
   "metadata": {
    "id": "HOxUurssssDj"
   },
   "source": [
    "The next step is to evaluate the performance of the model on the test data that is done with the lines of code below.\n",
    "\n"
   ]
  },
  {
   "cell_type": "code",
   "execution_count": null,
   "metadata": {
    "colab": {
     "base_uri": "https://localhost:8080/",
     "height": 640
    },
    "executionInfo": {
     "elapsed": 338,
     "status": "ok",
     "timestamp": 1745974313679,
     "user": {
      "displayName": "Elie Rouphael",
      "userId": "00135125486090718159"
     },
     "user_tz": -120
    },
    "id": "YKbkwN-rsmYs",
    "outputId": "1f335bee-839f-49c3-a3c8-9afcbf3430e5"
   },
   "outputs": [],
   "source": [
    "print(confusion_matrix(y_test,predict_test))\n",
    "cm_test = confusion_matrix(y_test,predict_test, labels=mlp.classes_)\n",
    "disp = ConfusionMatrixDisplay(confusion_matrix=cm_test,\n",
    "                               display_labels=mlp.classes_)\n",
    "disp.plot()\n",
    "print(classification_report(y_test,predict_test))"
   ]
  },
  {
   "cell_type": "markdown",
   "metadata": {
    "id": "RhzBVuy5a9IB"
   },
   "source": [
    "it is  not very good in testing, it confuses the H1 labels"
   ]
  },
  {
   "cell_type": "markdown",
   "metadata": {
    "id": "s8xPYkxut0R4"
   },
   "source": [
    "# **Building a Neural Network from Scratch**"
   ]
  },
  {
   "cell_type": "code",
   "execution_count": null,
   "metadata": {
    "colab": {
     "base_uri": "https://localhost:8080/"
    },
    "executionInfo": {
     "elapsed": 8016,
     "status": "ok",
     "timestamp": 1745974325476,
     "user": {
      "displayName": "Elie Rouphael",
      "userId": "00135125486090718159"
     },
     "user_tz": -120
    },
    "id": "Gdp4oIPbqWgx",
    "outputId": "61ff914d-8bf7-4637-f1d0-8e21063fc713"
   },
   "outputs": [],
   "source": [
    "#Data loading and pre-processing\n",
    "\n",
    "from keras.datasets import mnist # figures\n",
    "import keras\n",
    "\n",
    "# Setup train and test splits\n",
    "(x_train, y_train), (x_test, y_test) = mnist.load_data()\n",
    "print(\"Training data shape: \", x_train.shape) # (60000, 28, 28) -- 60000 images, each 28x28 pixels\n",
    "print(\"Test data shape\", x_test.shape) # (10000, 28, 28) -- 10000 images, each 28x28"
   ]
  },
  {
   "cell_type": "code",
   "execution_count": null,
   "metadata": {
    "colab": {
     "base_uri": "https://localhost:8080/"
    },
    "executionInfo": {
     "elapsed": 429,
     "status": "ok",
     "timestamp": 1745974325906,
     "user": {
      "displayName": "Elie Rouphael",
      "userId": "00135125486090718159"
     },
     "user_tz": -120
    },
    "id": "4rB18Y6fbLfm",
    "outputId": "e54652b3-e1fa-4c35-fd2f-fdcb03821384"
   },
   "outputs": [],
   "source": [
    "# Flatten the images\n",
    "image_vector_size = 28*28 # (x_train.shape)[1]*(x_train.shape)[2]\n",
    "x_train = x_train.reshape(x_train.shape[0], image_vector_size)\n",
    "x_test = x_test.reshape(x_test.shape[0], image_vector_size)\n",
    "\n",
    "# Setup train and test splits\n",
    "(x_train, y_train), (x_test, y_test) = mnist.load_data()\n",
    "print(\"Training label shape: \", y_train.shape) # (60000,) -- 60000 numbers (all 0-9)\n",
    "print(\"First 5 training labels: \", y_train[:5]) # [5, 0, 4, 1, 9]\n",
    "\n",
    "# Convert to \"one-hot\" vectors using the to_categorical function, coding in an output in binary vector\n",
    "num_classes = 10\n",
    "y_train = keras.utils.to_categorical(y_train, num_classes)\n",
    "y_test = keras.utils.to_categorical(y_test, num_classes)\n",
    "print(\"First 5 training lables as one-hot encoded vectors:\\n\", y_train[:5])\n",
    "\n",
    "\n",
    "image_size = 784 # 28*28\n",
    "num_classes = 10 # ten unique digits\n",
    "x_train=x_train.reshape(x_train.shape[0],28*28) # change each 28*28 image into a single array of size 784\n",
    "x_test=x_test.reshape(x_test.shape[0],28*28)"
   ]
  },
  {
   "cell_type": "code",
   "execution_count": null,
   "metadata": {
    "colab": {
     "base_uri": "https://localhost:8080/",
     "height": 225
    },
    "executionInfo": {
     "elapsed": 112,
     "status": "ok",
     "timestamp": 1745974326122,
     "user": {
      "displayName": "Elie Rouphael",
      "userId": "00135125486090718159"
     },
     "user_tz": -120
    },
    "id": "nViznY0ovnQ3",
    "outputId": "3b3faa33-2762-49e8-d24f-09d53b5e7d7c"
   },
   "outputs": [],
   "source": [
    "from keras.layers import Dense, Dropout # Dense layers are \"fully connected\" layers\n",
    "from keras.models import Sequential # Documentation: https://keras.io/models/sequential/\n",
    "from tensorflow.keras.optimizers import SGD, Adam\n",
    "\n",
    "# Design the neural network\n",
    "model = Sequential()\n",
    "# The input layer requires the special input_shape parameter which should match\n",
    "# the shape of our training data.\n",
    "model.add(Dense(units=32, activation='relu', input_shape=(image_size,)))\n",
    "model.add(Dense(units=64, activation='sigmoid', input_shape=(32,)))\n",
    "model.add(Dense(units=num_classes, activation='softmax')) # multiclass\n",
    "# model.add(Dropout(0.1))\n",
    "model.summary()"
   ]
  },
  {
   "cell_type": "markdown",
   "metadata": {
    "id": "l3r9nPnGewFR"
   },
   "source": [
    "## Interpretation of the studied case\n",
    "we have:\n",
    "- 10 numbers that we are trying to classify using their image\n",
    "- Neural Network doesn't have 2D format, so we flatten the input into one vector\n",
    "- a photo is 28x28 pixels, meaning that the vector will be 784 pixels\n",
    "\n",
    "There are no features that are being extracted, the raw data that is the pixels is used.\n",
    "\n",
    "So in short, the NN is learning a sequence of pixels to determine what is the number.\n",
    "\n",
    "Given that we have a multiclass, then\n",
    "- the output must be softmax in order to distinguish the results\n",
    "- We have only one hypothesis at the output, so we code them into binary classes with only one byte.\n",
    "Given that the output is binary,\n",
    "- we need to remap the data accordingly, so we must use a function that maps the data to [0,1] => this is the sigmoid.\n",
    "- Adding hidden layers means that there are still some dependencies between the modified data that has not been yet represented.\n",
    "- Adding neurones means that there are still some dependencies between the current data that has not yet been represented.\n",
    "- Adding dropouts means that there are some data that are not dependent to each other, and therefore no neurone must connect them. They must be removed to have a shallower network, decreasing its compexity."
   ]
  },
  {
   "cell_type": "code",
   "execution_count": null,
   "metadata": {
    "colab": {
     "base_uri": "https://localhost:8080/",
     "height": 699
    },
    "executionInfo": {
     "elapsed": 14159,
     "status": "ok",
     "timestamp": 1745974344521,
     "user": {
      "displayName": "Elie Rouphael",
      "userId": "00135125486090718159"
     },
     "user_tz": -120
    },
    "id": "gVuaREz3wAu7",
    "outputId": "e3249510-324d-4430-a00a-4b33a8367eb0"
   },
   "outputs": [],
   "source": [
    "sgd = SGD(learning_rate=0.01, momentum=0.09)\n",
    "# adam = Adam(learning_rate=0.001)\n",
    "\n",
    "model.compile(optimizer=sgd, loss='categorical_crossentropy', metrics=['accuracy'])\n",
    "history = model.fit(x_train, y_train, batch_size=128, epochs=5, verbose=1, validation_split=.1)\n",
    "loss, accuracy  = model.evaluate(x_test, y_test, verbose=False)\n",
    "\n",
    "plt.plot(history.history['accuracy'])\n",
    "plt.plot(history.history['val_accuracy'])\n",
    "plt.title('model accuracy')\n",
    "plt.ylabel('accuracy')\n",
    "plt.xlabel('epoch')\n",
    "plt.legend(['training', 'validation'], loc='best')\n",
    "plt.show()\n",
    "\n",
    "print(f'Test loss: {loss:.3}')\n",
    "print(f'Test accuracy: {accuracy:.3}')"
   ]
  },
  {
   "cell_type": "markdown",
   "metadata": {
    "id": "nwcz9IFJjYag"
   },
   "source": [
    "## Result interpretation\n",
    "- If the validation and the Training curve become closer, augment the number of epochs to observe what happens\n",
    "- if the validation curve is higher than the training curve, this means that the model is overfitted. Needs Dropout.\n",
    "- if the difference between the validation and training curve remains constent after a certain number of epochs, decrease epochs and look for other parameters to optimize.\n",
    "- Change the momentum and Learning rate till we have in the epochs the loss decreasing not increasing nor constant.\n"
   ]
  },
  {
   "cell_type": "markdown",
   "metadata": {
    "id": "pQsoHlZKxoIg"
   },
   "source": [
    "# Exercise:\n",
    "\n",
    "1. Increase the accuracy by addinng more layer in the neural network, increasing training epochs, change batch-size, and change learning rate.\n",
    "2. Change the dataset to CIFAR10 and try to increase the accuracy by addinng more layer in the neural network\n",
    "3. Use SVM for the same dataset and compare the results\n"
   ]
  },
  {
   "cell_type": "code",
   "execution_count": null,
   "metadata": {
    "colab": {
     "base_uri": "https://localhost:8080/",
     "height": 321
    },
    "executionInfo": {
     "elapsed": 93,
     "status": "ok",
     "timestamp": 1745974385057,
     "user": {
      "displayName": "Elie Rouphael",
      "userId": "00135125486090718159"
     },
     "user_tz": -120
    },
    "id": "4DfhJlM7c50W",
    "outputId": "d38115c7-412d-4af1-9371-89ffb454f958"
   },
   "outputs": [],
   "source": [
    "from keras.layers import Dense, Dropout # Dense layers are \"fully connected\" layers\n",
    "from keras.models import Sequential # Documentation: https://keras.io/models/sequential/\n",
    "from tensorflow.keras.optimizers import SGD, Adam\n",
    "\n",
    "# Design the neural network\n",
    "model = Sequential()\n",
    "# The input layer requires the special input_shape parameter which should match\n",
    "# the shape of our training data.\n",
    "model.add(Dense(units=32, activation='relu', input_shape=(image_size,)))\n",
    "model.add(Dense(units=64, activation='relu', input_shape=(32,)))\n",
    "model.add(Dense(units=64, activation='relu', input_shape=(64,)))\n",
    "model.add(Dense(units=64, activation='relu', input_shape=(64,)))\n",
    "model.add(Dense(units=64, activation='relu', input_shape=(64,)))\n",
    "model.add(Dense(units=num_classes, activation='softmax')) # multiclass\n",
    "# model.add(Dropout(0.1))\n",
    "model.summary()"
   ]
  },
  {
   "cell_type": "code",
   "execution_count": null,
   "metadata": {
    "colab": {
     "base_uri": "https://localhost:8080/"
    },
    "executionInfo": {
     "elapsed": 48895,
     "status": "ok",
     "timestamp": 1745974453188,
     "user": {
      "displayName": "Elie Rouphael",
      "userId": "00135125486090718159"
     },
     "user_tz": -120
    },
    "id": "NUYzb0zJdOXC",
    "outputId": "8ac19260-335e-4d99-856c-f24a7af908fd"
   },
   "outputs": [],
   "source": [
    "sgd = SGD(learning_rate=0.003, momentum=0.09)\n",
    "# adam = Adam(learning_rate=0.001)\n",
    "\n",
    "model.compile(optimizer=sgd, loss='categorical_crossentropy', metrics=['accuracy'])\n",
    "history = model.fit(x_train, y_train, batch_size=128, epochs=20, verbose=1, validation_split=.1)\n",
    "loss, accuracy  = model.evaluate(x_test, y_test, verbose=False)"
   ]
  },
  {
   "cell_type": "code",
   "execution_count": null,
   "metadata": {
    "colab": {
     "base_uri": "https://localhost:8080/",
     "height": 506
    },
    "executionInfo": {
     "elapsed": 284,
     "status": "ok",
     "timestamp": 1745974458824,
     "user": {
      "displayName": "Elie Rouphael",
      "userId": "00135125486090718159"
     },
     "user_tz": -120
    },
    "id": "nGVZEb6Kox1z",
    "outputId": "d98164ac-018f-4dc9-9ced-76f7d1d6ac04"
   },
   "outputs": [],
   "source": [
    "import matplotlib.pyplot as plt\n",
    "\n",
    "plt.plot(history.history['accuracy'])\n",
    "plt.plot(history.history['val_accuracy'])\n",
    "plt.title('model accuracy')\n",
    "plt.ylabel('accuracy')\n",
    "plt.xlabel('epoch')\n",
    "plt.legend(['training', 'validation'], loc='best')\n",
    "plt.show()\n",
    "\n",
    "print(f'Test loss: {loss:.3}')\n",
    "print(f'Test accuracy: {accuracy:.3}')"
   ]
  },
  {
   "cell_type": "code",
   "execution_count": null,
   "metadata": {
    "colab": {
     "base_uri": "https://localhost:8080/"
    },
    "executionInfo": {
     "elapsed": 16372,
     "status": "ok",
     "timestamp": 1745974496189,
     "user": {
      "displayName": "Elie Rouphael",
      "userId": "00135125486090718159"
     },
     "user_tz": -120
    },
    "id": "-twU-WFUeTM2",
    "outputId": "bfc3f3a0-5bcf-42da-bd6c-365a77848c7a"
   },
   "outputs": [],
   "source": [
    "#Data loading and pre-processing\n",
    "\n",
    "from keras.datasets import cifar10 # figures\n",
    "import keras\n",
    "\n",
    "# Setup train and test splits\n",
    "(x_train, y_train), (x_test, y_test) = cifar10.load_data()\n",
    "print(\"Training data shape: \", x_train.shape) # (60000, 28, 28) -- 60000 images, each 28x28 pixels\n",
    "print(\"Test data shape\", x_test.shape) # (10000, 28, 28) -- 10000 images, each 28x28"
   ]
  },
  {
   "cell_type": "code",
   "execution_count": null,
   "metadata": {
    "colab": {
     "base_uri": "https://localhost:8080/",
     "height": 72
    },
    "executionInfo": {
     "elapsed": 19,
     "status": "ok",
     "timestamp": 1745409963890,
     "user": {
      "displayName": "Elie Rouphael",
      "userId": "00135125486090718159"
     },
     "user_tz": -120
    },
    "id": "syjSsC1web2t",
    "outputId": "4167cd7d-ce52-42c9-ea8d-46df41a773e8"
   },
   "outputs": [],
   "source": [
    "x_train[3]"
   ]
  },
  {
   "cell_type": "code",
   "execution_count": null,
   "metadata": {
    "colab": {
     "base_uri": "https://localhost:8080/"
    },
    "executionInfo": {
     "elapsed": 4422,
     "status": "ok",
     "timestamp": 1745974502207,
     "user": {
      "displayName": "Elie Rouphael",
      "userId": "00135125486090718159"
     },
     "user_tz": -120
    },
    "id": "UyGG53Qfev4p",
    "outputId": "a35c5207-2ccc-48ee-e088-fc19b2d47336"
   },
   "outputs": [],
   "source": [
    "# Flatten the images\n",
    "image_vector_size = 32*32*3 # (x_train.shape)[1]*(x_train.shape)[2]\n",
    "x_train = x_train.reshape(x_train.shape[0], image_vector_size)\n",
    "x_test = x_test.reshape(x_test.shape[0], image_vector_size)\n",
    "\n",
    "# Setup train and test splits\n",
    "(x_train, y_train), (x_test, y_test) = cifar10.load_data()\n",
    "print(\"Training label shape: \", y_train.shape) # (60000,) -- 60000 numbers (all 0-9)\n",
    "print(\"First 5 training labels: \", y_train[:5]) # [5, 0, 4, 1, 9]\n",
    "\n",
    "# Convert to \"one-hot\" vectors using the to_categorical function, coding in an output in binary vector\n",
    "num_classes = 10\n",
    "y_train = keras.utils.to_categorical(y_train, num_classes)\n",
    "y_test = keras.utils.to_categorical(y_test, num_classes)\n",
    "print(\"First 5 training lables as one-hot encoded vectors:\\n\", y_train[:5])\n"
   ]
  },
  {
   "cell_type": "code",
   "execution_count": null,
   "metadata": {
    "executionInfo": {
     "elapsed": 642,
     "status": "ok",
     "timestamp": 1745974506541,
     "user": {
      "displayName": "Elie Rouphael",
      "userId": "00135125486090718159"
     },
     "user_tz": -120
    },
    "id": "ZcIfkoENgEoz"
   },
   "outputs": [],
   "source": [
    "image_size = 32*32*3\n",
    "num_classes = 10 # ten unique classes\n",
    "x_train=x_train.reshape(x_train.shape[0],32*32*3) # change each (32,32,3) image into a single array of size 32*32*3\n",
    "x_test=x_test.reshape(x_test.shape[0],32*32*3)"
   ]
  },
  {
   "cell_type": "code",
   "execution_count": null,
   "metadata": {
    "colab": {
     "base_uri": "https://localhost:8080/",
     "height": 417
    },
    "executionInfo": {
     "elapsed": 167,
     "status": "ok",
     "timestamp": 1745974521392,
     "user": {
      "displayName": "Elie Rouphael",
      "userId": "00135125486090718159"
     },
     "user_tz": -120
    },
    "id": "3JMbuDtOi1fB",
    "outputId": "545dcba1-2b1b-47e4-820b-5f6b73603cb9"
   },
   "outputs": [],
   "source": [
    "# Design the neural network\n",
    "model1 = Sequential()\n",
    "# The input layer requires the special input_shape parameter which should match\n",
    "# the shape of our training data.\n",
    "model1.add(Dense(units=32, activation='relu', input_shape=(image_size,)))\n",
    "model1.add(Dense(units=64, activation='relu', input_shape=(32,)))\n",
    "model1.add(Dense(units=64, activation='relu', input_shape=(64,)))\n",
    "model1.add(Dense(units=64, activation='relu', input_shape=(64,)))\n",
    "model1.add(Dense(units=64, activation='relu', input_shape=(64,)))\n",
    "model1.add(Dense(units=64, activation='relu', input_shape=(64,)))\n",
    "model1.add(Dense(units=64, activation='relu', input_shape=(64,)))\n",
    "model1.add(Dense(units=64, activation='relu', input_shape=(64,)))\n",
    "model1.add(Dense(units=num_classes, activation='softmax')) # multiclass\n",
    "# model.add(Dropout(0.1))\n",
    "model1.summary()"
   ]
  },
  {
   "cell_type": "code",
   "execution_count": null,
   "metadata": {
    "colab": {
     "base_uri": "https://localhost:8080/",
     "height": 1000
    },
    "executionInfo": {
     "elapsed": 77302,
     "status": "ok",
     "timestamp": 1745411993459,
     "user": {
      "displayName": "Elie Rouphael",
      "userId": "00135125486090718159"
     },
     "user_tz": -120
    },
    "id": "Vm58s92FjHPq",
    "outputId": "0304be5f-7b24-4b26-f77b-8b042ae9bb28"
   },
   "outputs": [],
   "source": [
    "sgd = SGD(learning_rate=0.0003, momentum=0.09)\n",
    "adam = Adam(learning_rate=0.0001)\n",
    "\n",
    "model1.compile(optimizer=sgd, loss='categorical_crossentropy', metrics=['accuracy'])\n",
    "history = model1.fit(x_train, y_train, batch_size=512, epochs=50, verbose=1, validation_split=.1)\n",
    "loss, accuracy  = model1.evaluate(x_test, y_test, verbose=False)\n",
    "\n",
    "plt.plot(history.history['accuracy'])\n",
    "plt.plot(history.history['val_accuracy'])\n",
    "plt.title('model accuracy')\n",
    "plt.ylabel('accuracy')\n",
    "plt.xlabel('epoch')\n",
    "plt.legend(['training', 'validation'], loc='best')\n",
    "plt.show()\n",
    "\n",
    "print(f'Test loss: {loss:.3}')\n",
    "print(f'Test accuracy: {accuracy:.3}')"
   ]
  },
  {
   "cell_type": "markdown",
   "metadata": {
    "id": "hLd9Lkles6Cg"
   },
   "source": [
    "## SVM\n",
    "Using SVM to resolve the problem:\n",
    "Find the hyperplanes that can distinguish the 10 classes that I have in my dataset.\n",
    "I only have a series of pixel luminosity"
   ]
  },
  {
   "cell_type": "code",
   "execution_count": null,
   "metadata": {
    "colab": {
     "base_uri": "https://localhost:8080/"
    },
    "executionInfo": {
     "elapsed": 27101,
     "status": "ok",
     "timestamp": 1745974709318,
     "user": {
      "displayName": "Elie Rouphael",
      "userId": "00135125486090718159"
     },
     "user_tz": -120
    },
    "id": "sDmtJHOBtdiE",
    "outputId": "e96ad115-abc3-46ce-8124-cbf96ad18957"
   },
   "outputs": [],
   "source": [
    "%%time\n",
    "from sklearn import svm\n",
    "import numpy as np\n",
    "from keras.optimizers import SGD\n",
    "\n",
    "from keras.datasets import cifar10 # figures\n",
    "\n",
    "(x_train, y_train), (x_test, y_test) = cifar10.load_data()\n",
    "\n",
    "import cv2\n",
    "# greyscale\n",
    "x_train = np.array([cv2.cvtColor(image, cv2.COLOR_BGR2GRAY) for image in x_train])\n",
    "x_test = np.array([cv2.cvtColor(image, cv2.COLOR_BGR2GRAY) for image in x_test])\n",
    "# normalize\n",
    "x_train  = x_train/255\n",
    "x_test  = x_test/255\n",
    "# flatten\n",
    "image_size = x_train.shape[1] * x_train.shape[2]\n",
    "x_train = x_train.reshape(x_train.shape[0],image_size) # change each 32x32 image into a single array of size 1024\n",
    "x_test = x_test.reshape(x_test.shape[0],image_size)"
   ]
  },
  {
   "cell_type": "code",
   "execution_count": null,
   "metadata": {
    "colab": {
     "base_uri": "https://localhost:8080/"
    },
    "id": "h8RYqnEHyIIA",
    "outputId": "f45b97ee-87f7-423c-d279-9f20550248c4"
   },
   "outputs": [],
   "source": [
    "clf = svm.SVC(kernel='rbf')\n",
    "clf.fit(x_train, y_train)"
   ]
  },
  {
   "cell_type": "markdown",
   "metadata": {
    "id": "YH4p-tOf1zFL"
   },
   "source": [
    "## Random Forest"
   ]
  },
  {
   "cell_type": "code",
   "execution_count": null,
   "metadata": {
    "id": "mcmkkUt_1oVr"
   },
   "outputs": [],
   "source": [
    "%%time\n",
    "# import Random Forest classifier\n",
    "\n",
    "from sklearn.ensemble import RandomForestClassifier\n",
    "\n",
    "# instantiate the classifier\n",
    "\n",
    "rfc = RandomForestClassifier(random_state=0)\n",
    "\n",
    "# fit the model\n",
    "\n",
    "rfc.fit(x_train, y_train)\n",
    "\n",
    "# Predict the Test set results\n",
    "\n",
    "y_pred = rfc.predict(x_test)\n",
    "\n",
    "# Check accuracy score\n",
    "\n",
    "from sklearn.metrics import accuracy_score\n",
    "\n",
    "print('Model accuracy score with 10 decision-trees : {0:0.4f}'. format(accuracy_score(y_test, y_pred)))"
   ]
  },
  {
   "cell_type": "markdown",
   "metadata": {
    "id": "wcJ2cTZUxiXh"
   },
   "source": [
    "Stayed 8 minutes without giving a result"
   ]
  },
  {
   "cell_type": "code",
   "execution_count": null,
   "metadata": {
    "id": "2ylC6a-Yv1l3"
   },
   "outputs": [],
   "source": [
    "#Import scikit-learn metrics module for accuracy calculation\n",
    "from sklearn import metrics\n",
    "\n",
    "y_pred = clf.predict(x_test)\n",
    "# Model Accuracy: how often is the classifier correct?\n",
    "print(\"Accuracy:\",metrics.accuracy_score(y_test, y_pred))\n",
    "\n",
    "# Model Precision: what percentage of positive tuples are labeled as such?\n",
    "print(\"Precision:\",metrics.precision_score(y_test, y_pred))\n",
    "\n",
    "# Model Recall: what percentage of positive tuples are labelled as such?\n",
    "print(\"Recall:\",metrics.recall_score(y_test, y_pred))"
   ]
  },
  {
   "cell_type": "markdown",
   "metadata": {
    "id": "TQ4E7FcF0HCr"
   },
   "source": [
    "# **Lab 6**\n",
    "\n",
    "# **Deep Neural Networks**\n",
    "A neural network with deph( distance form source to sink more then 2 is called deep neural network)\n",
    "\n",
    "**Example: Convolutional Neural Networks**\n",
    "Like other types of neural networks, CNNs consume numerical data.\n",
    "\n",
    "Therefore, the images fed to these networks must be converted to a numerical representation. Since images are made up of pixels, they are converted into a numerical form that is passed to the CNN.\n",
    "\n",
    "However, as we will discuss in the upcoming section, how differetn layers work. Figure below shows a CNN architecture.\n",
    "\n",
    "![1_5A4b1qOZIr4Q6SKceqGn7w.webp](data:image/webp;base64,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)\n",
    "\n",
    " To understand how this works, let’s look at some of the steps involved in training a CNN.\n",
    "\n",
    "**Convolution Layer**\n",
    "\n",
    "Reducing the size of the numerical representation sent to the CNN is done via the convolution operation. This process is vital so that only features that are important in classifying an image are sent to the neural network. Apart from improving the accuracy of the network, this also ensures that minimal compute resources are used in training the network.\n",
    "\n",
    "The result of the convolution operation is referred to as a feature map, convolved feature, or activation map. Applying a feature detector is what leads to a feature map. The feature detector is also known by other names such as kernel or filter.\n",
    "\n",
    "The kernel is usually a 3 by 3 matrix. Performing an element-wise multiplication of the kernel with the input image and summing the values, outputs the feature map. This is done by sliding the kernel on the input image. The sliding happens in steps known as strides. The strides and the size of the kernel can be set manually when creating the CNN.\n",
    "![mwiti_image_classification_convolutional_neural_networks_cnns_5.gif](data:image/gif;base64,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)\n",
    "\n",
    "**Pooling Layer**\n",
    "\n",
    "In this operation, the size of the feature map is reduced further. There are various pooling methods.\n",
    "A common technique is max-pooling. The size of the pooling filter is usually a 2 by 2 matrix. In max-pooling, the 2 by 2 filter slides over the feature map and picks the largest value in a given box. This operation results in a pooled feature map\n",
    "\n",
    "![mwiti_image_classification_convolutional_neural_networks_cnns_1.gif](data:image/gif;base64,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)"
   ]
  },
  {
   "cell_type": "code",
   "execution_count": null,
   "metadata": {
    "colab": {
     "base_uri": "https://localhost:8080/",
     "height": 465
    },
    "executionInfo": {
     "elapsed": 15962,
     "status": "ok",
     "timestamp": 1745412711358,
     "user": {
      "displayName": "Elie Rouphael",
      "userId": "00135125486090718159"
     },
     "user_tz": -120
    },
    "id": "XqnTzIdJwG6q",
    "outputId": "3196b1e4-d2fe-4243-e654-a3ee55c0a4e0"
   },
   "outputs": [],
   "source": [
    "import tensorflow as tf\n",
    "# import train and test mnist data\n",
    "(x_train, y_train), (x_test, y_test) = tf.keras.datasets.mnist.load_data()\n",
    "\n",
    "\n",
    "import matplotlib.pyplot as plt\n",
    "%matplotlib inline\n",
    "image_index = 7777 # You may select anything up to 60,000\n",
    "print(y_train[image_index]) # The label is 8\n",
    "plt.imshow(x_train[image_index], cmap='Greys')\n",
    "\n",
    "# When we run the code above, we will get the greyscale visualization of the RGB codes as shown below."
   ]
  },
  {
   "cell_type": "code",
   "execution_count": null,
   "metadata": {
    "colab": {
     "base_uri": "https://localhost:8080/"
    },
    "executionInfo": {
     "elapsed": 177,
     "status": "ok",
     "timestamp": 1745412739383,
     "user": {
      "displayName": "Elie Rouphael",
      "userId": "00135125486090718159"
     },
     "user_tz": -120
    },
    "id": "2qFsSFSb2a_z",
    "outputId": "7400af4d-3cf3-4388-a007-f78440c5f5df"
   },
   "outputs": [],
   "source": [
    "# Reshaping the array to 4-dims so that it can work with the Keras API\n",
    "x_train = x_train.reshape(x_train.shape[0], 28, 28, 1)\n",
    "x_test = x_test.reshape(x_test.shape[0], 28, 28, 1)\n",
    "input_shape = (28, 28, 1)\n",
    "# Making sure that the values are float so that we can get decimal points after division\n",
    "x_train = x_train.astype('float32')\n",
    "x_test = x_test.astype('float32')\n",
    "# Normalizing the RGB codes by dividing it to the max RGB value.\n",
    "x_train /= 255\n",
    "x_test /= 255\n",
    "print('x_train shape:', x_train.shape)\n",
    "print('Number of images in x_train', x_train.shape[0])\n",
    "print('Number of images in x_test', x_test.shape[0])"
   ]
  },
  {
   "cell_type": "code",
   "execution_count": null,
   "metadata": {
    "colab": {
     "base_uri": "https://localhost:8080/"
    },
    "executionInfo": {
     "elapsed": 114,
     "status": "ok",
     "timestamp": 1745412764321,
     "user": {
      "displayName": "Elie Rouphael",
      "userId": "00135125486090718159"
     },
     "user_tz": -120
    },
    "id": "0fyOiVAE2tjM",
    "outputId": "b782bb15-59f2-4350-ca52-a2ad055c97ca"
   },
   "outputs": [],
   "source": [
    "# Importing the required Keras modules containing model and layers\n",
    "from tensorflow.keras.models import Sequential\n",
    "from tensorflow.keras.layers import Dense, Conv2D, Dropout, Flatten, MaxPooling2D\n",
    "# Creating a Sequential Model and adding the layers\n",
    "model = Sequential()\n",
    "model.add(Conv2D(28, kernel_size=(3,3), input_shape=input_shape))\n",
    "model.add(MaxPooling2D(pool_size=(2, 2)))\n",
    "model.add(Flatten()) # Flattening the 2D arrays for fully connected layers\n",
    "model.add(Dense(128, activation=tf.nn.relu))\n",
    "model.add(Dropout(0.2))\n",
    "model.add(Dense(10,activation=tf.nn.softmax))"
   ]
  },
  {
   "cell_type": "code",
   "execution_count": null,
   "metadata": {
    "colab": {
     "base_uri": "https://localhost:8080/",
     "height": 321
    },
    "executionInfo": {
     "elapsed": 43,
     "status": "ok",
     "timestamp": 1745412818080,
     "user": {
      "displayName": "Elie Rouphael",
      "userId": "00135125486090718159"
     },
     "user_tz": -120
    },
    "id": "D677vY2u2xJE",
    "outputId": "f87023e8-3922-44cd-d15f-9a43d073ddd2"
   },
   "outputs": [],
   "source": [
    "# have a look at the summary of model\n",
    "\n",
    "model.summary()"
   ]
  },
  {
   "cell_type": "code",
   "execution_count": null,
   "metadata": {
    "colab": {
     "base_uri": "https://localhost:8080/"
    },
    "executionInfo": {
     "elapsed": 787760,
     "status": "ok",
     "timestamp": 1745413654815,
     "user": {
      "displayName": "Elie Rouphael",
      "userId": "00135125486090718159"
     },
     "user_tz": -120
    },
    "id": "BxyGa12p25R-",
    "outputId": "97edc5ea-b5df-46c6-9a57-9d6a2eb5e37d"
   },
   "outputs": [],
   "source": [
    "#compile and train the model\n",
    "\n",
    "model.compile(optimizer='adam',\n",
    "              loss='sparse_categorical_crossentropy',\n",
    "              metrics=['accuracy'])\n",
    "model.fit(x=x_train,y=y_train, epochs=10)"
   ]
  },
  {
   "cell_type": "markdown",
   "metadata": {
    "id": "9N_u7hrnar6w"
   },
   "source": [
    "- `categorical_crossentropy (cce)` produces a one-hot array containing the probable match for each category,\n",
    "- `sparse_categorical_crossentropy (scce)` produces a category index of the most likely matching category."
   ]
  },
  {
   "cell_type": "markdown",
   "metadata": {
    "id": "n5Wu_1ZqbDl1"
   },
   "source": [
    "Use sparse categorical crossentropy when your classes are mutually exclusive (e.g. when each sample belongs exactly to one class) and categorical crossentropy when one sample can have multiple classes or labels are soft probabilities (like [0.5, 0.3, 0.2])."
   ]
  },
  {
   "cell_type": "code",
   "execution_count": null,
   "metadata": {
    "colab": {
     "base_uri": "https://localhost:8080/"
    },
    "executionInfo": {
     "elapsed": 3165,
     "status": "ok",
     "timestamp": 1745413664549,
     "user": {
      "displayName": "Elie Rouphael",
      "userId": "00135125486090718159"
     },
     "user_tz": -120
    },
    "id": "taNPMriH2_Bu",
    "outputId": "619c2fa6-fa42-49fb-8c47-8540dfe9a97c"
   },
   "outputs": [],
   "source": [
    "#evaluate the model using the test data\n",
    "model.evaluate(x_test, y_test)"
   ]
  },
  {
   "cell_type": "markdown",
   "metadata": {
    "id": "bhk4IOcX3TMs"
   },
   "source": [
    "We achieved 98.5% accuracy with such a basic model. To be frank, in many image classification cases (e.g. for autonomous cars), we cannot even tolerate 0.1% error since, as an analogy, it will cause 1 accident in 1000 cases. However, for our first model, I would say the result is still pretty good. We can also make individual predictions with the following code:"
   ]
  },
  {
   "cell_type": "code",
   "execution_count": null,
   "metadata": {
    "colab": {
     "base_uri": "https://localhost:8080/",
     "height": 465
    },
    "executionInfo": {
     "elapsed": 455,
     "status": "ok",
     "timestamp": 1745413730744,
     "user": {
      "displayName": "Elie Rouphael",
      "userId": "00135125486090718159"
     },
     "user_tz": -120
    },
    "id": "uc2nO_E73WBi",
    "outputId": "5439b791-c88f-45be-adc3-71c688d053e6"
   },
   "outputs": [],
   "source": [
    "image_index = 5685\n",
    "plt.imshow(x_test[image_index].reshape(28, 28),cmap='Greys')   #select the image at given index and show\n",
    "pred = model.predict(x_test[image_index].reshape(1, 28, 28, 1)) # adding batch_size and predicting results\n",
    "print('The predicted Value for the image index is |{}|'.format(pred.argmax()))"
   ]
  },
  {
   "cell_type": "markdown",
   "metadata": {
    "id": "rxIvm_uccOeD"
   },
   "source": [
    "# Exercise:\n",
    "\n",
    "1. Increase the accuracy by addinng more convolutional layer(s) in the neural network, change the kernel size, increasing training epochs, change batch-size, and change learning rate.\n",
    "2. Change the dataset to CIFAR10 and try to increase the accuracy above 78 %.\n",
    "\n",
    "3. Create a 1D-CNN and compare the accuracy with 2D-CNN.\n",
    "\n",
    "4. Explore the idea of transfer learning. You can find some information [here](https://keras.io/guides/transfer_learning/)\n",
    "5. Follow the Tutorial [here](https://towardsdatascience.com/time-series-prediction-with-lstm-in-tensorflow-42104db39340) for time-series prediction using LSTMs.\n"
   ]
  },
  {
   "cell_type": "code",
   "execution_count": null,
   "metadata": {
    "colab": {
     "base_uri": "https://localhost:8080/",
     "height": 465
    },
    "executionInfo": {
     "elapsed": 5021,
     "status": "ok",
     "timestamp": 1745414965638,
     "user": {
      "displayName": "Elie Rouphael",
      "userId": "00135125486090718159"
     },
     "user_tz": -120
    },
    "id": "cCgkbHhvzmoH",
    "outputId": "dd3cf5cf-7e1c-47de-f895-c8d46709dcf6"
   },
   "outputs": [],
   "source": [
    "import tensorflow as tf\n",
    "# import train and test cifar10 data\n",
    "(x_train, y_train), (x_test, y_test) = tf.keras.datasets.cifar10.load_data()\n",
    "\n",
    "\n",
    "import matplotlib.pyplot as plt\n",
    "%matplotlib inline\n",
    "image_index = 697\n",
    "print(y_train[image_index])\n",
    "plt.imshow(x_train[image_index])\n",
    "print(x_train.shape)\n",
    "\n",
    "# When we run the code above, we will get the greyscale visualization of the RGB codes as shown below."
   ]
  },
  {
   "cell_type": "code",
   "execution_count": null,
   "metadata": {
    "colab": {
     "base_uri": "https://localhost:8080/"
    },
    "executionInfo": {
     "elapsed": 722,
     "status": "ok",
     "timestamp": 1745415001639,
     "user": {
      "displayName": "Elie Rouphael",
      "userId": "00135125486090718159"
     },
     "user_tz": -120
    },
    "id": "lNBdjrrK1kXT",
    "outputId": "c8a6660b-a2df-4071-bbd3-66e3e96aa336"
   },
   "outputs": [],
   "source": [
    "# Reshaping the array to 4-dims so that it can work with the Keras API\n",
    "x_train = x_train.reshape(x_train.shape[0], 32, 32, 3)\n",
    "x_test = x_test.reshape(x_test.shape[0], 32, 32, 3)\n",
    "input_shape = (32, 32, 3)\n",
    "# Making sure that the values are float so that we can get decimal points after division\n",
    "x_train = x_train.astype('float32')\n",
    "x_test = x_test.astype('float32')\n",
    "# Normalizing the RGB codes by dividing it to the max RGB value.\n",
    "x_train /= 255\n",
    "x_test /= 255\n",
    "print('x_train shape:', x_train.shape)\n",
    "print('Number of images in x_train', x_train.shape[0])\n",
    "print('Number of images in x_test', x_test.shape[0])"
   ]
  },
  {
   "cell_type": "code",
   "execution_count": null,
   "metadata": {
    "colab": {
     "base_uri": "https://localhost:8080/",
     "height": 353
    },
    "executionInfo": {
     "elapsed": 172,
     "status": "ok",
     "timestamp": 1745415338206,
     "user": {
      "displayName": "Elie Rouphael",
      "userId": "00135125486090718159"
     },
     "user_tz": -120
    },
    "id": "hQU7Emw515s_",
    "outputId": "e7d21cec-872f-4e5e-befa-c2c4eb93ff1d"
   },
   "outputs": [],
   "source": [
    "# Importing the required Keras modules containing model and layers\n",
    "from tensorflow.keras.models import Sequential\n",
    "from tensorflow.keras.layers import Dense, Conv2D, Dropout, Flatten, MaxPooling2D\n",
    "# Creating a Sequential Model and adding the layers\n",
    "model = Sequential()\n",
    "model.add(Conv2D(32, kernel_size=(3,3), input_shape=input_shape))\n",
    "model.add(Conv2D(32, kernel_size=(3,3)))\n",
    "model.add(MaxPooling2D(pool_size=(2, 2)))\n",
    "model.add(Flatten()) # Flattening the 2D arrays for fully connected layers\n",
    "model.add(Dense(128, activation=tf.nn.relu))\n",
    "model.add(Dropout(0.2))\n",
    "model.add(Dense(10,activation=tf.nn.softmax))\n",
    "\n",
    "model.summary()"
   ]
  },
  {
   "cell_type": "code",
   "execution_count": null,
   "metadata": {
    "colab": {
     "base_uri": "https://localhost:8080/"
    },
    "executionInfo": {
     "elapsed": 2075899,
     "status": "ok",
     "timestamp": 1745417443089,
     "user": {
      "displayName": "Elie Rouphael",
      "userId": "00135125486090718159"
     },
     "user_tz": -120
    },
    "id": "Zd-tfdPM3M7j",
    "outputId": "aab2c302-bbb4-44ff-8dd0-b976b85561d8"
   },
   "outputs": [],
   "source": [
    "#compile and train the model\n",
    "\n",
    "model.compile(optimizer='adam',\n",
    "              loss='sparse_categorical_crossentropy',\n",
    "              metrics=['accuracy'])\n",
    "model.fit(x=x_train,y=y_train, epochs=15)"
   ]
  },
  {
   "cell_type": "code",
   "execution_count": null,
   "metadata": {
    "colab": {
     "base_uri": "https://localhost:8080/"
    },
    "executionInfo": {
     "elapsed": 14457,
     "status": "ok",
     "timestamp": 1745417468089,
     "user": {
      "displayName": "Elie Rouphael",
      "userId": "00135125486090718159"
     },
     "user_tz": -120
    },
    "id": "RFM-mbOO_LPU",
    "outputId": "c67d51ca-71ef-49b4-f1af-b471344a7573"
   },
   "outputs": [],
   "source": [
    "#evaluate the model using the test data\n",
    "model.evaluate(x_test, y_test)"
   ]
  },
  {
   "cell_type": "markdown",
   "metadata": {
    "id": "xtHC1jJw2VDr"
   },
   "source": [
    "## Transfer Learning\n",
    "[Transfer learning & fine-tuning guide](https://keras.io/guides/transfer_learning/)"
   ]
  },
  {
   "cell_type": "markdown",
   "metadata": {
    "id": "WAyUSbnx2yrP"
   },
   "source": [
    "**Transfer learning** consists of taking features learned on one problem, and leveraging them on a new, similar problem. For instance, features from a model that has learned to identify racoons may be useful to kick-start a model meant to identify tanukis."
   ]
  },
  {
   "cell_type": "markdown",
   "metadata": {
    "id": "AClwjcDT273j"
   },
   "source": [
    "The most common incarnation of transfer learning in the context of deep learning is the following workflow:\n",
    "\n",
    "1. Take layers from a previously trained model.\n",
    "2. Freeze them, so as to avoid destroying any of the information they contain during future training rounds.\n",
    "3. Add some new, trainable layers on top of the frozen layers. They will learn to turn the old features into predictions on a new dataset.\n",
    "4. Train the new layers on your dataset.\n",
    "\n",
    "This could be applied on our cifar datase from imageNet / ResNet ... in order to fine tune the parameters."
   ]
  },
  {
   "cell_type": "markdown",
   "metadata": {
    "id": "S5rSIoQ54KGL"
   },
   "source": [
    "## LSTM\n",
    "[Time series forecasting](https://towardsdatascience.com/time-series-prediction-with-lstm-in-tensorflow-42104db39340)"
   ]
  },
  {
   "cell_type": "markdown",
   "metadata": {
    "id": "m7RMx8kE-PT9"
   },
   "source": [
    "- generate a synthetic time series\n",
    "- divide the series into X and y appropriately\n",
    "- structure a neural network in Keras and Tensorflow based on bidirectional LSTMs\n",
    "- train with early stopping and evaluate performance\n",
    "- make predictions about the training series, validation and into the future"
   ]
  },
  {
   "cell_type": "markdown",
   "metadata": {
    "id": "bzODjPb-wI_m"
   },
   "source": [
    "# **Lab 7**\n",
    "\n",
    "# **Anomaly detection**\n",
    "\n",
    "**Detecting Spam Emails**\n"
   ]
  },
  {
   "cell_type": "code",
   "execution_count": null,
   "metadata": {
    "colab": {
     "base_uri": "https://localhost:8080/"
    },
    "executionInfo": {
     "elapsed": 18,
     "status": "ok",
     "timestamp": 1745974957347,
     "user": {
      "displayName": "Elie Rouphael",
      "userId": "00135125486090718159"
     },
     "user_tz": -120
    },
    "id": "0aO-5UIBwQuN",
    "outputId": "5d16e885-bb4a-4cf5-b8dc-2fb0bbd2a748"
   },
   "outputs": [],
   "source": [
    "import numpy as np\n",
    "import pandas as pd\n",
    "import matplotlib.pyplot as plt\n",
    "import seaborn as sns\n",
    "\n",
    "import string\n",
    "import nltk\n",
    "from nltk.corpus import stopwords\n",
    "from wordcloud import WordCloud\n",
    "nltk.download('stopwords')\n",
    "\n",
    "#Importing libraries necessary for Model Building and Training\n",
    "import tensorflow as tf\n",
    "from tensorflow.keras.preprocessing.text import Tokenizer\n",
    "from tensorflow.keras.preprocessing.sequence import pad_sequences\n",
    "from sklearn.model_selection import train_test_split\n",
    "\n",
    "\n",
    "import warnings\n",
    "warnings.filterwarnings('ignore')"
   ]
  },
  {
   "cell_type": "code",
   "execution_count": null,
   "metadata": {
    "colab": {
     "base_uri": "https://localhost:8080/",
     "height": 241
    },
    "executionInfo": {
     "elapsed": 1386,
     "status": "ok",
     "timestamp": 1745974960619,
     "user": {
      "displayName": "Elie Rouphael",
      "userId": "00135125486090718159"
     },
     "user_tz": -120
    },
    "id": "TSt5EFiYy2x4",
    "outputId": "71813817-f82d-46a9-8b94-e0fcdee1afb1"
   },
   "outputs": [],
   "source": [
    "data = pd.read_csv('/content/drive/MyDrive/Colab Notebooks/MADIS_Machine_Learning_Workshop/Datasets_new/spam.csv')\n",
    "data.head()"
   ]
  },
  {
   "cell_type": "code",
   "execution_count": null,
   "metadata": {
    "colab": {
     "base_uri": "https://localhost:8080/",
     "height": 293
    },
    "executionInfo": {
     "elapsed": 126,
     "status": "ok",
     "timestamp": 1745974962666,
     "user": {
      "displayName": "Elie Rouphael",
      "userId": "00135125486090718159"
     },
     "user_tz": -120
    },
    "id": "DexlXlvsBAZG",
    "outputId": "e56290cd-f5a7-403c-a735-baf19ed4ca1a"
   },
   "outputs": [],
   "source": [
    "data['label']=data['v1'].apply(lambda x:1 if x=='spam' else 0) # label the data\n",
    "data.head(5)"
   ]
  },
  {
   "cell_type": "code",
   "execution_count": null,
   "metadata": {
    "executionInfo": {
     "elapsed": 58,
     "status": "ok",
     "timestamp": 1745974964478,
     "user": {
      "displayName": "Elie Rouphael",
      "userId": "00135125486090718159"
     },
     "user_tz": -120
    },
    "id": "djpjLrkRD3xC"
   },
   "outputs": [],
   "source": [
    "# train, test split\n",
    "\n",
    "from sklearn.model_selection import train_test_split\n",
    "X_train,X_test,y_train,y_test=train_test_split(data.v2,data.label,test_size=0.25) # 75% train 25% test\n",
    "\n",
    "#CounterVectorizer Convert the text into matrics\n",
    "from sklearn.feature_extraction.text import CountVectorizer"
   ]
  },
  {
   "cell_type": "code",
   "execution_count": null,
   "metadata": {
    "colab": {
     "base_uri": "https://localhost:8080/"
    },
    "executionInfo": {
     "elapsed": 249,
     "status": "ok",
     "timestamp": 1745974965892,
     "user": {
      "displayName": "Elie Rouphael",
      "userId": "00135125486090718159"
     },
     "user_tz": -120
    },
    "id": "ElCpOVt_GQSH",
    "outputId": "7ac7add1-6cac-46cf-96f5-c2ba6ddfa577"
   },
   "outputs": [],
   "source": [
    "vocab_size=500\n",
    "oov_tok='<OOV>'\n",
    "max_len=50\n",
    "\n",
    "#preprocessing making tokens out of text\n",
    "token = Tokenizer(num_words=vocab_size,oov_token=oov_tok)\n",
    "token.fit_on_texts(X_train)\n",
    "\n",
    "word_index=token.word_index\n",
    "word_index\n",
    "print(len(word_index))\n",
    "most_common_words = sorted(token.word_counts.items(), key=lambda x: x[1], reverse=True)\n",
    "print(len(most_common_words))\n",
    "for word, count in most_common_words[:500]:  # top 20 words\n",
    "    print(f\"{word}: {count}\")"
   ]
  },
  {
   "cell_type": "code",
   "execution_count": null,
   "metadata": {
    "executionInfo": {
     "elapsed": 158,
     "status": "ok",
     "timestamp": 1745974971834,
     "user": {
      "displayName": "Elie Rouphael",
      "userId": "00135125486090718159"
     },
     "user_tz": -120
    },
    "id": "q73g-rVxHmh2"
   },
   "outputs": [],
   "source": [
    "padding_type='post'\n",
    "truncate_type='post'\n",
    "\n",
    "Trainning_seq = token.texts_to_sequences(X_train)\n",
    "Trainning_pad = pad_sequences(Trainning_seq, maxlen=50, padding=padding_type,truncating=truncate_type)\n",
    "\n",
    "Testing_seq=token.texts_to_sequences(X_test)\n",
    "Testing_pad=pad_sequences(Testing_seq,maxlen=50,padding=padding_type,truncating=truncate_type)\n",
    "\n",
    "#model\n",
    "model=tf.keras.models.Sequential([tf.keras.layers.Embedding(vocab_size,16,input_length=50),\n",
    "                                  tf.keras.layers.GlobalAveragePooling1D(),\n",
    "                                  tf.keras.layers.Dense(32,activation='relu'),\n",
    "                                  tf.keras.layers.Dropout(0.3),\n",
    "                                  tf.keras.layers.Dense(1,activation='sigmoid')])"
   ]
  },
  {
   "cell_type": "code",
   "execution_count": null,
   "metadata": {
    "colab": {
     "base_uri": "https://localhost:8080/",
     "height": 35
    },
    "executionInfo": {
     "elapsed": 36,
     "status": "ok",
     "timestamp": 1745974976038,
     "user": {
      "displayName": "Elie Rouphael",
      "userId": "00135125486090718159"
     },
     "user_tz": -120
    },
    "id": "QXyGQkUHf56o",
    "outputId": "9482a7fd-745d-4a49-e89d-7d693898495e"
   },
   "outputs": [],
   "source": [
    "X_train[1]"
   ]
  },
  {
   "cell_type": "code",
   "execution_count": null,
   "metadata": {
    "colab": {
     "base_uri": "https://localhost:8080/"
    },
    "executionInfo": {
     "elapsed": 8,
     "status": "ok",
     "timestamp": 1745974977864,
     "user": {
      "displayName": "Elie Rouphael",
      "userId": "00135125486090718159"
     },
     "user_tz": -120
    },
    "id": "XmU3NWCZfosM",
    "outputId": "70b91fee-17c5-4b56-b13c-a185b860ce76"
   },
   "outputs": [],
   "source": [
    "print(pd.Series(data=X_train, index=[4665]))\n",
    "print(Trainning_seq[0])\n",
    "Trainning_pad[0]"
   ]
  },
  {
   "cell_type": "code",
   "execution_count": null,
   "metadata": {
    "colab": {
     "base_uri": "https://localhost:8080/"
    },
    "executionInfo": {
     "elapsed": 10738,
     "status": "ok",
     "timestamp": 1745974993274,
     "user": {
      "displayName": "Elie Rouphael",
      "userId": "00135125486090718159"
     },
     "user_tz": -120
    },
    "id": "17GHJqf6H8b6",
    "outputId": "d93c3e7f-0882-4cb5-c0d2-00694c348c76"
   },
   "outputs": [],
   "source": [
    "epoch=30\n",
    "early_stop = tf.keras.callbacks.EarlyStopping(monitor='val_loss')#, patience=3)\n",
    "model.compile(loss=tf.keras.losses.BinaryCrossentropy(from_logits=True),metrics=['accuracy'],optimizer='adam')\n",
    "history=model.fit(Trainning_pad, y_train ,validation_data=(Testing_pad, y_test),epochs=epoch,callbacks=[early_stop],verbose=2)"
   ]
  },
  {
   "cell_type": "code",
   "execution_count": null,
   "metadata": {
    "colab": {
     "base_uri": "https://localhost:8080/"
    },
    "executionInfo": {
     "elapsed": 234,
     "status": "ok",
     "timestamp": 1745975006536,
     "user": {
      "displayName": "Elie Rouphael",
      "userId": "00135125486090718159"
     },
     "user_tz": -120
    },
    "id": "Nq1XK6WEIR8m",
    "outputId": "d51b5ef1-9269-400c-a648-5770dfb91ede"
   },
   "outputs": [],
   "source": [
    "# test accuracy\n",
    "\n",
    "model.evaluate(Testing_pad, y_test)"
   ]
  },
  {
   "cell_type": "code",
   "execution_count": null,
   "metadata": {
    "colab": {
     "base_uri": "https://localhost:8080/",
     "height": 489
    },
    "executionInfo": {
     "elapsed": 348,
     "status": "ok",
     "timestamp": 1745975012184,
     "user": {
      "displayName": "Elie Rouphael",
      "userId": "00135125486090718159"
     },
     "user_tz": -120
    },
    "id": "4Lb9eXZfIbxm",
    "outputId": "6ee5b912-f28d-4885-d15d-3763e0e1d695"
   },
   "outputs": [],
   "source": [
    "plt.plot(history.history['accuracy'])\n",
    "plt.plot(history.history['val_accuracy'])\n",
    "plt.title('model accuracy')\n",
    "plt.ylabel('accuracy')\n",
    "plt.xlabel('epoch')"
   ]
  },
  {
   "cell_type": "markdown",
   "metadata": {
    "id": "wMZCPxPD43qZ"
   },
   "source": [
    "# **Timeseries anomaly detection using an Autoencoder**\n",
    "\n",
    "**Load the data**\n",
    "We will use the Numenta Anomaly Benchmark(NAB) dataset. It provides artifical timeseries data containing labeled anomalous periods of behavior. Data are ordered, timestamped, single-valued metrics.\n",
    "\n",
    "We will use the *art_daily_small_noise.csv* file for training and the *art_daily_jumpsup.csv* file for testing. The simplicity of this dataset allows us to demonstrate anomaly detection effectively\n"
   ]
  },
  {
   "cell_type": "code",
   "execution_count": null,
   "metadata": {
    "executionInfo": {
     "elapsed": 211,
     "status": "ok",
     "timestamp": 1745975820668,
     "user": {
      "displayName": "Elie Rouphael",
      "userId": "00135125486090718159"
     },
     "user_tz": -120
    },
    "id": "J69raJOq3XQV"
   },
   "outputs": [],
   "source": [
    "import pandas as pd\n",
    "\n",
    "\n",
    "master_url_root = \"https://raw.githubusercontent.com/numenta/NAB/master/data/\"\n",
    "\n",
    "df_small_noise_url_suffix = \"artificialNoAnomaly/art_daily_small_noise.csv\"\n",
    "df_small_noise_url = master_url_root + df_small_noise_url_suffix\n",
    "df_small_noise = pd.read_csv(\n",
    "    df_small_noise_url, parse_dates=True, index_col=\"timestamp\"\n",
    ")\n",
    "\n",
    "df_daily_jumpsup_url_suffix = \"artificialWithAnomaly/art_daily_jumpsup.csv\"\n",
    "df_daily_jumpsup_url = master_url_root + df_daily_jumpsup_url_suffix\n",
    "df_daily_jumpsup = pd.read_csv(\n",
    "    df_daily_jumpsup_url, parse_dates=True, index_col=\"timestamp\"\n",
    ")"
   ]
  },
  {
   "cell_type": "code",
   "execution_count": null,
   "metadata": {
    "colab": {
     "base_uri": "https://localhost:8080/"
    },
    "executionInfo": {
     "elapsed": 55,
     "status": "ok",
     "timestamp": 1745975823199,
     "user": {
      "displayName": "Elie Rouphael",
      "userId": "00135125486090718159"
     },
     "user_tz": -120
    },
    "id": "LCYgX4kg5mBn",
    "outputId": "83b0a15b-8a74-4e1c-cb4b-4b9d82f8feb9"
   },
   "outputs": [],
   "source": [
    "#Quick look at the data\n",
    "\n",
    "print(df_small_noise.head())\n",
    "\n",
    "print(df_daily_jumpsup.head())"
   ]
  },
  {
   "cell_type": "markdown",
   "metadata": {
    "id": "JuwUb1NU54pQ"
   },
   "source": [
    "\n",
    "**Visualize the data**\n",
    "Timeseries data without anomalies\n",
    "We will use the following data for training.\n"
   ]
  },
  {
   "cell_type": "code",
   "execution_count": null,
   "metadata": {
    "colab": {
     "base_uri": "https://localhost:8080/",
     "height": 482
    },
    "executionInfo": {
     "elapsed": 1767,
     "status": "ok",
     "timestamp": 1745975826654,
     "user": {
      "displayName": "Elie Rouphael",
      "userId": "00135125486090718159"
     },
     "user_tz": -120
    },
    "id": "2ffzGACh5tQ9",
    "outputId": "583b7142-68a7-4674-d9d9-9c8b543f616d"
   },
   "outputs": [],
   "source": [
    "\n",
    "fig, ax = plt.subplots()\n",
    "df_small_noise.plot(legend=False, ax=ax)\n",
    "plt.show()"
   ]
  },
  {
   "cell_type": "markdown",
   "metadata": {
    "id": "NIo8HgFs5-nu"
   },
   "source": [
    "**Timeseries data with anomalies**\n",
    "We will use the following data for testing and see if the sudden jump up in the data is detected as an anomaly"
   ]
  },
  {
   "cell_type": "code",
   "execution_count": null,
   "metadata": {
    "colab": {
     "base_uri": "https://localhost:8080/",
     "height": 482
    },
    "executionInfo": {
     "elapsed": 1008,
     "status": "ok",
     "timestamp": 1745975829753,
     "user": {
      "displayName": "Elie Rouphael",
      "userId": "00135125486090718159"
     },
     "user_tz": -120
    },
    "id": "wdijPgmu527g",
    "outputId": "75a74f9c-dd58-4b20-84b3-2826058b2273"
   },
   "outputs": [],
   "source": [
    "fig, ax = plt.subplots()\n",
    "df_daily_jumpsup.plot(legend=False, ax=ax)\n",
    "plt.show()"
   ]
  },
  {
   "cell_type": "markdown",
   "metadata": {
    "id": "tl1RJYGn6D0i"
   },
   "source": [
    "**Prepare training data**\n",
    "Get data values from the training timeseries data file and normalize the value data. We have a value for every 5 mins for 14 days.\n",
    "\n",
    "1. 24 * 60 / 5 = 288 timesteps per day\n",
    "2. 288 * 14 = 4032 data points in total"
   ]
  },
  {
   "cell_type": "code",
   "execution_count": null,
   "metadata": {
    "colab": {
     "base_uri": "https://localhost:8080/"
    },
    "executionInfo": {
     "elapsed": 38,
     "status": "ok",
     "timestamp": 1745975833745,
     "user": {
      "displayName": "Elie Rouphael",
      "userId": "00135125486090718159"
     },
     "user_tz": -120
    },
    "id": "qHflrcEB6BcZ",
    "outputId": "d84df440-edd8-4f0e-a4f6-5a7d83212cc3"
   },
   "outputs": [],
   "source": [
    "# Normalize and save the mean and std we get,\n",
    "# for normalizing test data.\n",
    "training_mean = df_small_noise.mean()\n",
    "training_std = df_small_noise.std()\n",
    "df_training_value = (df_small_noise - training_mean) / training_std\n",
    "print(\"Number of training samples:\", len(df_training_value))"
   ]
  },
  {
   "cell_type": "markdown",
   "metadata": {
    "id": "iR0wiLB86Lyj"
   },
   "source": [
    "Create sequences\n",
    "Create sequences combining *TIME_STEPS* contiguous data values from the training data."
   ]
  },
  {
   "cell_type": "code",
   "execution_count": null,
   "metadata": {
    "colab": {
     "base_uri": "https://localhost:8080/"
    },
    "executionInfo": {
     "elapsed": 104,
     "status": "ok",
     "timestamp": 1745975850570,
     "user": {
      "displayName": "Elie Rouphael",
      "userId": "00135125486090718159"
     },
     "user_tz": -120
    },
    "id": "Sb3Twk2V6JkE",
    "outputId": "d1a1831d-57eb-4b8c-d18f-458bc723d29a"
   },
   "outputs": [],
   "source": [
    "import numpy as np\n",
    "\n",
    "TIME_STEPS = 288\n",
    "\n",
    "# Generated training sequences for use in the model.\n",
    "def create_sequences(values, time_steps=TIME_STEPS):\n",
    "    output = []\n",
    "    for i in range(len(values) - time_steps + 1):\n",
    "        output.append(values[i : (i + time_steps)])\n",
    "    return np.stack(output)\n",
    "\n",
    "\n",
    "x_train = create_sequences(df_training_value.values)\n",
    "print(\"Training input shape: \", x_train.shape)"
   ]
  },
  {
   "cell_type": "markdown",
   "metadata": {
    "id": "Xbog5YI36SAx"
   },
   "source": [
    "**Build a model**\n",
    "We will build a convolutional reconstruction autoencoder model. The model will take input of shape (batch_size, sequence_length, num_features) and return output of the same shape. In this case, sequence_length is 288 and num_features is 1."
   ]
  },
  {
   "cell_type": "code",
   "execution_count": null,
   "metadata": {
    "colab": {
     "base_uri": "https://localhost:8080/",
     "height": 401
    },
    "executionInfo": {
     "elapsed": 305,
     "status": "ok",
     "timestamp": 1745975854155,
     "user": {
      "displayName": "Elie Rouphael",
      "userId": "00135125486090718159"
     },
     "user_tz": -120
    },
    "id": "Zytr9J8c6PGr",
    "outputId": "cb6e9f69-5986-4c38-f6b3-75345824a1c6"
   },
   "outputs": [],
   "source": [
    "import keras\n",
    "from keras import layers\n",
    "\n",
    "model = keras.Sequential(\n",
    "    [\n",
    "        layers.Input(shape=(x_train.shape[1], x_train.shape[2])),\n",
    "        layers.Conv1D(\n",
    "            filters=32, kernel_size=7, padding=\"same\", strides=2, activation=\"relu\"\n",
    "        ),\n",
    "        layers.Dropout(rate=0.2),\n",
    "        layers.Conv1D(\n",
    "            filters=16, kernel_size=7, padding=\"same\", strides=2, activation=\"relu\"\n",
    "        ),\n",
    "        layers.Conv1DTranspose(\n",
    "            filters=16, kernel_size=7, padding=\"same\", strides=2, activation=\"relu\"\n",
    "        ),\n",
    "        layers.Dropout(rate=0.2),\n",
    "        layers.Conv1DTranspose(\n",
    "            filters=32, kernel_size=7, padding=\"same\", strides=2, activation=\"relu\"\n",
    "        ),\n",
    "        layers.Conv1DTranspose(filters=1, kernel_size=7, padding=\"same\"),\n",
    "    ]\n",
    ")\n",
    "model.compile(optimizer=keras.optimizers.Adam(learning_rate=0.001), loss=\"mse\")\n",
    "model.summary()"
   ]
  },
  {
   "cell_type": "markdown",
   "metadata": {
    "id": "CGLlrpJ56pzG"
   },
   "source": [
    "**Train the model**\n",
    "\n",
    "Please note that we are using x_train as both the input and the target since this is a reconstruction model."
   ]
  },
  {
   "cell_type": "code",
   "execution_count": null,
   "metadata": {
    "colab": {
     "base_uri": "https://localhost:8080/"
    },
    "executionInfo": {
     "elapsed": 50517,
     "status": "ok",
     "timestamp": 1745975906999,
     "user": {
      "displayName": "Elie Rouphael",
      "userId": "00135125486090718159"
     },
     "user_tz": -120
    },
    "id": "G3B4x3886VWG",
    "outputId": "bc580dda-00ea-45ac-b6f5-db1779dd2535"
   },
   "outputs": [],
   "source": [
    "history = model.fit(\n",
    "    x_train,\n",
    "    x_train,\n",
    "    epochs=50,\n",
    "    batch_size=128,\n",
    "    validation_split=0.1,\n",
    "    callbacks=[\n",
    "        keras.callbacks.EarlyStopping(monitor=\"val_loss\", patience=5, mode=\"min\")\n",
    "    ],\n",
    ")"
   ]
  },
  {
   "cell_type": "markdown",
   "metadata": {
    "id": "f9x5K7vt6xHw"
   },
   "source": [
    "Let's plot training and validation loss to see how the training went."
   ]
  },
  {
   "cell_type": "code",
   "execution_count": null,
   "metadata": {
    "colab": {
     "base_uri": "https://localhost:8080/",
     "height": 430
    },
    "executionInfo": {
     "elapsed": 247,
     "status": "ok",
     "timestamp": 1745975947439,
     "user": {
      "displayName": "Elie Rouphael",
      "userId": "00135125486090718159"
     },
     "user_tz": -120
    },
    "id": "1CzrJ62K6tiJ",
    "outputId": "45720d13-dda9-45fa-d8a9-489fced62eb4"
   },
   "outputs": [],
   "source": [
    "plt.plot(history.history[\"loss\"], label=\"Training Loss\")\n",
    "plt.plot(history.history[\"val_loss\"], label=\"Validation Loss\")\n",
    "plt.legend()\n",
    "plt.show()"
   ]
  },
  {
   "cell_type": "markdown",
   "metadata": {
    "id": "sF8LBFEV630q"
   },
   "source": [
    "**Detecting anomalies**\n",
    "We will detect anomalies by determining how well our model can reconstruct the input data.\n",
    "\n",
    "1. Find MAE loss on training samples.\n",
    "2. Find max MAE loss value. This is the worst our model has performed trying to reconstruct a sample. We will make this the threshold for anomaly detection.\n",
    "3. If the reconstruction loss for a sample is greater than this threshold value then we can infer that the model is seeing a pattern that it isn't familiar with. We will label this sample as an anomaly."
   ]
  },
  {
   "cell_type": "code",
   "execution_count": null,
   "metadata": {
    "colab": {
     "base_uri": "https://localhost:8080/",
     "height": 484
    },
    "executionInfo": {
     "elapsed": 1517,
     "status": "ok",
     "timestamp": 1745975953047,
     "user": {
      "displayName": "Elie Rouphael",
      "userId": "00135125486090718159"
     },
     "user_tz": -120
    },
    "id": "cIu7CUYk60gj",
    "outputId": "04e5b2ad-9d90-4d0f-9920-b1f19aeff9fe"
   },
   "outputs": [],
   "source": [
    "# Get train MAE loss.\n",
    "x_train_pred = model.predict(x_train)\n",
    "train_mae_loss = np.mean(np.abs(x_train_pred - x_train), axis=1)\n",
    "\n",
    "plt.hist(train_mae_loss, bins=50)\n",
    "plt.xlabel(\"Train MAE loss\")\n",
    "plt.ylabel(\"No of samples\")\n",
    "plt.show()\n",
    "\n",
    "# Get reconstruction loss threshold.\n",
    "threshold = np.max(train_mae_loss)\n",
    "print(\"Reconstruction error threshold: \", threshold)"
   ]
  },
  {
   "cell_type": "markdown",
   "metadata": {
    "id": "krBd0mLq7ECK"
   },
   "source": [
    "**Compare recontruction**\n",
    "\n",
    "Just for fun, let's see how our model has recontructed the first sample. This is the 288 timesteps from day 1 of our training dataset"
   ]
  },
  {
   "cell_type": "code",
   "execution_count": null,
   "metadata": {
    "colab": {
     "base_uri": "https://localhost:8080/",
     "height": 430
    },
    "executionInfo": {
     "elapsed": 480,
     "status": "ok",
     "timestamp": 1745975956622,
     "user": {
      "displayName": "Elie Rouphael",
      "userId": "00135125486090718159"
     },
     "user_tz": -120
    },
    "id": "bRxOeYRm7Bgl",
    "outputId": "6f9d196a-504d-493a-a009-06aa78922850"
   },
   "outputs": [],
   "source": [
    "# Checking how the first sequence is learnt 288 samples, for one day\n",
    "plt.plot(x_train[0])\n",
    "plt.plot(x_train_pred[0])\n",
    "plt.show()\n"
   ]
  },
  {
   "cell_type": "markdown",
   "metadata": {
    "id": "i26c4Faq7Kf7"
   },
   "source": [
    "Prepare test data"
   ]
  },
  {
   "cell_type": "code",
   "execution_count": null,
   "metadata": {
    "colab": {
     "base_uri": "https://localhost:8080/",
     "height": 1000
    },
    "executionInfo": {
     "elapsed": 2450,
     "status": "ok",
     "timestamp": 1745975980240,
     "user": {
      "displayName": "Elie Rouphael",
      "userId": "00135125486090718159"
     },
     "user_tz": -120
    },
    "id": "0RCB-Jqx7HuQ",
    "outputId": "48c362b4-fd77-4408-bed5-436817b82a36"
   },
   "outputs": [],
   "source": [
    "df_test_value = (df_daily_jumpsup - training_mean) / training_std\n",
    "fig, ax = plt.subplots()\n",
    "df_test_value.plot(legend=False, ax=ax)\n",
    "plt.show()\n",
    "\n",
    "# Create sequences from test values.\n",
    "x_test = create_sequences(df_test_value.values)\n",
    "print(\"Test input shape: \", x_test.shape)\n",
    "\n",
    "# Get test MAE loss.\n",
    "x_test_pred = model.predict(x_test)\n",
    "test_mae_loss = np.mean(np.abs(x_test_pred - x_test), axis=1)\n",
    "test_mae_loss = test_mae_loss.reshape((-1))\n",
    "\n",
    "plt.hist(test_mae_loss, bins=50)\n",
    "plt.xlabel(\"test MAE loss\")\n",
    "plt.ylabel(\"No of samples\")\n",
    "plt.show()\n",
    "\n",
    "# Detect all the samples which are anomalies.\n",
    "anomalies = test_mae_loss > threshold\n",
    "print(\"Number of anomaly samples: \", np.sum(anomalies))\n",
    "print(\"Indices of anomaly samples: \", np.where(anomalies))"
   ]
  },
  {
   "cell_type": "markdown",
   "metadata": {
    "id": "FvgCEwbM7Whq"
   },
   "source": [
    "**Plot anomalies**\n",
    "We now know the samples of the data which are anomalies. With this, we will find the corresponding timestamps from the original test data. We will be using the following method to do that:\n",
    "\n",
    "Let's say time_steps = 3 and we have 10 training values. Our x_train will look like this:\n",
    "\n",
    "* 0, 1, 2\n",
    "* 1, 2, 3\n",
    "* 2, 3, 4\n",
    "* 3, 4, 5\n",
    "* 4, 5, 6\n",
    "* 5, 6, 7\n",
    "* 6, 7, 8\n",
    "* 7, 8, 9\n",
    "\n",
    "All except the initial and the final time_steps-1 data values, will appear in time_steps number of samples. So, if we know that the samples [(3, 4, 5), (4, 5, 6), (5, 6, 7)] are anomalies, we can say that the data point 5 is an anomaly."
   ]
  },
  {
   "cell_type": "code",
   "execution_count": null,
   "metadata": {
    "executionInfo": {
     "elapsed": 49,
     "status": "ok",
     "timestamp": 1745975983248,
     "user": {
      "displayName": "Elie Rouphael",
      "userId": "00135125486090718159"
     },
     "user_tz": -120
    },
    "id": "G-DNb5b57nnj"
   },
   "outputs": [],
   "source": [
    "# data i is an anomaly if samples [(i - timesteps + 1) to (i)] are anomalies\n",
    "anomalous_data_indices = []\n",
    "for data_idx in range(TIME_STEPS - 1, len(df_test_value) - TIME_STEPS + 1):\n",
    "    if np.all(anomalies[data_idx - TIME_STEPS + 1 : data_idx]):\n",
    "        anomalous_data_indices.append(data_idx)"
   ]
  },
  {
   "cell_type": "markdown",
   "metadata": {
    "id": "ViFEN40b7p2o"
   },
   "source": [
    "Let's overlay the anomalies on the original test data plot."
   ]
  },
  {
   "cell_type": "code",
   "execution_count": null,
   "metadata": {
    "colab": {
     "base_uri": "https://localhost:8080/",
     "height": 482
    },
    "executionInfo": {
     "elapsed": 1198,
     "status": "ok",
     "timestamp": 1745975987221,
     "user": {
      "displayName": "Elie Rouphael",
      "userId": "00135125486090718159"
     },
     "user_tz": -120
    },
    "id": "BmWMkII77s8U",
    "outputId": "31d12ae4-65f8-41f5-9cc5-6cf6f353ac19"
   },
   "outputs": [],
   "source": [
    "df_subset = df_daily_jumpsup.iloc[anomalous_data_indices]\n",
    "fig, ax = plt.subplots()\n",
    "df_daily_jumpsup.plot(legend=False, ax=ax)\n",
    "df_subset.plot(legend=False, ax=ax, color=\"r\")\n",
    "plt.show()"
   ]
  },
  {
   "cell_type": "markdown",
   "metadata": {
    "id": "H8AxIaO_lVBo"
   },
   "source": [
    "# **Exercise**\n",
    "\n",
    "1. What would be the ideal threshold if the reconstruction error has normal distribution? Explain.\n",
    "\n",
    "2. Use OCSVM (One class support vector machine) for anomlay detection. Use data of your choice.\n",
    "\n",
    "3. Try anomaly detection (unsupervised like IsolationForest) using a dataset of your choice.\n",
    "Hind: In this example, we generate two sets of 2-dimensional data points - normal_data consisting of 100 randomly generated points, and anomaly_data consisting of 10 points that are shifted away from the normal distribution. We then train an Isolation Forest on normal_data using the IsolationForest function from Scikit-learn.\n",
    "\n",
    "The n_estimators parameter controls the number of trees in the forest, and the contamination parameter controls the fraction of anomalies expected in the data.\n",
    "\n",
    "Next, we predict the labels for all data points (normal and anomaly) using the trained Isolation Forest, and plot the points with their predicted labels using plt.scatter. In this case, the anomaly points are predicted to have a label of -1, while the normal points are predicted to have a label of 1.\n",
    "\n",
    "\n",
    "4. Do you know Transformers? The technology behind ChatGPT and many other state-of-the-art LLMs. [Here](https://www.kdnuggets.com/2020/10/understanding-transformers-data-science-way.html) is a quick guide about Transformers.\n",
    "Try to understand how transformers work. Have a look at our [paper](https://www.sciencedirect.com/science/article/pii/S095219762300235X) which uses transformers for adaptive unsupervised anomaly detection"
   ]
  },
  {
   "cell_type": "code",
   "execution_count": null,
   "metadata": {
    "colab": {
     "base_uri": "https://localhost:8080/"
    },
    "executionInfo": {
     "elapsed": 52,
     "status": "ok",
     "timestamp": 1745976104061,
     "user": {
      "displayName": "Elie Rouphael",
      "userId": "00135125486090718159"
     },
     "user_tz": -120
    },
    "id": "cem1gUmVQzQn",
    "outputId": "9e66356b-5a5f-4728-97b6-9522c32dc2d5"
   },
   "outputs": [],
   "source": [
    "import matplotlib.pyplot as plt\n",
    "\n",
    "# Detect all the samples which are anomalies.\n",
    "anomalies = test_mae_loss > np.mean(train_mae_loss) + 3*np.std(train_mae_loss)\n",
    "print(\"Number of anomaly samples: \", np.sum(anomalies))\n",
    "print(\"Indices of anomaly samples: \", np.where(anomalies))"
   ]
  },
  {
   "cell_type": "code",
   "execution_count": null,
   "metadata": {
    "colab": {
     "base_uri": "https://localhost:8080/",
     "height": 482
    },
    "executionInfo": {
     "elapsed": 2026,
     "status": "ok",
     "timestamp": 1745976109068,
     "user": {
      "displayName": "Elie Rouphael",
      "userId": "00135125486090718159"
     },
     "user_tz": -120
    },
    "id": "abihwOcwOvpH",
    "outputId": "e68dbc1e-cec0-4dee-d4ee-cc3349984fbc"
   },
   "outputs": [],
   "source": [
    "# data i is an anomaly if samples [(i - timesteps + 1) to (i)] are anomalies\n",
    "anomalous_data_indices = []\n",
    "for data_idx in range(TIME_STEPS - 1, len(df_test_value) - TIME_STEPS + 1):\n",
    "    if np.all(anomalies[data_idx - TIME_STEPS + 1 : data_idx]):\n",
    "        anomalous_data_indices.append(data_idx)\n",
    "\n",
    "df_subset = df_daily_jumpsup.iloc[anomalous_data_indices]\n",
    "fig, ax = plt.subplots()\n",
    "df_daily_jumpsup.plot(legend=False, ax=ax)\n",
    "df_subset.plot(legend=False, ax=ax, color=\"r\")\n",
    "plt.show()"
   ]
  },
  {
   "cell_type": "markdown",
   "metadata": {
    "id": "qchvVtIUSebD"
   },
   "source": [
    "1σ (μ + σ): Captures ~68% of the data (weak threshold, may miss anomalies).\n",
    "\n",
    "2σ (μ + 2σ): Captures ~95% of the data (moderate threshold).\n",
    "\n",
    "3σ (μ + 3σ): Captures ~99.7% of the data (strict threshold, fewer false positives).\n",
    "\n",
    "The choice depends on the application:\n",
    "\n",
    "For critical applications (e.g., fraud detection), use a higher threshold (e.g., 3σ) to minimize false positives.\n",
    "\n",
    "For less critical cases, a lower threshold (e.g., 2σ) may suffice."
   ]
  },
  {
   "cell_type": "code",
   "execution_count": null,
   "metadata": {
    "colab": {
     "base_uri": "https://localhost:8080/",
     "height": 539
    },
    "executionInfo": {
     "elapsed": 286,
     "status": "ok",
     "timestamp": 1745976966209,
     "user": {
      "displayName": "Elie Rouphael",
      "userId": "00135125486090718159"
     },
     "user_tz": -120
    },
    "id": "R7Ioe-TmSqm4",
    "outputId": "242b6257-5f71-487a-ad67-98a0d10ee575"
   },
   "outputs": [],
   "source": [
    "import numpy as np\n",
    "from sklearn.svm import OneClassSVM\n",
    "import matplotlib.pyplot as plt\n",
    "\n",
    "# Generate normal data (2D Gaussian)\n",
    "np.random.seed(55)\n",
    "normal_data = np.random.randn(100, 2)  # 100 normal points\n",
    "anomaly_data = np.random.randn(10, 2) + 4  # 10 anomalies\n",
    "\n",
    "X = np.vstack([normal_data, anomaly_data])\n",
    "\n",
    "# Train OCSVM\n",
    "ocsvm = OneClassSVM(nu=0.05, kernel=\"rbf\", gamma=0.1)\n",
    "ocsvm.fit(normal_data)  # Train on normal data only\n",
    "\n",
    "# Predict anomalies\n",
    "preds = ocsvm.predict(X)  # +1 for normal, -1 for anomalies\n",
    "print(preds)\n",
    "\n",
    "# Plot\n",
    "plt.scatter(X[:, 0], X[:, 1], c=preds, cmap=\"coolwarm\", marker=\"o\")\n",
    "plt.title(\"OCSVM Anomaly Detection\")\n",
    "plt.show()"
   ]
  },
  {
   "cell_type": "code",
   "execution_count": null,
   "metadata": {
    "colab": {
     "base_uri": "https://localhost:8080/",
     "height": 452
    },
    "executionInfo": {
     "elapsed": 1118,
     "status": "ok",
     "timestamp": 1745977050752,
     "user": {
      "displayName": "Elie Rouphael",
      "userId": "00135125486090718159"
     },
     "user_tz": -120
    },
    "id": "4tFJfJtcVx4f",
    "outputId": "2db09eb2-65e3-46e1-fa05-b8c2fef1fcc2"
   },
   "outputs": [],
   "source": [
    "from sklearn.ensemble import IsolationForest\n",
    "\n",
    "# Generate data\n",
    "normal_data = np.random.randn(100, 2)\n",
    "anomaly_data = np.random.randn(10, 2) + 4\n",
    "X = np.vstack([normal_data, anomaly_data])\n",
    "\n",
    "# Train Isolation Forest\n",
    "iso_forest = IsolationForest(contamination=0.1, random_state=42)  # contamination is the expected outlier fraction\n",
    "iso_forest.fit(X)\n",
    "\n",
    "# Predict anomalies (-1 for anomalies, 1 for normal)\n",
    "preds = iso_forest.predict(X)\n",
    "\n",
    "# Plot\n",
    "plt.scatter(X[:, 0], X[:, 1], c=preds, cmap=\"coolwarm\", marker=\"o\")\n",
    "plt.title(\"Isolation Forest Anomaly Detection\")\n",
    "plt.show()"
   ]
  },
  {
   "cell_type": "markdown",
   "metadata": {
    "id": "GQv6qYp0uLP0"
   },
   "source": [
    "### KMeans"
   ]
  },
  {
   "cell_type": "markdown",
   "metadata": {
    "id": "hnyK29jsuQjB"
   },
   "source": [
    "In this example, we use the make_blobs function from Scikit-learn to generate a dataset with 1000 samples and 3 clusters. We then add an anomaly point to the dataset to simulate an anomaly.\n",
    "\n",
    "Next, we train a k-means model on the data using the KMeans function from Scikit-learn. The n_clusters parameter specifies the number of clusters to form.\n",
    "\n",
    "After training the model, we assign labels to each data point using the labels_ attribute of the k-means object. We then plot the data points with their corresponding labels.\n",
    "\n",
    "Finally, we identify the anomaly point by checking which cluster it was assigned to using the predict method of the k-means object. If the anomaly point is assigned to a different cluster than the other points, it is considered an anomaly.\n",
    "\n",
    "Note that this method assumes that anomalies will be isolated from the main cluster of data points, and may not be suitable for datasets with more complex anomaly patterns. Additionally, the performance of the method may depend on the choice of hyperparameters, such as the number of clusters."
   ]
  },
  {
   "cell_type": "code",
   "execution_count": null,
   "metadata": {
    "colab": {
     "base_uri": "https://localhost:8080/",
     "height": 469
    },
    "executionInfo": {
     "elapsed": 825,
     "status": "ok",
     "timestamp": 1745975225211,
     "user": {
      "displayName": "Elie Rouphael",
      "userId": "00135125486090718159"
     },
     "user_tz": -120
    },
    "id": "7BlWbX2Usr8B",
    "outputId": "9cdd4ebf-f209-49e5-8fcc-6fa73d716536"
   },
   "outputs": [],
   "source": [
    "import numpy as np\n",
    "from sklearn.cluster import KMeans\n",
    "from sklearn.datasets import make_blobs\n",
    "import matplotlib.pyplot as plt\n",
    "\n",
    "# Generate sample data\n",
    "X, y = make_blobs(n_samples=1000, centers=3, random_state=42)\n",
    "\n",
    "# Add some anomalies to the data\n",
    "anomaly = np.array([[0, 4]])\n",
    "X = np.concatenate([X, anomaly], axis=0)\n",
    "\n",
    "# Train k-means model on data\n",
    "kmeans = KMeans(n_clusters=3, random_state=42)\n",
    "kmeans.fit(X)\n",
    "\n",
    "# Assign labels to data points\n",
    "labels = kmeans.labels_\n",
    "\n",
    "# Plot data points and labels\n",
    "plt.scatter(X[:, 0], X[:, 1], c=labels)\n",
    "plt.plot(anomaly[:, 0], anomaly[:, 1], 'r*', label='faulty')\n",
    "plt.legend(loc='upper right')\n",
    "plt.title('Clustering-based anomaly detection')\n",
    "plt.show()\n",
    "\n",
    "# Identify anomaly points\n",
    "anomaly_index = np.where(kmeans.predict(anomaly) == labels[-1])[0][0]\n",
    "print(f'Anomal point: {X[anomaly_index]}')\n",
    "\n"
   ]
  },
  {
   "cell_type": "code",
   "execution_count": null,
   "metadata": {
    "colab": {
     "base_uri": "https://localhost:8080/",
     "height": 447
    },
    "executionInfo": {
     "elapsed": 210,
     "status": "ok",
     "timestamp": 1745975227705,
     "user": {
      "displayName": "Elie Rouphael",
      "userId": "00135125486090718159"
     },
     "user_tz": -120
    },
    "id": "IcdENg4JwUY4",
    "outputId": "8163703e-74b2-4837-db23-98d3225e388f"
   },
   "outputs": [],
   "source": [
    "for lab in np.unique(labels):\n",
    "  plt.plot(X[labels==lab,0], X[labels==lab,1],'*', label='class{}'.format(lab))\n",
    "plt.plot(anomaly[:, 0], anomaly[:, 1], 'r*', label='faulty')\n",
    "plt.legend(loc='upper left')"
   ]
  },
  {
   "cell_type": "code",
   "execution_count": null,
   "metadata": {
    "colab": {
     "base_uri": "https://localhost:8080/",
     "height": 712
    },
    "executionInfo": {
     "elapsed": 657,
     "status": "ok",
     "timestamp": 1745975229754,
     "user": {
      "displayName": "Elie Rouphael",
      "userId": "00135125486090718159"
     },
     "user_tz": -120
    },
    "id": "SwToLNyOw_ic",
    "outputId": "81cfc79d-493e-49f6-fad9-06fe1c622c09"
   },
   "outputs": [],
   "source": [
    "# try to apply svm on the each cluster\n",
    "fig, ax = plt.subplots(len(np.unique(labels)), 1, figsize=(15,15))\n",
    "for class_ in np.unique(labels):\n",
    "  kmeans2 = KMeans(n_clusters=2, random_state=42, init='k-means++', tol = 0.000000000000001)\n",
    "  sub_data = X[labels==class_,:]\n",
    "  kmeans2.fit(sub_data)\n",
    "  labels2 = kmeans2.labels_\n",
    "  for lab in np.unique(labels2):\n",
    "    ax[class_].plot(sub_data[labels2==lab,0], sub_data[labels2==lab,1],'*', label='subclass {}.{}'.format(class_,lab))\n",
    "    if np.isin(anomaly, sub_data).all(): # if faulty in the data plot it\n",
    "      ax[class_].plot(anomaly[:, 0], anomaly[:, 1], 'g*', label='faulty')\n",
    "    ax[class_].set_title('class {}'.format(class_))\n",
    "  ax[class_].legend(loc='upper left')\n",
    "# plt.plot(anomaly[:, 0], anomaly[:, 1], 'r*', label='faulty')\n",
    "# plt.legend(loc='upper left')"
   ]
  },
  {
   "cell_type": "code",
   "execution_count": null,
   "metadata": {
    "colab": {
     "base_uri": "https://localhost:8080/",
     "height": 430
    },
    "executionInfo": {
     "elapsed": 248,
     "status": "ok",
     "timestamp": 1745975232129,
     "user": {
      "displayName": "Elie Rouphael",
      "userId": "00135125486090718159"
     },
     "user_tz": -120
    },
    "id": "pHu_Tc0h2dBr",
    "outputId": "7aeed5d5-3422-4925-97d5-e1786b0b5109"
   },
   "outputs": [],
   "source": [
    "# try to apply svm on the each cluster\n",
    "# fig, ax = plt.subplots(len(np.unique(labels)), 1, figsize=(15,15))\n",
    "for class_ in np.unique(labels):\n",
    "  kmeans2 = KMeans(n_clusters=2, random_state=1, init='k-means++', tol = 0.000000000000001)\n",
    "  sub_data = X[labels==class_,:]\n",
    "  if np.isin(anomaly, sub_data).all():\n",
    "    kmeans2.fit(sub_data)\n",
    "    labels2 = kmeans2.labels_\n",
    "    # for lab in np.unique(labels2):\n",
    "    plt.scatter(sub_data[:, 0], sub_data[:, 1], c=labels2)\n",
    "    # plt.plot(sub_data[labels2==lab,0], sub_data[labels2==lab,1], label='subclass {}.{}'.format(class_,lab))\n",
    "    plt.plot(anomaly[:, 0], anomaly[:, 1], 'r*', label='faulty')\n",
    "      # plt.set_title('class {}'.format(class_))\n",
    "    plt.legend(loc='upper left')\n",
    "# plt.plot(anomaly[:, 0], anomaly[:, 1], 'r*', label='faulty')\n",
    "# plt.legend(loc='upper left')"
   ]
  },
  {
   "cell_type": "markdown",
   "metadata": {
    "id": "w2fL7hBauI9f"
   },
   "source": [
    "### GaussianMixture"
   ]
  },
  {
   "cell_type": "markdown",
   "metadata": {
    "id": "kneLt6eeuUPg"
   },
   "source": [
    "In this example, we generate two sets of 2-dimensional data points - normal_data consisting of 100 randomly generated points, and anomaly_data consisting of 10 points that are shifted away from the normal distribution.\n",
    "\n",
    "We then train a Gaussian Mixture Model on normal_data using the GaussianMixture function from Scikit-learn. The n_components parameter specifies the number of Gaussian components in the mixture, and the covariance_type parameter specifies the type of covariance matrix to use.\n",
    "\n",
    "Next, we predict the negative log likelihood for all data points (normal and anomaly) using the trained Gaussian Mixture Model, and plot the points with their predicted labels using plt.scatter. In this case, the anomaly points are predicted to have a score below a certain threshold (-4 in this example), while the normal points are predicted to have a score above the threshold.\n",
    "\n",
    "Note that the performance of Gaussian Mixture Models may depend on the choice of hyperparameters, and it's important to carefully tune these parameters for optimal performance on a given dataset. Additionally, the threshold used to detect anomalies may need to be adjusted depending on the specific application."
   ]
  },
  {
   "cell_type": "code",
   "execution_count": null,
   "metadata": {
    "colab": {
     "base_uri": "https://localhost:8080/",
     "height": 469
    },
    "executionInfo": {
     "elapsed": 814,
     "status": "ok",
     "timestamp": 1745975283197,
     "user": {
      "displayName": "Elie Rouphael",
      "userId": "00135125486090718159"
     },
     "user_tz": -120
    },
    "id": "jQ8Ed_RHuANx",
    "outputId": "5396194a-5201-4995-c0db-416c5bbda91e"
   },
   "outputs": [],
   "source": [
    "# import libraries\n",
    "import numpy as np\n",
    "import matplotlib.pyplot as plt\n",
    "from sklearn.mixture import GaussianMixture\n",
    "\n",
    "# generate sample data\n",
    "normal_data = np.random.randn(100, 2) # normal data points\n",
    "anomaly_data = np.random.randn(10, 2) + 4 # anomaly data points\n",
    "\n",
    "# train Gaussian Mixture Model on normal data\n",
    "clf = GaussianMixture(n_components=1, covariance_type='full')\n",
    "clf.fit(normal_data)\n",
    "\n",
    "# predict negative log likelihood for all data points\n",
    "all_data = np.vstack((normal_data, anomaly_data))\n",
    "scores = clf.score_samples(all_data)\n",
    "\n",
    "# plot data points and anomaly predictions\n",
    "# plt.scatter(all_data[:, 0], all_data[:, 1], c=scores < -4, cmap='coolwarm')\n",
    "# plt.colorbar()\n",
    "# plt.show()\n",
    "\n",
    "fig, ax = plt.subplots(2,1)\n",
    "ax[0].scatter(all_data[:, 0], all_data[:, 1])\n",
    "ax[0].set_title('predicted labels')\n",
    "ax[1].scatter(normal_data[:, 0], normal_data[:, 1], label = 'normal')\n",
    "ax[1].scatter(anomaly_data[:, 0], anomaly_data[:, 1], label = 'anormal')\n",
    "ax[1].set_title('true labels')\n",
    "ax[1].legend(loc='upper right')"
   ]
  },
  {
   "cell_type": "markdown",
   "metadata": {
    "id": "tZ8xhnTo3ZUZ"
   },
   "source": [
    "## 4- Transformers\n",
    "Example from [Knuggets](https://www.kdnuggets.com/2020/10/understanding-transformers-data-science-way.html)"
   ]
  },
  {
   "cell_type": "markdown",
   "metadata": {
    "id": "Skge33Lb4mzB"
   },
   "source": [
    "![Transformers.png](data:image/png;base64,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)"
   ]
  },
  {
   "cell_type": "markdown",
   "metadata": {
    "id": "CQfCWSbPBcTW"
   },
   "source": [
    "### Ex1"
   ]
  },
  {
   "cell_type": "code",
   "execution_count": null,
   "metadata": {
    "colab": {
     "base_uri": "https://localhost:8080/"
    },
    "executionInfo": {
     "elapsed": 3297,
     "status": "ok",
     "timestamp": 1745975430959,
     "user": {
      "displayName": "Elie Rouphael",
      "userId": "00135125486090718159"
     },
     "user_tz": -120
    },
    "id": "_01fab6sCGxY",
    "outputId": "7de6fabd-d9a6-4ee9-ad43-a1a83276a36b"
   },
   "outputs": [],
   "source": [
    "! pip install transformers"
   ]
  },
  {
   "cell_type": "markdown",
   "metadata": {
    "id": "fcGAjtbSCVoK"
   },
   "source": [
    "Using transformers for anomaly detection in Python involves training a transformer-based language model on a large dataset of normal data and then using the trained model to identify anomalies in new data based on how well the data fits the model. Here are the general steps:\n",
    "\n",
    "1. **Prepare the data:** You will need a dataset of normal data to train the transformer-based language model. You can preprocess the data by tokenizing and encoding it using a pre-trained `tokenizer`.\n",
    "\n",
    "2. **Train the transformer-based language model:** You can use a pre-trained transformer-based language model such as `BERT` or `GPT` to train a language model on the dataset of normal data. You can train the model to predict the next word in a sequence of words using a self-supervised learning approach.\n",
    "\n",
    "3. **Prepare the test data:** Once the model is trained, you can use it to identify anomalies in new data. You will need to tokenize and encode the test data using the same tokenizer used to preprocess the training data.\n",
    "\n",
    "4. **Compute the anomaly score:** You can compute an anomaly score for each input sequence by comparing the model's prediction for the next word in the sequence to the actual next word. The anomaly score can be computed using a metric such as cross-entropy loss or cosine similarity.\n",
    "\n",
    "5. **Identify anomalies:** Finally, you can identify anomalies by setting a threshold for the anomaly score. Input sequences with anomaly scores above the threshold are considered anomalies."
   ]
  },
  {
   "cell_type": "code",
   "execution_count": null,
   "metadata": {
    "colab": {
     "base_uri": "https://localhost:8080/",
     "height": 527,
     "referenced_widgets": [
      "8c523bcf86544393898ec7c69171408a",
      "b1c70c3bbdea4213b1b1453eab9291a4",
      "d061bae0d86d4897a15aa6855cbac61f",
      "ec9de0989f1e41d3a8e8a06c6732b3c9",
      "e7f55cb728f14ee18bc9b0dc3adf5f26",
      "7434e78ebf0340b5a7bcbc9e6e2fc84e",
      "5f5c4973daa046c1a204ba8f11a2fd00",
      "be07bd06fbd64926a17056ad3f11939c",
      "ce37b460ad9d4b17abb3ef1e3c4e285a",
      "91c98ab8827c4fd0af2033d00a4cf366",
      "d524147ac1b74dfaac1e219434554772",
      "4ea6f5856e404928b595141e2242f524",
      "0c51217c22ec41c7825147fd63f2faa1",
      "ecec72bedc2f4580b79c64792033b58d",
      "0f85462da6564eecada9d73a13c9d783",
      "51c8b671490a450a91de575f84ac1145",
      "bf704b3610ae42a2b5a627345cfbb871",
      "4e685a0d56e44775bc6c00fb1cce93ab",
      "f49163be16d94254b599cdc89c6af311",
      "14e6c464e07f425aa48c91ad8e1a6426",
      "4bcc0014cbca4f25a447bfcd0f6ed266",
      "30739cf684ce4f718c9d14a43fabfd0c",
      "0314f7851b8648e0ae68235186a303bf",
      "90288e9fca2e40a79f128957fc9835bb",
      "d660877defa44a85b0ff45c9c68e6753",
      "b4313df3bf03453685817582625c2b52",
      "02c48e21afcb4df4a6a99f49b27f3655",
      "7c0a68ac75d849a690fe789fd289bf47",
      "df4f2847f05f4bf6a3c3664773c24060",
      "04382ade5a224950ac0ba0b46b9cfd8a",
      "4d545393e6854efbac1f41bef43217a2",
      "6732acf4aadf43ab864b0288b80de17c",
      "a71416c6dffb45478adb64c4dc9f59e8",
      "8ee75dc88266441b8e3b57c8962764e7",
      "a0bb04c258dd492ba9e03ba42f4ed597",
      "04d835ce1e0f40f1a726fe677a9da8d2",
      "0515261cf8784c9a8ffa65e7ab89997d",
      "143140ee8b824df695d0aff07925570a",
      "02ea6e17968544dc8e5cc3bea8b08400",
      "dc7b9d1953b9482796bc4833706872c7",
      "3cbd1c1f71324ae3a2b56d52bd819f6a",
      "ae75ec4bf5bc4d5ea25b4c090427d43f",
      "ddb599f764094c7c98428a397ee8caaf",
      "2925d8de2f1f4c2fb880b4d8a6aa6848",
      "c5585fbc124a46ec809f57936c238338",
      "d2eaaa36339443078c04c7f54c7b93d6",
      "683a845ef26d44c1b7ec384d04ed1310",
      "04ba2301f0c4483cb636a6e849d0c8e4",
      "f7b13a432c764129875900df7e16e115",
      "199675b0afdc462586005c354b9d9f5f",
      "2f9e0a3c1cd84b588439889a703e939d",
      "bab0913b089843ef9d1842e7ebb29c9b",
      "a3f7f120eb2d4a0e98e1046bab215702",
      "bf738a92d19a4fd8bc275873250cbdaa",
      "16bbdccdc0ce4485a6696bd2d77ed87d"
     ]
    },
    "executionInfo": {
     "elapsed": 88322,
     "status": "ok",
     "timestamp": 1745975423563,
     "user": {
      "displayName": "Elie Rouphael",
      "userId": "00135125486090718159"
     },
     "user_tz": -120
    },
    "id": "PINkVsPSCD-F",
    "outputId": "68b1bd6b-f0d2-4249-eeed-56ca03209fab"
   },
   "outputs": [],
   "source": [
    "from transformers import BertTokenizer, TFBertForMaskedLM\n",
    "import tensorflow as tf\n",
    "\n",
    "# Load the pre-trained BERT tokenizer\n",
    "tokenizer = BertTokenizer.from_pretrained('bert-base-uncased')\n",
    "\n",
    "# Load the pre-trained BERT language model\n",
    "model = TFBertForMaskedLM.from_pretrained('bert-base-uncased')\n",
    "\n",
    "# Tokenize and encode the training data\n",
    "train_data = [\"This is a sentence.\", \"This is another sentence.\"]\n",
    "train_encodings = tokenizer(train_data, padding=True, truncation=True, return_tensors='tf')\n",
    "\n",
    "# Train the BERT language model\n",
    "model.compile(optimizer=tf.keras.optimizers.Adam(learning_rate=5e-5), loss=tf.keras.losses.SparseCategoricalCrossentropy(from_logits=True))\n",
    "# multiclass classification that is mutually exclusive\n",
    "model.fit(train_encodings['input_ids'], train_encodings['input_ids'], epochs=3, batch_size=2)"
   ]
  },
  {
   "cell_type": "code",
   "execution_count": null,
   "metadata": {
    "colab": {
     "base_uri": "https://localhost:8080/"
    },
    "executionInfo": {
     "elapsed": 6,
     "status": "ok",
     "timestamp": 1745975423575,
     "user": {
      "displayName": "Elie Rouphael",
      "userId": "00135125486090718159"
     },
     "user_tz": -120
    },
    "id": "94_hs5DoDRZ4",
    "outputId": "208c2022-78fd-4521-9d80-7e3a09155080"
   },
   "outputs": [],
   "source": [
    "train_encodings.keys()"
   ]
  },
  {
   "cell_type": "code",
   "execution_count": null,
   "metadata": {
    "colab": {
     "base_uri": "https://localhost:8080/"
    },
    "executionInfo": {
     "elapsed": 4090,
     "status": "ok",
     "timestamp": 1745975427665,
     "user": {
      "displayName": "Elie Rouphael",
      "userId": "00135125486090718159"
     },
     "user_tz": -120
    },
    "id": "MuF0djZPDO_4",
    "outputId": "ea8e0c66-b2c6-4831-9eef-5e24a0a8e591"
   },
   "outputs": [],
   "source": [
    "# Tokenize and encode the test data\n",
    "test_data = [\"This is an anomalous sentence.\", \"This is another anomalous sentence.\"]\n",
    "test_encodings = tokenizer(test_data, padding=True, truncation=True, return_tensors='tf')\n",
    "\n",
    "# Compute the anomaly scores\n",
    "test_scores = model.predict(test_encodings['input_ids'])"
   ]
  },
  {
   "cell_type": "code",
   "execution_count": null,
   "metadata": {
    "colab": {
     "base_uri": "https://localhost:8080/"
    },
    "executionInfo": {
     "elapsed": 45,
     "status": "ok",
     "timestamp": 1745977108901,
     "user": {
      "displayName": "Elie Rouphael",
      "userId": "00135125486090718159"
     },
     "user_tz": -120
    },
    "id": "wh-kImxaEYZu",
    "outputId": "4084d351-1f2d-465a-dc56-d86c9b246c4d"
   },
   "outputs": [],
   "source": [
    "test_encodings['input_ids']"
   ]
  },
  {
   "cell_type": "code",
   "execution_count": null,
   "metadata": {
    "colab": {
     "base_uri": "https://localhost:8080/"
    },
    "executionInfo": {
     "elapsed": 17,
     "status": "ok",
     "timestamp": 1745977222940,
     "user": {
      "displayName": "Elie Rouphael",
      "userId": "00135125486090718159"
     },
     "user_tz": -120
    },
    "id": "mhdtC4J6G_o0",
    "outputId": "a09fd58f-2ac0-4314-ce37-5df34742271e"
   },
   "outputs": [],
   "source": [
    "test_scores"
   ]
  },
  {
   "cell_type": "code",
   "execution_count": null,
   "metadata": {
    "colab": {
     "base_uri": "https://localhost:8080/",
     "height": 315
    },
    "executionInfo": {
     "elapsed": 44,
     "status": "error",
     "timestamp": 1745977296268,
     "user": {
      "displayName": "Elie Rouphael",
      "userId": "00135125486090718159"
     },
     "user_tz": -120
    },
    "id": "AWq6KPzuDyB6",
    "outputId": "8a590955-c14a-4715-de4c-30ca1a5b95d6"
   },
   "outputs": [],
   "source": [
    "from tensorflow.keras.losses import sparse_categorical_crossentropy\n",
    "anomaly_scores = sparse_categorical_crossentropy(test_encodings['input_ids'], test_scores)"
   ]
  },
  {
   "cell_type": "code",
   "execution_count": null,
   "metadata": {
    "id": "uJHa4Z0iDzfq"
   },
   "outputs": [],
   "source": [
    "# Identify anomalies\n",
    "threshold = 2.0\n",
    "anomalies = [i for i, score in enumerate(anomaly_scores) if score > threshold]\n",
    "print(\"Anomaly indices:\", anomalies)"
   ]
  },
  {
   "cell_type": "markdown",
   "metadata": {
    "id": "EWQB8EZJDYJg"
   },
   "source": [
    "### Ex2"
   ]
  },
  {
   "cell_type": "code",
   "execution_count": null,
   "metadata": {
    "executionInfo": {
     "elapsed": 15511,
     "status": "ok",
     "timestamp": 1745977326256,
     "user": {
      "displayName": "Elie Rouphael",
      "userId": "00135125486090718159"
     },
     "user_tz": -120
    },
    "id": "HTMVkJG2Epy-"
   },
   "outputs": [],
   "source": [
    "from transformers import AutoTokenizer, AutoModel\n",
    "\n",
    "# Load the transformer model\n",
    "model_name = 'bert-base-uncased'\n",
    "tokenizer = AutoTokenizer.from_pretrained(model_name)\n",
    "model = AutoModel.from_pretrained(model_name)\n",
    "\n",
    "# Encode the data\n",
    "data = ['1.0', '2.0', '3.0', '4.0', '5.0']\n",
    "encoded_data = tokenizer(data, padding=True, truncation=True, return_tensors='pt')\n",
    "outputs = model(**encoded_data)\n"
   ]
  },
  {
   "cell_type": "markdown",
   "metadata": {
    "id": "LfyKVeaZHTOJ"
   },
   "source": [
    "## 5- Federated Learning\n",
    "\n",
    "Federated learning Federated learning (FL) [(McMahan et al., 2017)](http://proceedings.mlr.press/v54/mcmahan17a/mcmahan17a.pdf) employs distributed clients (also called edge devices) to train a combined global model, without requiring clients to directly share local data with a central repository."
   ]
  },
  {
   "cell_type": "markdown",
   "metadata": {
    "id": "Nz_BPq128Ia0"
   },
   "source": [
    "The content of the Notebook has been copied or inspired from the following sources:\n",
    "\n",
    "* https://keras.io/examples/timeseries/timeseries_anomaly_detection/\n",
    "* https://www.kaggle.com/code/prashant111/random-forest-classifier-tutorial"
   ]
  }
 ],
 "metadata": {
  "colab": {
   "provenance": []
  },
  "kernelspec": {
   "display_name": "base",
   "language": "python",
   "name": "python3"
  },
  "language_info": {
   "name": "python",
   "version": "3.12.7"
  },
  "widgets": {
   "application/vnd.jupyter.widget-state+json": {
    "02c48e21afcb4df4a6a99f49b27f3655": {
     "model_module": "@jupyter-widgets/base",
     "model_module_version": "1.2.0",
     "model_name": "LayoutModel",
     "state": {
      "_model_module": "@jupyter-widgets/base",
      "_model_module_version": "1.2.0",
      "_model_name": "LayoutModel",
      "_view_count": null,
      "_view_module": "@jupyter-widgets/base",
      "_view_module_version": "1.2.0",
      "_view_name": "LayoutView",
      "align_content": null,
      "align_items": null,
      "align_self": null,
      "border": null,
      "bottom": null,
      "display": null,
      "flex": null,
      "flex_flow": null,
      "grid_area": null,
      "grid_auto_columns": null,
      "grid_auto_flow": null,
      "grid_auto_rows": null,
      "grid_column": null,
      "grid_gap": null,
      "grid_row": null,
      "grid_template_areas": null,
      "grid_template_columns": null,
      "grid_template_rows": null,
      "height": null,
      "justify_content": null,
      "justify_items": null,
      "left": null,
      "margin": null,
      "max_height": null,
      "max_width": null,
      "min_height": null,
      "min_width": null,
      "object_fit": null,
      "object_position": null,
      "order": null,
      "overflow": null,
      "overflow_x": null,
      "overflow_y": null,
      "padding": null,
      "right": null,
      "top": null,
      "visibility": null,
      "width": null
     }
    },
    "02ea6e17968544dc8e5cc3bea8b08400": {
     "model_module": "@jupyter-widgets/base",
     "model_module_version": "1.2.0",
     "model_name": "LayoutModel",
     "state": {
      "_model_module": "@jupyter-widgets/base",
      "_model_module_version": "1.2.0",
      "_model_name": "LayoutModel",
      "_view_count": null,
      "_view_module": "@jupyter-widgets/base",
      "_view_module_version": "1.2.0",
      "_view_name": "LayoutView",
      "align_content": null,
      "align_items": null,
      "align_self": null,
      "border": null,
      "bottom": null,
      "display": null,
      "flex": null,
      "flex_flow": null,
      "grid_area": null,
      "grid_auto_columns": null,
      "grid_auto_flow": null,
      "grid_auto_rows": null,
      "grid_column": null,
      "grid_gap": null,
      "grid_row": null,
      "grid_template_areas": null,
      "grid_template_columns": null,
      "grid_template_rows": null,
      "height": null,
      "justify_content": null,
      "justify_items": null,
      "left": null,
      "margin": null,
      "max_height": null,
      "max_width": null,
      "min_height": null,
      "min_width": null,
      "object_fit": null,
      "object_position": null,
      "order": null,
      "overflow": null,
      "overflow_x": null,
      "overflow_y": null,
      "padding": null,
      "right": null,
      "top": null,
      "visibility": null,
      "width": null
     }
    },
    "0314f7851b8648e0ae68235186a303bf": {
     "model_module": "@jupyter-widgets/controls",
     "model_module_version": "1.5.0",
     "model_name": "HBoxModel",
     "state": {
      "_dom_classes": [],
      "_model_module": "@jupyter-widgets/controls",
      "_model_module_version": "1.5.0",
      "_model_name": "HBoxModel",
      "_view_count": null,
      "_view_module": "@jupyter-widgets/controls",
      "_view_module_version": "1.5.0",
      "_view_name": "HBoxView",
      "box_style": "",
      "children": [
       "IPY_MODEL_90288e9fca2e40a79f128957fc9835bb",
       "IPY_MODEL_d660877defa44a85b0ff45c9c68e6753",
       "IPY_MODEL_b4313df3bf03453685817582625c2b52"
      ],
      "layout": "IPY_MODEL_02c48e21afcb4df4a6a99f49b27f3655"
     }
    },
    "04382ade5a224950ac0ba0b46b9cfd8a": {
     "model_module": "@jupyter-widgets/base",
     "model_module_version": "1.2.0",
     "model_name": "LayoutModel",
     "state": {
      "_model_module": "@jupyter-widgets/base",
      "_model_module_version": "1.2.0",
      "_model_name": "LayoutModel",
      "_view_count": null,
      "_view_module": "@jupyter-widgets/base",
      "_view_module_version": "1.2.0",
      "_view_name": "LayoutView",
      "align_content": null,
      "align_items": null,
      "align_self": null,
      "border": null,
      "bottom": null,
      "display": null,
      "flex": null,
      "flex_flow": null,
      "grid_area": null,
      "grid_auto_columns": null,
      "grid_auto_flow": null,
      "grid_auto_rows": null,
      "grid_column": null,
      "grid_gap": null,
      "grid_row": null,
      "grid_template_areas": null,
      "grid_template_columns": null,
      "grid_template_rows": null,
      "height": null,
      "justify_content": null,
      "justify_items": null,
      "left": null,
      "margin": null,
      "max_height": null,
      "max_width": null,
      "min_height": null,
      "min_width": null,
      "object_fit": null,
      "object_position": null,
      "order": null,
      "overflow": null,
      "overflow_x": null,
      "overflow_y": null,
      "padding": null,
      "right": null,
      "top": null,
      "visibility": null,
      "width": null
     }
    },
    "04ba2301f0c4483cb636a6e849d0c8e4": {
     "model_module": "@jupyter-widgets/controls",
     "model_module_version": "1.5.0",
     "model_name": "HTMLModel",
     "state": {
      "_dom_classes": [],
      "_model_module": "@jupyter-widgets/controls",
      "_model_module_version": "1.5.0",
      "_model_name": "HTMLModel",
      "_view_count": null,
      "_view_module": "@jupyter-widgets/controls",
      "_view_module_version": "1.5.0",
      "_view_name": "HTMLView",
      "description": "",
      "description_tooltip": null,
      "layout": "IPY_MODEL_bf738a92d19a4fd8bc275873250cbdaa",
      "placeholder": "​",
      "style": "IPY_MODEL_16bbdccdc0ce4485a6696bd2d77ed87d",
      "value": " 440M/440M [00:03&lt;00:00, 77.7MB/s]"
     }
    },
    "04d835ce1e0f40f1a726fe677a9da8d2": {
     "model_module": "@jupyter-widgets/controls",
     "model_module_version": "1.5.0",
     "model_name": "FloatProgressModel",
     "state": {
      "_dom_classes": [],
      "_model_module": "@jupyter-widgets/controls",
      "_model_module_version": "1.5.0",
      "_model_name": "FloatProgressModel",
      "_view_count": null,
      "_view_module": "@jupyter-widgets/controls",
      "_view_module_version": "1.5.0",
      "_view_name": "ProgressView",
      "bar_style": "success",
      "description": "",
      "description_tooltip": null,
      "layout": "IPY_MODEL_3cbd1c1f71324ae3a2b56d52bd819f6a",
      "max": 570,
      "min": 0,
      "orientation": "horizontal",
      "style": "IPY_MODEL_ae75ec4bf5bc4d5ea25b4c090427d43f",
      "value": 570
     }
    },
    "0515261cf8784c9a8ffa65e7ab89997d": {
     "model_module": "@jupyter-widgets/controls",
     "model_module_version": "1.5.0",
     "model_name": "HTMLModel",
     "state": {
      "_dom_classes": [],
      "_model_module": "@jupyter-widgets/controls",
      "_model_module_version": "1.5.0",
      "_model_name": "HTMLModel",
      "_view_count": null,
      "_view_module": "@jupyter-widgets/controls",
      "_view_module_version": "1.5.0",
      "_view_name": "HTMLView",
      "description": "",
      "description_tooltip": null,
      "layout": "IPY_MODEL_ddb599f764094c7c98428a397ee8caaf",
      "placeholder": "​",
      "style": "IPY_MODEL_2925d8de2f1f4c2fb880b4d8a6aa6848",
      "value": " 570/570 [00:00&lt;00:00, 25.7kB/s]"
     }
    },
    "0c51217c22ec41c7825147fd63f2faa1": {
     "model_module": "@jupyter-widgets/controls",
     "model_module_version": "1.5.0",
     "model_name": "HTMLModel",
     "state": {
      "_dom_classes": [],
      "_model_module": "@jupyter-widgets/controls",
      "_model_module_version": "1.5.0",
      "_model_name": "HTMLModel",
      "_view_count": null,
      "_view_module": "@jupyter-widgets/controls",
      "_view_module_version": "1.5.0",
      "_view_name": "HTMLView",
      "description": "",
      "description_tooltip": null,
      "layout": "IPY_MODEL_bf704b3610ae42a2b5a627345cfbb871",
      "placeholder": "​",
      "style": "IPY_MODEL_4e685a0d56e44775bc6c00fb1cce93ab",
      "value": "vocab.txt: 100%"
     }
    },
    "0f85462da6564eecada9d73a13c9d783": {
     "model_module": "@jupyter-widgets/controls",
     "model_module_version": "1.5.0",
     "model_name": "HTMLModel",
     "state": {
      "_dom_classes": [],
      "_model_module": "@jupyter-widgets/controls",
      "_model_module_version": "1.5.0",
      "_model_name": "HTMLModel",
      "_view_count": null,
      "_view_module": "@jupyter-widgets/controls",
      "_view_module_version": "1.5.0",
      "_view_name": "HTMLView",
      "description": "",
      "description_tooltip": null,
      "layout": "IPY_MODEL_4bcc0014cbca4f25a447bfcd0f6ed266",
      "placeholder": "​",
      "style": "IPY_MODEL_30739cf684ce4f718c9d14a43fabfd0c",
      "value": " 232k/232k [00:00&lt;00:00, 3.08MB/s]"
     }
    },
    "143140ee8b824df695d0aff07925570a": {
     "model_module": "@jupyter-widgets/base",
     "model_module_version": "1.2.0",
     "model_name": "LayoutModel",
     "state": {
      "_model_module": "@jupyter-widgets/base",
      "_model_module_version": "1.2.0",
      "_model_name": "LayoutModel",
      "_view_count": null,
      "_view_module": "@jupyter-widgets/base",
      "_view_module_version": "1.2.0",
      "_view_name": "LayoutView",
      "align_content": null,
      "align_items": null,
      "align_self": null,
      "border": null,
      "bottom": null,
      "display": null,
      "flex": null,
      "flex_flow": null,
      "grid_area": null,
      "grid_auto_columns": null,
      "grid_auto_flow": null,
      "grid_auto_rows": null,
      "grid_column": null,
      "grid_gap": null,
      "grid_row": null,
      "grid_template_areas": null,
      "grid_template_columns": null,
      "grid_template_rows": null,
      "height": null,
      "justify_content": null,
      "justify_items": null,
      "left": null,
      "margin": null,
      "max_height": null,
      "max_width": null,
      "min_height": null,
      "min_width": null,
      "object_fit": null,
      "object_position": null,
      "order": null,
      "overflow": null,
      "overflow_x": null,
      "overflow_y": null,
      "padding": null,
      "right": null,
      "top": null,
      "visibility": null,
      "width": null
     }
    },
    "14e6c464e07f425aa48c91ad8e1a6426": {
     "model_module": "@jupyter-widgets/controls",
     "model_module_version": "1.5.0",
     "model_name": "ProgressStyleModel",
     "state": {
      "_model_module": "@jupyter-widgets/controls",
      "_model_module_version": "1.5.0",
      "_model_name": "ProgressStyleModel",
      "_view_count": null,
      "_view_module": "@jupyter-widgets/base",
      "_view_module_version": "1.2.0",
      "_view_name": "StyleView",
      "bar_color": null,
      "description_width": ""
     }
    },
    "16bbdccdc0ce4485a6696bd2d77ed87d": {
     "model_module": "@jupyter-widgets/controls",
     "model_module_version": "1.5.0",
     "model_name": "DescriptionStyleModel",
     "state": {
      "_model_module": "@jupyter-widgets/controls",
      "_model_module_version": "1.5.0",
      "_model_name": "DescriptionStyleModel",
      "_view_count": null,
      "_view_module": "@jupyter-widgets/base",
      "_view_module_version": "1.2.0",
      "_view_name": "StyleView",
      "description_width": ""
     }
    },
    "199675b0afdc462586005c354b9d9f5f": {
     "model_module": "@jupyter-widgets/base",
     "model_module_version": "1.2.0",
     "model_name": "LayoutModel",
     "state": {
      "_model_module": "@jupyter-widgets/base",
      "_model_module_version": "1.2.0",
      "_model_name": "LayoutModel",
      "_view_count": null,
      "_view_module": "@jupyter-widgets/base",
      "_view_module_version": "1.2.0",
      "_view_name": "LayoutView",
      "align_content": null,
      "align_items": null,
      "align_self": null,
      "border": null,
      "bottom": null,
      "display": null,
      "flex": null,
      "flex_flow": null,
      "grid_area": null,
      "grid_auto_columns": null,
      "grid_auto_flow": null,
      "grid_auto_rows": null,
      "grid_column": null,
      "grid_gap": null,
      "grid_row": null,
      "grid_template_areas": null,
      "grid_template_columns": null,
      "grid_template_rows": null,
      "height": null,
      "justify_content": null,
      "justify_items": null,
      "left": null,
      "margin": null,
      "max_height": null,
      "max_width": null,
      "min_height": null,
      "min_width": null,
      "object_fit": null,
      "object_position": null,
      "order": null,
      "overflow": null,
      "overflow_x": null,
      "overflow_y": null,
      "padding": null,
      "right": null,
      "top": null,
      "visibility": null,
      "width": null
     }
    },
    "2925d8de2f1f4c2fb880b4d8a6aa6848": {
     "model_module": "@jupyter-widgets/controls",
     "model_module_version": "1.5.0",
     "model_name": "DescriptionStyleModel",
     "state": {
      "_model_module": "@jupyter-widgets/controls",
      "_model_module_version": "1.5.0",
      "_model_name": "DescriptionStyleModel",
      "_view_count": null,
      "_view_module": "@jupyter-widgets/base",
      "_view_module_version": "1.2.0",
      "_view_name": "StyleView",
      "description_width": ""
     }
    },
    "2f9e0a3c1cd84b588439889a703e939d": {
     "model_module": "@jupyter-widgets/controls",
     "model_module_version": "1.5.0",
     "model_name": "DescriptionStyleModel",
     "state": {
      "_model_module": "@jupyter-widgets/controls",
      "_model_module_version": "1.5.0",
      "_model_name": "DescriptionStyleModel",
      "_view_count": null,
      "_view_module": "@jupyter-widgets/base",
      "_view_module_version": "1.2.0",
      "_view_name": "StyleView",
      "description_width": ""
     }
    },
    "30739cf684ce4f718c9d14a43fabfd0c": {
     "model_module": "@jupyter-widgets/controls",
     "model_module_version": "1.5.0",
     "model_name": "DescriptionStyleModel",
     "state": {
      "_model_module": "@jupyter-widgets/controls",
      "_model_module_version": "1.5.0",
      "_model_name": "DescriptionStyleModel",
      "_view_count": null,
      "_view_module": "@jupyter-widgets/base",
      "_view_module_version": "1.2.0",
      "_view_name": "StyleView",
      "description_width": ""
     }
    },
    "3cbd1c1f71324ae3a2b56d52bd819f6a": {
     "model_module": "@jupyter-widgets/base",
     "model_module_version": "1.2.0",
     "model_name": "LayoutModel",
     "state": {
      "_model_module": "@jupyter-widgets/base",
      "_model_module_version": "1.2.0",
      "_model_name": "LayoutModel",
      "_view_count": null,
      "_view_module": "@jupyter-widgets/base",
      "_view_module_version": "1.2.0",
      "_view_name": "LayoutView",
      "align_content": null,
      "align_items": null,
      "align_self": null,
      "border": null,
      "bottom": null,
      "display": null,
      "flex": null,
      "flex_flow": null,
      "grid_area": null,
      "grid_auto_columns": null,
      "grid_auto_flow": null,
      "grid_auto_rows": null,
      "grid_column": null,
      "grid_gap": null,
      "grid_row": null,
      "grid_template_areas": null,
      "grid_template_columns": null,
      "grid_template_rows": null,
      "height": null,
      "justify_content": null,
      "justify_items": null,
      "left": null,
      "margin": null,
      "max_height": null,
      "max_width": null,
      "min_height": null,
      "min_width": null,
      "object_fit": null,
      "object_position": null,
      "order": null,
      "overflow": null,
      "overflow_x": null,
      "overflow_y": null,
      "padding": null,
      "right": null,
      "top": null,
      "visibility": null,
      "width": null
     }
    },
    "4bcc0014cbca4f25a447bfcd0f6ed266": {
     "model_module": "@jupyter-widgets/base",
     "model_module_version": "1.2.0",
     "model_name": "LayoutModel",
     "state": {
      "_model_module": "@jupyter-widgets/base",
      "_model_module_version": "1.2.0",
      "_model_name": "LayoutModel",
      "_view_count": null,
      "_view_module": "@jupyter-widgets/base",
      "_view_module_version": "1.2.0",
      "_view_name": "LayoutView",
      "align_content": null,
      "align_items": null,
      "align_self": null,
      "border": null,
      "bottom": null,
      "display": null,
      "flex": null,
      "flex_flow": null,
      "grid_area": null,
      "grid_auto_columns": null,
      "grid_auto_flow": null,
      "grid_auto_rows": null,
      "grid_column": null,
      "grid_gap": null,
      "grid_row": null,
      "grid_template_areas": null,
      "grid_template_columns": null,
      "grid_template_rows": null,
      "height": null,
      "justify_content": null,
      "justify_items": null,
      "left": null,
      "margin": null,
      "max_height": null,
      "max_width": null,
      "min_height": null,
      "min_width": null,
      "object_fit": null,
      "object_position": null,
      "order": null,
      "overflow": null,
      "overflow_x": null,
      "overflow_y": null,
      "padding": null,
      "right": null,
      "top": null,
      "visibility": null,
      "width": null
     }
    },
    "4d545393e6854efbac1f41bef43217a2": {
     "model_module": "@jupyter-widgets/controls",
     "model_module_version": "1.5.0",
     "model_name": "ProgressStyleModel",
     "state": {
      "_model_module": "@jupyter-widgets/controls",
      "_model_module_version": "1.5.0",
      "_model_name": "ProgressStyleModel",
      "_view_count": null,
      "_view_module": "@jupyter-widgets/base",
      "_view_module_version": "1.2.0",
      "_view_name": "StyleView",
      "bar_color": null,
      "description_width": ""
     }
    },
    "4e685a0d56e44775bc6c00fb1cce93ab": {
     "model_module": "@jupyter-widgets/controls",
     "model_module_version": "1.5.0",
     "model_name": "DescriptionStyleModel",
     "state": {
      "_model_module": "@jupyter-widgets/controls",
      "_model_module_version": "1.5.0",
      "_model_name": "DescriptionStyleModel",
      "_view_count": null,
      "_view_module": "@jupyter-widgets/base",
      "_view_module_version": "1.2.0",
      "_view_name": "StyleView",
      "description_width": ""
     }
    },
    "4ea6f5856e404928b595141e2242f524": {
     "model_module": "@jupyter-widgets/controls",
     "model_module_version": "1.5.0",
     "model_name": "HBoxModel",
     "state": {
      "_dom_classes": [],
      "_model_module": "@jupyter-widgets/controls",
      "_model_module_version": "1.5.0",
      "_model_name": "HBoxModel",
      "_view_count": null,
      "_view_module": "@jupyter-widgets/controls",
      "_view_module_version": "1.5.0",
      "_view_name": "HBoxView",
      "box_style": "",
      "children": [
       "IPY_MODEL_0c51217c22ec41c7825147fd63f2faa1",
       "IPY_MODEL_ecec72bedc2f4580b79c64792033b58d",
       "IPY_MODEL_0f85462da6564eecada9d73a13c9d783"
      ],
      "layout": "IPY_MODEL_51c8b671490a450a91de575f84ac1145"
     }
    },
    "51c8b671490a450a91de575f84ac1145": {
     "model_module": "@jupyter-widgets/base",
     "model_module_version": "1.2.0",
     "model_name": "LayoutModel",
     "state": {
      "_model_module": "@jupyter-widgets/base",
      "_model_module_version": "1.2.0",
      "_model_name": "LayoutModel",
      "_view_count": null,
      "_view_module": "@jupyter-widgets/base",
      "_view_module_version": "1.2.0",
      "_view_name": "LayoutView",
      "align_content": null,
      "align_items": null,
      "align_self": null,
      "border": null,
      "bottom": null,
      "display": null,
      "flex": null,
      "flex_flow": null,
      "grid_area": null,
      "grid_auto_columns": null,
      "grid_auto_flow": null,
      "grid_auto_rows": null,
      "grid_column": null,
      "grid_gap": null,
      "grid_row": null,
      "grid_template_areas": null,
      "grid_template_columns": null,
      "grid_template_rows": null,
      "height": null,
      "justify_content": null,
      "justify_items": null,
      "left": null,
      "margin": null,
      "max_height": null,
      "max_width": null,
      "min_height": null,
      "min_width": null,
      "object_fit": null,
      "object_position": null,
      "order": null,
      "overflow": null,
      "overflow_x": null,
      "overflow_y": null,
      "padding": null,
      "right": null,
      "top": null,
      "visibility": null,
      "width": null
     }
    },
    "5f5c4973daa046c1a204ba8f11a2fd00": {
     "model_module": "@jupyter-widgets/controls",
     "model_module_version": "1.5.0",
     "model_name": "DescriptionStyleModel",
     "state": {
      "_model_module": "@jupyter-widgets/controls",
      "_model_module_version": "1.5.0",
      "_model_name": "DescriptionStyleModel",
      "_view_count": null,
      "_view_module": "@jupyter-widgets/base",
      "_view_module_version": "1.2.0",
      "_view_name": "StyleView",
      "description_width": ""
     }
    },
    "6732acf4aadf43ab864b0288b80de17c": {
     "model_module": "@jupyter-widgets/base",
     "model_module_version": "1.2.0",
     "model_name": "LayoutModel",
     "state": {
      "_model_module": "@jupyter-widgets/base",
      "_model_module_version": "1.2.0",
      "_model_name": "LayoutModel",
      "_view_count": null,
      "_view_module": "@jupyter-widgets/base",
      "_view_module_version": "1.2.0",
      "_view_name": "LayoutView",
      "align_content": null,
      "align_items": null,
      "align_self": null,
      "border": null,
      "bottom": null,
      "display": null,
      "flex": null,
      "flex_flow": null,
      "grid_area": null,
      "grid_auto_columns": null,
      "grid_auto_flow": null,
      "grid_auto_rows": null,
      "grid_column": null,
      "grid_gap": null,
      "grid_row": null,
      "grid_template_areas": null,
      "grid_template_columns": null,
      "grid_template_rows": null,
      "height": null,
      "justify_content": null,
      "justify_items": null,
      "left": null,
      "margin": null,
      "max_height": null,
      "max_width": null,
      "min_height": null,
      "min_width": null,
      "object_fit": null,
      "object_position": null,
      "order": null,
      "overflow": null,
      "overflow_x": null,
      "overflow_y": null,
      "padding": null,
      "right": null,
      "top": null,
      "visibility": null,
      "width": null
     }
    },
    "683a845ef26d44c1b7ec384d04ed1310": {
     "model_module": "@jupyter-widgets/controls",
     "model_module_version": "1.5.0",
     "model_name": "FloatProgressModel",
     "state": {
      "_dom_classes": [],
      "_model_module": "@jupyter-widgets/controls",
      "_model_module_version": "1.5.0",
      "_model_name": "FloatProgressModel",
      "_view_count": null,
      "_view_module": "@jupyter-widgets/controls",
      "_view_module_version": "1.5.0",
      "_view_name": "ProgressView",
      "bar_style": "success",
      "description": "",
      "description_tooltip": null,
      "layout": "IPY_MODEL_bab0913b089843ef9d1842e7ebb29c9b",
      "max": 440449768,
      "min": 0,
      "orientation": "horizontal",
      "style": "IPY_MODEL_a3f7f120eb2d4a0e98e1046bab215702",
      "value": 440449768
     }
    },
    "7434e78ebf0340b5a7bcbc9e6e2fc84e": {
     "model_module": "@jupyter-widgets/base",
     "model_module_version": "1.2.0",
     "model_name": "LayoutModel",
     "state": {
      "_model_module": "@jupyter-widgets/base",
      "_model_module_version": "1.2.0",
      "_model_name": "LayoutModel",
      "_view_count": null,
      "_view_module": "@jupyter-widgets/base",
      "_view_module_version": "1.2.0",
      "_view_name": "LayoutView",
      "align_content": null,
      "align_items": null,
      "align_self": null,
      "border": null,
      "bottom": null,
      "display": null,
      "flex": null,
      "flex_flow": null,
      "grid_area": null,
      "grid_auto_columns": null,
      "grid_auto_flow": null,
      "grid_auto_rows": null,
      "grid_column": null,
      "grid_gap": null,
      "grid_row": null,
      "grid_template_areas": null,
      "grid_template_columns": null,
      "grid_template_rows": null,
      "height": null,
      "justify_content": null,
      "justify_items": null,
      "left": null,
      "margin": null,
      "max_height": null,
      "max_width": null,
      "min_height": null,
      "min_width": null,
      "object_fit": null,
      "object_position": null,
      "order": null,
      "overflow": null,
      "overflow_x": null,
      "overflow_y": null,
      "padding": null,
      "right": null,
      "top": null,
      "visibility": null,
      "width": null
     }
    },
    "7c0a68ac75d849a690fe789fd289bf47": {
     "model_module": "@jupyter-widgets/base",
     "model_module_version": "1.2.0",
     "model_name": "LayoutModel",
     "state": {
      "_model_module": "@jupyter-widgets/base",
      "_model_module_version": "1.2.0",
      "_model_name": "LayoutModel",
      "_view_count": null,
      "_view_module": "@jupyter-widgets/base",
      "_view_module_version": "1.2.0",
      "_view_name": "LayoutView",
      "align_content": null,
      "align_items": null,
      "align_self": null,
      "border": null,
      "bottom": null,
      "display": null,
      "flex": null,
      "flex_flow": null,
      "grid_area": null,
      "grid_auto_columns": null,
      "grid_auto_flow": null,
      "grid_auto_rows": null,
      "grid_column": null,
      "grid_gap": null,
      "grid_row": null,
      "grid_template_areas": null,
      "grid_template_columns": null,
      "grid_template_rows": null,
      "height": null,
      "justify_content": null,
      "justify_items": null,
      "left": null,
      "margin": null,
      "max_height": null,
      "max_width": null,
      "min_height": null,
      "min_width": null,
      "object_fit": null,
      "object_position": null,
      "order": null,
      "overflow": null,
      "overflow_x": null,
      "overflow_y": null,
      "padding": null,
      "right": null,
      "top": null,
      "visibility": null,
      "width": null
     }
    },
    "8c523bcf86544393898ec7c69171408a": {
     "model_module": "@jupyter-widgets/controls",
     "model_module_version": "1.5.0",
     "model_name": "HBoxModel",
     "state": {
      "_dom_classes": [],
      "_model_module": "@jupyter-widgets/controls",
      "_model_module_version": "1.5.0",
      "_model_name": "HBoxModel",
      "_view_count": null,
      "_view_module": "@jupyter-widgets/controls",
      "_view_module_version": "1.5.0",
      "_view_name": "HBoxView",
      "box_style": "",
      "children": [
       "IPY_MODEL_b1c70c3bbdea4213b1b1453eab9291a4",
       "IPY_MODEL_d061bae0d86d4897a15aa6855cbac61f",
       "IPY_MODEL_ec9de0989f1e41d3a8e8a06c6732b3c9"
      ],
      "layout": "IPY_MODEL_e7f55cb728f14ee18bc9b0dc3adf5f26"
     }
    },
    "8ee75dc88266441b8e3b57c8962764e7": {
     "model_module": "@jupyter-widgets/controls",
     "model_module_version": "1.5.0",
     "model_name": "HBoxModel",
     "state": {
      "_dom_classes": [],
      "_model_module": "@jupyter-widgets/controls",
      "_model_module_version": "1.5.0",
      "_model_name": "HBoxModel",
      "_view_count": null,
      "_view_module": "@jupyter-widgets/controls",
      "_view_module_version": "1.5.0",
      "_view_name": "HBoxView",
      "box_style": "",
      "children": [
       "IPY_MODEL_a0bb04c258dd492ba9e03ba42f4ed597",
       "IPY_MODEL_04d835ce1e0f40f1a726fe677a9da8d2",
       "IPY_MODEL_0515261cf8784c9a8ffa65e7ab89997d"
      ],
      "layout": "IPY_MODEL_143140ee8b824df695d0aff07925570a"
     }
    },
    "90288e9fca2e40a79f128957fc9835bb": {
     "model_module": "@jupyter-widgets/controls",
     "model_module_version": "1.5.0",
     "model_name": "HTMLModel",
     "state": {
      "_dom_classes": [],
      "_model_module": "@jupyter-widgets/controls",
      "_model_module_version": "1.5.0",
      "_model_name": "HTMLModel",
      "_view_count": null,
      "_view_module": "@jupyter-widgets/controls",
      "_view_module_version": "1.5.0",
      "_view_name": "HTMLView",
      "description": "",
      "description_tooltip": null,
      "layout": "IPY_MODEL_7c0a68ac75d849a690fe789fd289bf47",
      "placeholder": "​",
      "style": "IPY_MODEL_df4f2847f05f4bf6a3c3664773c24060",
      "value": "tokenizer.json: 100%"
     }
    },
    "91c98ab8827c4fd0af2033d00a4cf366": {
     "model_module": "@jupyter-widgets/base",
     "model_module_version": "1.2.0",
     "model_name": "LayoutModel",
     "state": {
      "_model_module": "@jupyter-widgets/base",
      "_model_module_version": "1.2.0",
      "_model_name": "LayoutModel",
      "_view_count": null,
      "_view_module": "@jupyter-widgets/base",
      "_view_module_version": "1.2.0",
      "_view_name": "LayoutView",
      "align_content": null,
      "align_items": null,
      "align_self": null,
      "border": null,
      "bottom": null,
      "display": null,
      "flex": null,
      "flex_flow": null,
      "grid_area": null,
      "grid_auto_columns": null,
      "grid_auto_flow": null,
      "grid_auto_rows": null,
      "grid_column": null,
      "grid_gap": null,
      "grid_row": null,
      "grid_template_areas": null,
      "grid_template_columns": null,
      "grid_template_rows": null,
      "height": null,
      "justify_content": null,
      "justify_items": null,
      "left": null,
      "margin": null,
      "max_height": null,
      "max_width": null,
      "min_height": null,
      "min_width": null,
      "object_fit": null,
      "object_position": null,
      "order": null,
      "overflow": null,
      "overflow_x": null,
      "overflow_y": null,
      "padding": null,
      "right": null,
      "top": null,
      "visibility": null,
      "width": null
     }
    },
    "a0bb04c258dd492ba9e03ba42f4ed597": {
     "model_module": "@jupyter-widgets/controls",
     "model_module_version": "1.5.0",
     "model_name": "HTMLModel",
     "state": {
      "_dom_classes": [],
      "_model_module": "@jupyter-widgets/controls",
      "_model_module_version": "1.5.0",
      "_model_name": "HTMLModel",
      "_view_count": null,
      "_view_module": "@jupyter-widgets/controls",
      "_view_module_version": "1.5.0",
      "_view_name": "HTMLView",
      "description": "",
      "description_tooltip": null,
      "layout": "IPY_MODEL_02ea6e17968544dc8e5cc3bea8b08400",
      "placeholder": "​",
      "style": "IPY_MODEL_dc7b9d1953b9482796bc4833706872c7",
      "value": "config.json: 100%"
     }
    },
    "a3f7f120eb2d4a0e98e1046bab215702": {
     "model_module": "@jupyter-widgets/controls",
     "model_module_version": "1.5.0",
     "model_name": "ProgressStyleModel",
     "state": {
      "_model_module": "@jupyter-widgets/controls",
      "_model_module_version": "1.5.0",
      "_model_name": "ProgressStyleModel",
      "_view_count": null,
      "_view_module": "@jupyter-widgets/base",
      "_view_module_version": "1.2.0",
      "_view_name": "StyleView",
      "bar_color": null,
      "description_width": ""
     }
    },
    "a71416c6dffb45478adb64c4dc9f59e8": {
     "model_module": "@jupyter-widgets/controls",
     "model_module_version": "1.5.0",
     "model_name": "DescriptionStyleModel",
     "state": {
      "_model_module": "@jupyter-widgets/controls",
      "_model_module_version": "1.5.0",
      "_model_name": "DescriptionStyleModel",
      "_view_count": null,
      "_view_module": "@jupyter-widgets/base",
      "_view_module_version": "1.2.0",
      "_view_name": "StyleView",
      "description_width": ""
     }
    },
    "ae75ec4bf5bc4d5ea25b4c090427d43f": {
     "model_module": "@jupyter-widgets/controls",
     "model_module_version": "1.5.0",
     "model_name": "ProgressStyleModel",
     "state": {
      "_model_module": "@jupyter-widgets/controls",
      "_model_module_version": "1.5.0",
      "_model_name": "ProgressStyleModel",
      "_view_count": null,
      "_view_module": "@jupyter-widgets/base",
      "_view_module_version": "1.2.0",
      "_view_name": "StyleView",
      "bar_color": null,
      "description_width": ""
     }
    },
    "b1c70c3bbdea4213b1b1453eab9291a4": {
     "model_module": "@jupyter-widgets/controls",
     "model_module_version": "1.5.0",
     "model_name": "HTMLModel",
     "state": {
      "_dom_classes": [],
      "_model_module": "@jupyter-widgets/controls",
      "_model_module_version": "1.5.0",
      "_model_name": "HTMLModel",
      "_view_count": null,
      "_view_module": "@jupyter-widgets/controls",
      "_view_module_version": "1.5.0",
      "_view_name": "HTMLView",
      "description": "",
      "description_tooltip": null,
      "layout": "IPY_MODEL_7434e78ebf0340b5a7bcbc9e6e2fc84e",
      "placeholder": "​",
      "style": "IPY_MODEL_5f5c4973daa046c1a204ba8f11a2fd00",
      "value": "tokenizer_config.json: 100%"
     }
    },
    "b4313df3bf03453685817582625c2b52": {
     "model_module": "@jupyter-widgets/controls",
     "model_module_version": "1.5.0",
     "model_name": "HTMLModel",
     "state": {
      "_dom_classes": [],
      "_model_module": "@jupyter-widgets/controls",
      "_model_module_version": "1.5.0",
      "_model_name": "HTMLModel",
      "_view_count": null,
      "_view_module": "@jupyter-widgets/controls",
      "_view_module_version": "1.5.0",
      "_view_name": "HTMLView",
      "description": "",
      "description_tooltip": null,
      "layout": "IPY_MODEL_6732acf4aadf43ab864b0288b80de17c",
      "placeholder": "​",
      "style": "IPY_MODEL_a71416c6dffb45478adb64c4dc9f59e8",
      "value": " 466k/466k [00:00&lt;00:00, 8.89MB/s]"
     }
    },
    "bab0913b089843ef9d1842e7ebb29c9b": {
     "model_module": "@jupyter-widgets/base",
     "model_module_version": "1.2.0",
     "model_name": "LayoutModel",
     "state": {
      "_model_module": "@jupyter-widgets/base",
      "_model_module_version": "1.2.0",
      "_model_name": "LayoutModel",
      "_view_count": null,
      "_view_module": "@jupyter-widgets/base",
      "_view_module_version": "1.2.0",
      "_view_name": "LayoutView",
      "align_content": null,
      "align_items": null,
      "align_self": null,
      "border": null,
      "bottom": null,
      "display": null,
      "flex": null,
      "flex_flow": null,
      "grid_area": null,
      "grid_auto_columns": null,
      "grid_auto_flow": null,
      "grid_auto_rows": null,
      "grid_column": null,
      "grid_gap": null,
      "grid_row": null,
      "grid_template_areas": null,
      "grid_template_columns": null,
      "grid_template_rows": null,
      "height": null,
      "justify_content": null,
      "justify_items": null,
      "left": null,
      "margin": null,
      "max_height": null,
      "max_width": null,
      "min_height": null,
      "min_width": null,
      "object_fit": null,
      "object_position": null,
      "order": null,
      "overflow": null,
      "overflow_x": null,
      "overflow_y": null,
      "padding": null,
      "right": null,
      "top": null,
      "visibility": null,
      "width": null
     }
    },
    "be07bd06fbd64926a17056ad3f11939c": {
     "model_module": "@jupyter-widgets/base",
     "model_module_version": "1.2.0",
     "model_name": "LayoutModel",
     "state": {
      "_model_module": "@jupyter-widgets/base",
      "_model_module_version": "1.2.0",
      "_model_name": "LayoutModel",
      "_view_count": null,
      "_view_module": "@jupyter-widgets/base",
      "_view_module_version": "1.2.0",
      "_view_name": "LayoutView",
      "align_content": null,
      "align_items": null,
      "align_self": null,
      "border": null,
      "bottom": null,
      "display": null,
      "flex": null,
      "flex_flow": null,
      "grid_area": null,
      "grid_auto_columns": null,
      "grid_auto_flow": null,
      "grid_auto_rows": null,
      "grid_column": null,
      "grid_gap": null,
      "grid_row": null,
      "grid_template_areas": null,
      "grid_template_columns": null,
      "grid_template_rows": null,
      "height": null,
      "justify_content": null,
      "justify_items": null,
      "left": null,
      "margin": null,
      "max_height": null,
      "max_width": null,
      "min_height": null,
      "min_width": null,
      "object_fit": null,
      "object_position": null,
      "order": null,
      "overflow": null,
      "overflow_x": null,
      "overflow_y": null,
      "padding": null,
      "right": null,
      "top": null,
      "visibility": null,
      "width": null
     }
    },
    "bf704b3610ae42a2b5a627345cfbb871": {
     "model_module": "@jupyter-widgets/base",
     "model_module_version": "1.2.0",
     "model_name": "LayoutModel",
     "state": {
      "_model_module": "@jupyter-widgets/base",
      "_model_module_version": "1.2.0",
      "_model_name": "LayoutModel",
      "_view_count": null,
      "_view_module": "@jupyter-widgets/base",
      "_view_module_version": "1.2.0",
      "_view_name": "LayoutView",
      "align_content": null,
      "align_items": null,
      "align_self": null,
      "border": null,
      "bottom": null,
      "display": null,
      "flex": null,
      "flex_flow": null,
      "grid_area": null,
      "grid_auto_columns": null,
      "grid_auto_flow": null,
      "grid_auto_rows": null,
      "grid_column": null,
      "grid_gap": null,
      "grid_row": null,
      "grid_template_areas": null,
      "grid_template_columns": null,
      "grid_template_rows": null,
      "height": null,
      "justify_content": null,
      "justify_items": null,
      "left": null,
      "margin": null,
      "max_height": null,
      "max_width": null,
      "min_height": null,
      "min_width": null,
      "object_fit": null,
      "object_position": null,
      "order": null,
      "overflow": null,
      "overflow_x": null,
      "overflow_y": null,
      "padding": null,
      "right": null,
      "top": null,
      "visibility": null,
      "width": null
     }
    },
    "bf738a92d19a4fd8bc275873250cbdaa": {
     "model_module": "@jupyter-widgets/base",
     "model_module_version": "1.2.0",
     "model_name": "LayoutModel",
     "state": {
      "_model_module": "@jupyter-widgets/base",
      "_model_module_version": "1.2.0",
      "_model_name": "LayoutModel",
      "_view_count": null,
      "_view_module": "@jupyter-widgets/base",
      "_view_module_version": "1.2.0",
      "_view_name": "LayoutView",
      "align_content": null,
      "align_items": null,
      "align_self": null,
      "border": null,
      "bottom": null,
      "display": null,
      "flex": null,
      "flex_flow": null,
      "grid_area": null,
      "grid_auto_columns": null,
      "grid_auto_flow": null,
      "grid_auto_rows": null,
      "grid_column": null,
      "grid_gap": null,
      "grid_row": null,
      "grid_template_areas": null,
      "grid_template_columns": null,
      "grid_template_rows": null,
      "height": null,
      "justify_content": null,
      "justify_items": null,
      "left": null,
      "margin": null,
      "max_height": null,
      "max_width": null,
      "min_height": null,
      "min_width": null,
      "object_fit": null,
      "object_position": null,
      "order": null,
      "overflow": null,
      "overflow_x": null,
      "overflow_y": null,
      "padding": null,
      "right": null,
      "top": null,
      "visibility": null,
      "width": null
     }
    },
    "c5585fbc124a46ec809f57936c238338": {
     "model_module": "@jupyter-widgets/controls",
     "model_module_version": "1.5.0",
     "model_name": "HBoxModel",
     "state": {
      "_dom_classes": [],
      "_model_module": "@jupyter-widgets/controls",
      "_model_module_version": "1.5.0",
      "_model_name": "HBoxModel",
      "_view_count": null,
      "_view_module": "@jupyter-widgets/controls",
      "_view_module_version": "1.5.0",
      "_view_name": "HBoxView",
      "box_style": "",
      "children": [
       "IPY_MODEL_d2eaaa36339443078c04c7f54c7b93d6",
       "IPY_MODEL_683a845ef26d44c1b7ec384d04ed1310",
       "IPY_MODEL_04ba2301f0c4483cb636a6e849d0c8e4"
      ],
      "layout": "IPY_MODEL_f7b13a432c764129875900df7e16e115"
     }
    },
    "ce37b460ad9d4b17abb3ef1e3c4e285a": {
     "model_module": "@jupyter-widgets/controls",
     "model_module_version": "1.5.0",
     "model_name": "ProgressStyleModel",
     "state": {
      "_model_module": "@jupyter-widgets/controls",
      "_model_module_version": "1.5.0",
      "_model_name": "ProgressStyleModel",
      "_view_count": null,
      "_view_module": "@jupyter-widgets/base",
      "_view_module_version": "1.2.0",
      "_view_name": "StyleView",
      "bar_color": null,
      "description_width": ""
     }
    },
    "d061bae0d86d4897a15aa6855cbac61f": {
     "model_module": "@jupyter-widgets/controls",
     "model_module_version": "1.5.0",
     "model_name": "FloatProgressModel",
     "state": {
      "_dom_classes": [],
      "_model_module": "@jupyter-widgets/controls",
      "_model_module_version": "1.5.0",
      "_model_name": "FloatProgressModel",
      "_view_count": null,
      "_view_module": "@jupyter-widgets/controls",
      "_view_module_version": "1.5.0",
      "_view_name": "ProgressView",
      "bar_style": "success",
      "description": "",
      "description_tooltip": null,
      "layout": "IPY_MODEL_be07bd06fbd64926a17056ad3f11939c",
      "max": 48,
      "min": 0,
      "orientation": "horizontal",
      "style": "IPY_MODEL_ce37b460ad9d4b17abb3ef1e3c4e285a",
      "value": 48
     }
    },
    "d2eaaa36339443078c04c7f54c7b93d6": {
     "model_module": "@jupyter-widgets/controls",
     "model_module_version": "1.5.0",
     "model_name": "HTMLModel",
     "state": {
      "_dom_classes": [],
      "_model_module": "@jupyter-widgets/controls",
      "_model_module_version": "1.5.0",
      "_model_name": "HTMLModel",
      "_view_count": null,
      "_view_module": "@jupyter-widgets/controls",
      "_view_module_version": "1.5.0",
      "_view_name": "HTMLView",
      "description": "",
      "description_tooltip": null,
      "layout": "IPY_MODEL_199675b0afdc462586005c354b9d9f5f",
      "placeholder": "​",
      "style": "IPY_MODEL_2f9e0a3c1cd84b588439889a703e939d",
      "value": "model.safetensors: 100%"
     }
    },
    "d524147ac1b74dfaac1e219434554772": {
     "model_module": "@jupyter-widgets/controls",
     "model_module_version": "1.5.0",
     "model_name": "DescriptionStyleModel",
     "state": {
      "_model_module": "@jupyter-widgets/controls",
      "_model_module_version": "1.5.0",
      "_model_name": "DescriptionStyleModel",
      "_view_count": null,
      "_view_module": "@jupyter-widgets/base",
      "_view_module_version": "1.2.0",
      "_view_name": "StyleView",
      "description_width": ""
     }
    },
    "d660877defa44a85b0ff45c9c68e6753": {
     "model_module": "@jupyter-widgets/controls",
     "model_module_version": "1.5.0",
     "model_name": "FloatProgressModel",
     "state": {
      "_dom_classes": [],
      "_model_module": "@jupyter-widgets/controls",
      "_model_module_version": "1.5.0",
      "_model_name": "FloatProgressModel",
      "_view_count": null,
      "_view_module": "@jupyter-widgets/controls",
      "_view_module_version": "1.5.0",
      "_view_name": "ProgressView",
      "bar_style": "success",
      "description": "",
      "description_tooltip": null,
      "layout": "IPY_MODEL_04382ade5a224950ac0ba0b46b9cfd8a",
      "max": 466062,
      "min": 0,
      "orientation": "horizontal",
      "style": "IPY_MODEL_4d545393e6854efbac1f41bef43217a2",
      "value": 466062
     }
    },
    "dc7b9d1953b9482796bc4833706872c7": {
     "model_module": "@jupyter-widgets/controls",
     "model_module_version": "1.5.0",
     "model_name": "DescriptionStyleModel",
     "state": {
      "_model_module": "@jupyter-widgets/controls",
      "_model_module_version": "1.5.0",
      "_model_name": "DescriptionStyleModel",
      "_view_count": null,
      "_view_module": "@jupyter-widgets/base",
      "_view_module_version": "1.2.0",
      "_view_name": "StyleView",
      "description_width": ""
     }
    },
    "ddb599f764094c7c98428a397ee8caaf": {
     "model_module": "@jupyter-widgets/base",
     "model_module_version": "1.2.0",
     "model_name": "LayoutModel",
     "state": {
      "_model_module": "@jupyter-widgets/base",
      "_model_module_version": "1.2.0",
      "_model_name": "LayoutModel",
      "_view_count": null,
      "_view_module": "@jupyter-widgets/base",
      "_view_module_version": "1.2.0",
      "_view_name": "LayoutView",
      "align_content": null,
      "align_items": null,
      "align_self": null,
      "border": null,
      "bottom": null,
      "display": null,
      "flex": null,
      "flex_flow": null,
      "grid_area": null,
      "grid_auto_columns": null,
      "grid_auto_flow": null,
      "grid_auto_rows": null,
      "grid_column": null,
      "grid_gap": null,
      "grid_row": null,
      "grid_template_areas": null,
      "grid_template_columns": null,
      "grid_template_rows": null,
      "height": null,
      "justify_content": null,
      "justify_items": null,
      "left": null,
      "margin": null,
      "max_height": null,
      "max_width": null,
      "min_height": null,
      "min_width": null,
      "object_fit": null,
      "object_position": null,
      "order": null,
      "overflow": null,
      "overflow_x": null,
      "overflow_y": null,
      "padding": null,
      "right": null,
      "top": null,
      "visibility": null,
      "width": null
     }
    },
    "df4f2847f05f4bf6a3c3664773c24060": {
     "model_module": "@jupyter-widgets/controls",
     "model_module_version": "1.5.0",
     "model_name": "DescriptionStyleModel",
     "state": {
      "_model_module": "@jupyter-widgets/controls",
      "_model_module_version": "1.5.0",
      "_model_name": "DescriptionStyleModel",
      "_view_count": null,
      "_view_module": "@jupyter-widgets/base",
      "_view_module_version": "1.2.0",
      "_view_name": "StyleView",
      "description_width": ""
     }
    },
    "e7f55cb728f14ee18bc9b0dc3adf5f26": {
     "model_module": "@jupyter-widgets/base",
     "model_module_version": "1.2.0",
     "model_name": "LayoutModel",
     "state": {
      "_model_module": "@jupyter-widgets/base",
      "_model_module_version": "1.2.0",
      "_model_name": "LayoutModel",
      "_view_count": null,
      "_view_module": "@jupyter-widgets/base",
      "_view_module_version": "1.2.0",
      "_view_name": "LayoutView",
      "align_content": null,
      "align_items": null,
      "align_self": null,
      "border": null,
      "bottom": null,
      "display": null,
      "flex": null,
      "flex_flow": null,
      "grid_area": null,
      "grid_auto_columns": null,
      "grid_auto_flow": null,
      "grid_auto_rows": null,
      "grid_column": null,
      "grid_gap": null,
      "grid_row": null,
      "grid_template_areas": null,
      "grid_template_columns": null,
      "grid_template_rows": null,
      "height": null,
      "justify_content": null,
      "justify_items": null,
      "left": null,
      "margin": null,
      "max_height": null,
      "max_width": null,
      "min_height": null,
      "min_width": null,
      "object_fit": null,
      "object_position": null,
      "order": null,
      "overflow": null,
      "overflow_x": null,
      "overflow_y": null,
      "padding": null,
      "right": null,
      "top": null,
      "visibility": null,
      "width": null
     }
    },
    "ec9de0989f1e41d3a8e8a06c6732b3c9": {
     "model_module": "@jupyter-widgets/controls",
     "model_module_version": "1.5.0",
     "model_name": "HTMLModel",
     "state": {
      "_dom_classes": [],
      "_model_module": "@jupyter-widgets/controls",
      "_model_module_version": "1.5.0",
      "_model_name": "HTMLModel",
      "_view_count": null,
      "_view_module": "@jupyter-widgets/controls",
      "_view_module_version": "1.5.0",
      "_view_name": "HTMLView",
      "description": "",
      "description_tooltip": null,
      "layout": "IPY_MODEL_91c98ab8827c4fd0af2033d00a4cf366",
      "placeholder": "​",
      "style": "IPY_MODEL_d524147ac1b74dfaac1e219434554772",
      "value": " 48.0/48.0 [00:00&lt;00:00, 1.48kB/s]"
     }
    },
    "ecec72bedc2f4580b79c64792033b58d": {
     "model_module": "@jupyter-widgets/controls",
     "model_module_version": "1.5.0",
     "model_name": "FloatProgressModel",
     "state": {
      "_dom_classes": [],
      "_model_module": "@jupyter-widgets/controls",
      "_model_module_version": "1.5.0",
      "_model_name": "FloatProgressModel",
      "_view_count": null,
      "_view_module": "@jupyter-widgets/controls",
      "_view_module_version": "1.5.0",
      "_view_name": "ProgressView",
      "bar_style": "success",
      "description": "",
      "description_tooltip": null,
      "layout": "IPY_MODEL_f49163be16d94254b599cdc89c6af311",
      "max": 231508,
      "min": 0,
      "orientation": "horizontal",
      "style": "IPY_MODEL_14e6c464e07f425aa48c91ad8e1a6426",
      "value": 231508
     }
    },
    "f49163be16d94254b599cdc89c6af311": {
     "model_module": "@jupyter-widgets/base",
     "model_module_version": "1.2.0",
     "model_name": "LayoutModel",
     "state": {
      "_model_module": "@jupyter-widgets/base",
      "_model_module_version": "1.2.0",
      "_model_name": "LayoutModel",
      "_view_count": null,
      "_view_module": "@jupyter-widgets/base",
      "_view_module_version": "1.2.0",
      "_view_name": "LayoutView",
      "align_content": null,
      "align_items": null,
      "align_self": null,
      "border": null,
      "bottom": null,
      "display": null,
      "flex": null,
      "flex_flow": null,
      "grid_area": null,
      "grid_auto_columns": null,
      "grid_auto_flow": null,
      "grid_auto_rows": null,
      "grid_column": null,
      "grid_gap": null,
      "grid_row": null,
      "grid_template_areas": null,
      "grid_template_columns": null,
      "grid_template_rows": null,
      "height": null,
      "justify_content": null,
      "justify_items": null,
      "left": null,
      "margin": null,
      "max_height": null,
      "max_width": null,
      "min_height": null,
      "min_width": null,
      "object_fit": null,
      "object_position": null,
      "order": null,
      "overflow": null,
      "overflow_x": null,
      "overflow_y": null,
      "padding": null,
      "right": null,
      "top": null,
      "visibility": null,
      "width": null
     }
    },
    "f7b13a432c764129875900df7e16e115": {
     "model_module": "@jupyter-widgets/base",
     "model_module_version": "1.2.0",
     "model_name": "LayoutModel",
     "state": {
      "_model_module": "@jupyter-widgets/base",
      "_model_module_version": "1.2.0",
      "_model_name": "LayoutModel",
      "_view_count": null,
      "_view_module": "@jupyter-widgets/base",
      "_view_module_version": "1.2.0",
      "_view_name": "LayoutView",
      "align_content": null,
      "align_items": null,
      "align_self": null,
      "border": null,
      "bottom": null,
      "display": null,
      "flex": null,
      "flex_flow": null,
      "grid_area": null,
      "grid_auto_columns": null,
      "grid_auto_flow": null,
      "grid_auto_rows": null,
      "grid_column": null,
      "grid_gap": null,
      "grid_row": null,
      "grid_template_areas": null,
      "grid_template_columns": null,
      "grid_template_rows": null,
      "height": null,
      "justify_content": null,
      "justify_items": null,
      "left": null,
      "margin": null,
      "max_height": null,
      "max_width": null,
      "min_height": null,
      "min_width": null,
      "object_fit": null,
      "object_position": null,
      "order": null,
      "overflow": null,
      "overflow_x": null,
      "overflow_y": null,
      "padding": null,
      "right": null,
      "top": null,
      "visibility": null,
      "width": null
     }
    }
   }
  }
 },
 "nbformat": 4,
 "nbformat_minor": 0
}
